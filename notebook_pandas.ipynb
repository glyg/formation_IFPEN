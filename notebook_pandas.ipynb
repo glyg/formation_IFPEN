{
 "cells": [
  {
   "cell_type": "markdown",
   "metadata": {},
   "source": [
    "# Pandas"
   ]
  },
  {
   "cell_type": "code",
   "execution_count": 1,
   "metadata": {},
   "outputs": [],
   "source": [
    "import pandas as pd\n",
    "import numpy as np\n",
    "%matplotlib inline"
   ]
  },
  {
   "cell_type": "markdown",
   "metadata": {},
   "source": [
    "Function to read temporal CONVERGE files:"
   ]
  },
  {
   "cell_type": "code",
   "execution_count": 2,
   "metadata": {},
   "outputs": [],
   "source": [
    "def read_temp_file(file_name):\n",
    "    pd.options.mode.chained_assignment = None\n",
    "    try:\n",
    "        tab_ = pd.read_csv(file_name, delim_whitespace=True, skiprows=[0,1,3,4])\n",
    "        tab = tab_[tab_.columns[:-1]]\n",
    "        tab.columns = tab_.columns[1:]\n",
    "        return tab\n",
    "    except OSError as e:\n",
    "        print(e)\n",
    "\n",
    "\n",
    "th = read_temp_file('ifpen_data/thermo_region0.out')  # reading temporal file\n",
    "th.head()  # print first 5 lines"
   ]
  },
  {
   "cell_type": "markdown",
   "metadata": {},
   "source": [
    "To get the column 'Pressure', you can do:"
   ]
  },
  {
   "cell_type": "code",
   "execution_count": 10,
   "metadata": {},
   "outputs": [
    {
     "data": {
      "text/plain": [
       "0    0.103412\n",
       "1    0.103291\n",
       "2    0.103146\n",
       "3    0.103027\n",
       "4    0.102909\n",
       "Name: Pressure, dtype: float64"
      ]
     },
     "execution_count": 10,
     "metadata": {},
     "output_type": "execute_result"
    }
   ],
   "source": [
    "th.Pressure.head()\n",
    "# or\n",
    "th['Pressure'].head()"
   ]
  },
  {
   "cell_type": "markdown",
   "metadata": {},
   "source": [
    "If you want the columns 'Pressure' as a numpy array, use the method `to_numpy()`"
   ]
  },
  {
   "cell_type": "code",
   "execution_count": 11,
   "metadata": {},
   "outputs": [
    {
     "data": {
      "text/plain": [
       "array([0.10341197, 0.10329067, 0.10314579, ..., 0.1001328 , 0.10004793,\n",
       "       0.09996507])"
      ]
     },
     "execution_count": 11,
     "metadata": {},
     "output_type": "execute_result"
    }
   ],
   "source": [
    "th.Pressure.values"
   ]
  },
  {
   "cell_type": "code",
   "execution_count": 12,
   "metadata": {},
   "outputs": [
    {
     "data": {
      "text/plain": [
       "['Crank',\n",
       " 'Pressure',\n",
       " 'Max_Pres',\n",
       " 'Min_Pres',\n",
       " 'Mean_Temp',\n",
       " 'Max_Temp',\n",
       " 'Min_Temp',\n",
       " 'Volume',\n",
       " 'Mass',\n",
       " 'Density',\n",
       " 'Integrated_HR',\n",
       " 'HR_Rate',\n",
       " 'C_p',\n",
       " 'C_v',\n",
       " 'Gamma',\n",
       " 'Kin_Visc',\n",
       " 'Dyn_Visc']"
      ]
     },
     "execution_count": 12,
     "metadata": {},
     "output_type": "execute_result"
    }
   ],
   "source": [
    "# getting the list of column names\n",
    "list(th)"
   ]
  },
  {
   "cell_type": "markdown",
   "metadata": {},
   "source": [
    "When printing the datafrage, the column on the left, here starting from 0, is the index of the dataframe. If you slice your dataframe without re-indexing, it will get sliced as well :"
   ]
  },
  {
   "cell_type": "code",
   "execution_count": 13,
   "metadata": {},
   "outputs": [
    {
     "data": {
      "text/html": [
       "<div>\n",
       "<style scoped>\n",
       "    .dataframe tbody tr th:only-of-type {\n",
       "        vertical-align: middle;\n",
       "    }\n",
       "\n",
       "    .dataframe tbody tr th {\n",
       "        vertical-align: top;\n",
       "    }\n",
       "\n",
       "    .dataframe thead th {\n",
       "        text-align: right;\n",
       "    }\n",
       "</style>\n",
       "<table border=\"1\" class=\"dataframe\">\n",
       "  <thead>\n",
       "    <tr style=\"text-align: right;\">\n",
       "      <th></th>\n",
       "      <th>Crank</th>\n",
       "      <th>Pressure</th>\n",
       "      <th>Max_Pres</th>\n",
       "      <th>Min_Pres</th>\n",
       "      <th>Mean_Temp</th>\n",
       "      <th>Max_Temp</th>\n",
       "      <th>Min_Temp</th>\n",
       "      <th>Volume</th>\n",
       "      <th>Mass</th>\n",
       "      <th>Density</th>\n",
       "      <th>Integrated_HR</th>\n",
       "      <th>HR_Rate</th>\n",
       "      <th>C_p</th>\n",
       "      <th>C_v</th>\n",
       "      <th>Gamma</th>\n",
       "      <th>Kin_Visc</th>\n",
       "      <th>Dyn_Visc</th>\n",
       "    </tr>\n",
       "  </thead>\n",
       "  <tbody>\n",
       "    <tr>\n",
       "      <td>100</td>\n",
       "      <td>1770.0076</td>\n",
       "      <td>0.099824</td>\n",
       "      <td>0.100349</td>\n",
       "      <td>0.096300</td>\n",
       "      <td>520.00803</td>\n",
       "      <td>821.31329</td>\n",
       "      <td>372.08569</td>\n",
       "      <td>0.000076</td>\n",
       "      <td>0.000051</td>\n",
       "      <td>0.664741</td>\n",
       "      <td>1183.5114</td>\n",
       "      <td>0.0</td>\n",
       "      <td>1081.8605</td>\n",
       "      <td>793.17065</td>\n",
       "      <td>1.363969</td>\n",
       "      <td>0.000042</td>\n",
       "      <td>0.000027</td>\n",
       "    </tr>\n",
       "    <tr>\n",
       "      <td>101</td>\n",
       "      <td>1770.1042</td>\n",
       "      <td>0.099865</td>\n",
       "      <td>0.099981</td>\n",
       "      <td>0.096350</td>\n",
       "      <td>519.95647</td>\n",
       "      <td>821.07900</td>\n",
       "      <td>372.15413</td>\n",
       "      <td>0.000076</td>\n",
       "      <td>0.000051</td>\n",
       "      <td>0.665075</td>\n",
       "      <td>1183.5114</td>\n",
       "      <td>0.0</td>\n",
       "      <td>1081.8484</td>\n",
       "      <td>793.15837</td>\n",
       "      <td>1.363975</td>\n",
       "      <td>0.000042</td>\n",
       "      <td>0.000027</td>\n",
       "    </tr>\n",
       "    <tr>\n",
       "      <td>102</td>\n",
       "      <td>1770.2009</td>\n",
       "      <td>0.099906</td>\n",
       "      <td>0.100307</td>\n",
       "      <td>0.096409</td>\n",
       "      <td>519.90632</td>\n",
       "      <td>820.83313</td>\n",
       "      <td>372.22097</td>\n",
       "      <td>0.000076</td>\n",
       "      <td>0.000051</td>\n",
       "      <td>0.665412</td>\n",
       "      <td>1183.5114</td>\n",
       "      <td>0.0</td>\n",
       "      <td>1081.8368</td>\n",
       "      <td>793.14649</td>\n",
       "      <td>1.363981</td>\n",
       "      <td>0.000042</td>\n",
       "      <td>0.000027</td>\n",
       "    </tr>\n",
       "    <tr>\n",
       "      <td>103</td>\n",
       "      <td>1770.3169</td>\n",
       "      <td>0.099956</td>\n",
       "      <td>0.100135</td>\n",
       "      <td>0.096470</td>\n",
       "      <td>519.84752</td>\n",
       "      <td>820.52155</td>\n",
       "      <td>372.30004</td>\n",
       "      <td>0.000076</td>\n",
       "      <td>0.000050</td>\n",
       "      <td>0.665821</td>\n",
       "      <td>1183.5114</td>\n",
       "      <td>0.0</td>\n",
       "      <td>1081.8231</td>\n",
       "      <td>793.13247</td>\n",
       "      <td>1.363988</td>\n",
       "      <td>0.000042</td>\n",
       "      <td>0.000027</td>\n",
       "    </tr>\n",
       "    <tr>\n",
       "      <td>104</td>\n",
       "      <td>1770.4136</td>\n",
       "      <td>0.099998</td>\n",
       "      <td>0.100188</td>\n",
       "      <td>0.096541</td>\n",
       "      <td>519.80021</td>\n",
       "      <td>820.24730</td>\n",
       "      <td>372.36675</td>\n",
       "      <td>0.000075</td>\n",
       "      <td>0.000050</td>\n",
       "      <td>0.666164</td>\n",
       "      <td>1183.5114</td>\n",
       "      <td>0.0</td>\n",
       "      <td>1081.8124</td>\n",
       "      <td>793.12144</td>\n",
       "      <td>1.363993</td>\n",
       "      <td>0.000042</td>\n",
       "      <td>0.000027</td>\n",
       "    </tr>\n",
       "  </tbody>\n",
       "</table>\n",
       "</div>"
      ],
      "text/plain": [
       "         Crank  Pressure  Max_Pres  Min_Pres  Mean_Temp   Max_Temp   Min_Temp  \\\n",
       "100  1770.0076  0.099824  0.100349  0.096300  520.00803  821.31329  372.08569   \n",
       "101  1770.1042  0.099865  0.099981  0.096350  519.95647  821.07900  372.15413   \n",
       "102  1770.2009  0.099906  0.100307  0.096409  519.90632  820.83313  372.22097   \n",
       "103  1770.3169  0.099956  0.100135  0.096470  519.84752  820.52155  372.30004   \n",
       "104  1770.4136  0.099998  0.100188  0.096541  519.80021  820.24730  372.36675   \n",
       "\n",
       "       Volume      Mass   Density  Integrated_HR  HR_Rate        C_p  \\\n",
       "100  0.000076  0.000051  0.664741      1183.5114      0.0  1081.8605   \n",
       "101  0.000076  0.000051  0.665075      1183.5114      0.0  1081.8484   \n",
       "102  0.000076  0.000051  0.665412      1183.5114      0.0  1081.8368   \n",
       "103  0.000076  0.000050  0.665821      1183.5114      0.0  1081.8231   \n",
       "104  0.000075  0.000050  0.666164      1183.5114      0.0  1081.8124   \n",
       "\n",
       "           C_v     Gamma  Kin_Visc  Dyn_Visc  \n",
       "100  793.17065  1.363969  0.000042  0.000027  \n",
       "101  793.15837  1.363975  0.000042  0.000027  \n",
       "102  793.14649  1.363981  0.000042  0.000027  \n",
       "103  793.13247  1.363988  0.000042  0.000027  \n",
       "104  793.12144  1.363993  0.000042  0.000027  "
      ]
     },
     "execution_count": 13,
     "metadata": {},
     "output_type": "execute_result"
    }
   ],
   "source": [
    "th_slice1 = th[(th.Crank > 1770)]\n",
    "th_slice1.head()"
   ]
  },
  {
   "cell_type": "markdown",
   "metadata": {},
   "source": [
    "So getting values from a particular line can get a bit tricky if you don't pay attention...\n",
    "You can use mainly two functions : \n",
    "- loc: selects the row(s) based on the value of the dataframe index\n",
    "- iloc: selects the row(s) based on their position (the first one will always be zero, not matter how sliced it was)\n",
    "    "
   ]
  },
  {
   "cell_type": "code",
   "execution_count": 60,
   "metadata": {},
   "outputs": [
    {
     "data": {
      "text/html": [
       "<div>\n",
       "<style scoped>\n",
       "    .dataframe tbody tr th:only-of-type {\n",
       "        vertical-align: middle;\n",
       "    }\n",
       "\n",
       "    .dataframe tbody tr th {\n",
       "        vertical-align: top;\n",
       "    }\n",
       "\n",
       "    .dataframe thead th {\n",
       "        text-align: right;\n",
       "    }\n",
       "</style>\n",
       "<table border=\"1\" class=\"dataframe\">\n",
       "  <thead>\n",
       "    <tr style=\"text-align: right;\">\n",
       "      <th></th>\n",
       "      <th>Crank</th>\n",
       "      <th>Pressure</th>\n",
       "      <th>Max_Pres</th>\n",
       "      <th>Min_Pres</th>\n",
       "      <th>Mean_Temp</th>\n",
       "      <th>Max_Temp</th>\n",
       "      <th>Min_Temp</th>\n",
       "      <th>Volume</th>\n",
       "      <th>Mass</th>\n",
       "      <th>Density</th>\n",
       "      <th>Integrated_HR</th>\n",
       "      <th>HR_Rate</th>\n",
       "      <th>C_p</th>\n",
       "      <th>C_v</th>\n",
       "      <th>Gamma</th>\n",
       "      <th>Kin_Visc</th>\n",
       "      <th>Dyn_Visc</th>\n",
       "    </tr>\n",
       "  </thead>\n",
       "  <tbody>\n",
       "    <tr>\n",
       "      <td>count</td>\n",
       "      <td>7229.000000</td>\n",
       "      <td>7229.000000</td>\n",
       "      <td>7229.000000</td>\n",
       "      <td>7229.000000</td>\n",
       "      <td>7229.000000</td>\n",
       "      <td>7229.000000</td>\n",
       "      <td>7229.000000</td>\n",
       "      <td>7229.000000</td>\n",
       "      <td>7229.000000</td>\n",
       "      <td>7229.000000</td>\n",
       "      <td>7229.000000</td>\n",
       "      <td>7.229000e+03</td>\n",
       "      <td>7229.000000</td>\n",
       "      <td>7229.000000</td>\n",
       "      <td>7229.000000</td>\n",
       "      <td>7229.000000</td>\n",
       "      <td>7229.000000</td>\n",
       "    </tr>\n",
       "    <tr>\n",
       "      <td>mean</td>\n",
       "      <td>2121.409422</td>\n",
       "      <td>0.477188</td>\n",
       "      <td>0.481204</td>\n",
       "      <td>0.468325</td>\n",
       "      <td>607.394505</td>\n",
       "      <td>1070.323203</td>\n",
       "      <td>359.239137</td>\n",
       "      <td>0.000278</td>\n",
       "      <td>0.000337</td>\n",
       "      <td>1.935247</td>\n",
       "      <td>1361.427831</td>\n",
       "      <td>5.524022e-01</td>\n",
       "      <td>1094.498624</td>\n",
       "      <td>805.894728</td>\n",
       "      <td>1.360216</td>\n",
       "      <td>0.000029</td>\n",
       "      <td>0.000030</td>\n",
       "    </tr>\n",
       "    <tr>\n",
       "      <td>std</td>\n",
       "      <td>208.697475</td>\n",
       "      <td>0.916061</td>\n",
       "      <td>0.927264</td>\n",
       "      <td>0.911130</td>\n",
       "      <td>254.996442</td>\n",
       "      <td>620.133922</td>\n",
       "      <td>67.478529</td>\n",
       "      <td>0.000159</td>\n",
       "      <td>0.000170</td>\n",
       "      <td>2.538898</td>\n",
       "      <td>194.777411</td>\n",
       "      <td>2.452914e+00</td>\n",
       "      <td>63.508121</td>\n",
       "      <td>63.382687</td>\n",
       "      <td>0.026826</td>\n",
       "      <td>0.000016</td>\n",
       "      <td>0.000008</td>\n",
       "    </tr>\n",
       "    <tr>\n",
       "      <td>min</td>\n",
       "      <td>1760.003900</td>\n",
       "      <td>0.073031</td>\n",
       "      <td>0.074899</td>\n",
       "      <td>0.069199</td>\n",
       "      <td>357.468330</td>\n",
       "      <td>478.400830</td>\n",
       "      <td>278.097350</td>\n",
       "      <td>0.000039</td>\n",
       "      <td>0.000026</td>\n",
       "      <td>0.537732</td>\n",
       "      <td>1183.511400</td>\n",
       "      <td>-7.232805e-13</td>\n",
       "      <td>1026.189500</td>\n",
       "      <td>737.650880</td>\n",
       "      <td>1.298182</td>\n",
       "      <td>0.000004</td>\n",
       "      <td>0.000021</td>\n",
       "    </tr>\n",
       "    <tr>\n",
       "      <td>25%</td>\n",
       "      <td>1940.708200</td>\n",
       "      <td>0.097116</td>\n",
       "      <td>0.097917</td>\n",
       "      <td>0.093437</td>\n",
       "      <td>381.182110</td>\n",
       "      <td>571.429220</td>\n",
       "      <td>314.788760</td>\n",
       "      <td>0.000119</td>\n",
       "      <td>0.000184</td>\n",
       "      <td>0.659603</td>\n",
       "      <td>1183.511400</td>\n",
       "      <td>0.000000e+00</td>\n",
       "      <td>1031.772800</td>\n",
       "      <td>743.218850</td>\n",
       "      <td>1.344195</td>\n",
       "      <td>0.000018</td>\n",
       "      <td>0.000022</td>\n",
       "    </tr>\n",
       "    <tr>\n",
       "      <td>50%</td>\n",
       "      <td>2121.410000</td>\n",
       "      <td>0.109036</td>\n",
       "      <td>0.109368</td>\n",
       "      <td>0.104561</td>\n",
       "      <td>592.502290</td>\n",
       "      <td>814.086850</td>\n",
       "      <td>329.674950</td>\n",
       "      <td>0.000293</td>\n",
       "      <td>0.000434</td>\n",
       "      <td>0.928695</td>\n",
       "      <td>1183.511400</td>\n",
       "      <td>0.000000e+00</td>\n",
       "      <td>1085.377200</td>\n",
       "      <td>796.786070</td>\n",
       "      <td>1.362256</td>\n",
       "      <td>0.000025</td>\n",
       "      <td>0.000030</td>\n",
       "    </tr>\n",
       "    <tr>\n",
       "      <td>75%</td>\n",
       "      <td>2302.100500</td>\n",
       "      <td>0.299539</td>\n",
       "      <td>0.299821</td>\n",
       "      <td>0.299287</td>\n",
       "      <td>703.803610</td>\n",
       "      <td>1334.523900</td>\n",
       "      <td>384.260990</td>\n",
       "      <td>0.000437</td>\n",
       "      <td>0.000486</td>\n",
       "      <td>1.618521</td>\n",
       "      <td>1583.087900</td>\n",
       "      <td>0.000000e+00</td>\n",
       "      <td>1126.583500</td>\n",
       "      <td>838.024440</td>\n",
       "      <td>1.388249</td>\n",
       "      <td>0.000040</td>\n",
       "      <td>0.000033</td>\n",
       "    </tr>\n",
       "    <tr>\n",
       "      <td>max</td>\n",
       "      <td>2482.803900</td>\n",
       "      <td>4.658399</td>\n",
       "      <td>9.116243</td>\n",
       "      <td>4.652231</td>\n",
       "      <td>1420.522900</td>\n",
       "      <td>2765.811300</td>\n",
       "      <td>677.897500</td>\n",
       "      <td>0.000487</td>\n",
       "      <td>0.000490</td>\n",
       "      <td>11.965884</td>\n",
       "      <td>1583.087900</td>\n",
       "      <td>1.941425e+01</td>\n",
       "      <td>1261.798900</td>\n",
       "      <td>971.971850</td>\n",
       "      <td>1.391159</td>\n",
       "      <td>0.000058</td>\n",
       "      <td>0.000053</td>\n",
       "    </tr>\n",
       "  </tbody>\n",
       "</table>\n",
       "</div>"
      ],
      "text/plain": [
       "             Crank     Pressure     Max_Pres     Min_Pres    Mean_Temp  \\\n",
       "count  7229.000000  7229.000000  7229.000000  7229.000000  7229.000000   \n",
       "mean   2121.409422     0.477188     0.481204     0.468325   607.394505   \n",
       "std     208.697475     0.916061     0.927264     0.911130   254.996442   \n",
       "min    1760.003900     0.073031     0.074899     0.069199   357.468330   \n",
       "25%    1940.708200     0.097116     0.097917     0.093437   381.182110   \n",
       "50%    2121.410000     0.109036     0.109368     0.104561   592.502290   \n",
       "75%    2302.100500     0.299539     0.299821     0.299287   703.803610   \n",
       "max    2482.803900     4.658399     9.116243     4.652231  1420.522900   \n",
       "\n",
       "          Max_Temp     Min_Temp       Volume         Mass      Density  \\\n",
       "count  7229.000000  7229.000000  7229.000000  7229.000000  7229.000000   \n",
       "mean   1070.323203   359.239137     0.000278     0.000337     1.935247   \n",
       "std     620.133922    67.478529     0.000159     0.000170     2.538898   \n",
       "min     478.400830   278.097350     0.000039     0.000026     0.537732   \n",
       "25%     571.429220   314.788760     0.000119     0.000184     0.659603   \n",
       "50%     814.086850   329.674950     0.000293     0.000434     0.928695   \n",
       "75%    1334.523900   384.260990     0.000437     0.000486     1.618521   \n",
       "max    2765.811300   677.897500     0.000487     0.000490    11.965884   \n",
       "\n",
       "       Integrated_HR       HR_Rate          C_p          C_v        Gamma  \\\n",
       "count    7229.000000  7.229000e+03  7229.000000  7229.000000  7229.000000   \n",
       "mean     1361.427831  5.524022e-01  1094.498624   805.894728     1.360216   \n",
       "std       194.777411  2.452914e+00    63.508121    63.382687     0.026826   \n",
       "min      1183.511400 -7.232805e-13  1026.189500   737.650880     1.298182   \n",
       "25%      1183.511400  0.000000e+00  1031.772800   743.218850     1.344195   \n",
       "50%      1183.511400  0.000000e+00  1085.377200   796.786070     1.362256   \n",
       "75%      1583.087900  0.000000e+00  1126.583500   838.024440     1.388249   \n",
       "max      1583.087900  1.941425e+01  1261.798900   971.971850     1.391159   \n",
       "\n",
       "          Kin_Visc     Dyn_Visc  \n",
       "count  7229.000000  7229.000000  \n",
       "mean      0.000029     0.000030  \n",
       "std       0.000016     0.000008  \n",
       "min       0.000004     0.000021  \n",
       "25%       0.000018     0.000022  \n",
       "50%       0.000025     0.000030  \n",
       "75%       0.000040     0.000033  \n",
       "max       0.000058     0.000053  "
      ]
     },
     "execution_count": 60,
     "metadata": {},
     "output_type": "execute_result"
    }
   ],
   "source": [
    "th.describe()"
   ]
  },
  {
   "cell_type": "markdown",
   "metadata": {},
   "source": [
    "### Access a particular row by position : iloc"
   ]
  },
  {
   "cell_type": "code",
   "execution_count": 14,
   "metadata": {},
   "outputs": [
    {
     "data": {
      "text/plain": [
       "Crank            1760.003900\n",
       "Pressure            0.103412\n",
       "Max_Pres            0.103601\n",
       "Min_Pres            0.096541\n",
       "Mean_Temp         540.233390\n",
       "Max_Temp          936.357650\n",
       "Min_Temp          373.313660\n",
       "Volume              0.000103\n",
       "Mass                0.000068\n",
       "Density             0.662882\n",
       "Integrated_HR    1183.511400\n",
       "HR_Rate             0.000000\n",
       "C_p              1086.785500\n",
       "C_v               798.118500\n",
       "Gamma               1.361684\n",
       "Kin_Visc            0.000043\n",
       "Dyn_Visc            0.000028\n",
       "Name: 0, dtype: float64"
      ]
     },
     "execution_count": 14,
     "metadata": {},
     "output_type": "execute_result"
    }
   ],
   "source": [
    "#getting the first row :\n",
    "th.iloc[0]"
   ]
  },
  {
   "cell_type": "code",
   "execution_count": 15,
   "metadata": {},
   "outputs": [
    {
     "data": {
      "text/plain": [
       "540.23339"
      ]
     },
     "execution_count": 15,
     "metadata": {},
     "output_type": "execute_result"
    }
   ],
   "source": [
    "# get the mean temperature at the beginning of the simulation\n",
    "th.iloc[0].Mean_Temp\n",
    "# or\n",
    "# th['Mean_Temp'].iloc[0]\n",
    "#th.iloc[-1].Mean_Temp  get the mean temperature at  the end of the simulation"
   ]
  },
  {
   "cell_type": "markdown",
   "metadata": {},
   "source": [
    "### Acces a particular row by label: loc"
   ]
  },
  {
   "cell_type": "code",
   "execution_count": 16,
   "metadata": {},
   "outputs": [
    {
     "data": {
      "text/plain": [
       "1770.0076"
      ]
     },
     "execution_count": 16,
     "metadata": {},
     "output_type": "execute_result"
    }
   ],
   "source": [
    "th_slice1.loc[100].Crank"
   ]
  },
  {
   "cell_type": "code",
   "execution_count": 17,
   "metadata": {},
   "outputs": [
    {
     "data": {
      "text/plain": [
       "1770.0076"
      ]
     },
     "execution_count": 17,
     "metadata": {},
     "output_type": "execute_result"
    }
   ],
   "source": [
    "# this is equivalent to:\n",
    "th_slice1.iloc[0].Crank"
   ]
  },
  {
   "cell_type": "code",
   "execution_count": 18,
   "metadata": {},
   "outputs": [
    {
     "data": {
      "text/plain": [
       "2165.2039"
      ]
     },
     "execution_count": 18,
     "metadata": {},
     "output_type": "execute_result"
    }
   ],
   "source": [
    "# crank angle of the maximum pressure\n",
    "idxMax = th.Pressure.idxmax() # idxmax returns a dataframe index, not a position!! so loc is needed\n",
    "th.loc[idxMax].Crank"
   ]
  },
  {
   "cell_type": "markdown",
   "metadata": {},
   "source": [
    "### To get data at a particular crank angle:"
   ]
  },
  {
   "cell_type": "code",
   "execution_count": 19,
   "metadata": {},
   "outputs": [
    {
     "data": {
      "text/html": [
       "<div>\n",
       "<style scoped>\n",
       "    .dataframe tbody tr th:only-of-type {\n",
       "        vertical-align: middle;\n",
       "    }\n",
       "\n",
       "    .dataframe tbody tr th {\n",
       "        vertical-align: top;\n",
       "    }\n",
       "\n",
       "    .dataframe thead th {\n",
       "        text-align: right;\n",
       "    }\n",
       "</style>\n",
       "<table border=\"1\" class=\"dataframe\">\n",
       "  <thead>\n",
       "    <tr style=\"text-align: right;\">\n",
       "      <th></th>\n",
       "      <th>Crank</th>\n",
       "      <th>Pressure</th>\n",
       "      <th>Max_Pres</th>\n",
       "      <th>Min_Pres</th>\n",
       "      <th>Mean_Temp</th>\n",
       "      <th>Max_Temp</th>\n",
       "      <th>Min_Temp</th>\n",
       "      <th>Volume</th>\n",
       "      <th>Mass</th>\n",
       "      <th>Density</th>\n",
       "      <th>Integrated_HR</th>\n",
       "      <th>HR_Rate</th>\n",
       "      <th>C_p</th>\n",
       "      <th>C_v</th>\n",
       "      <th>Gamma</th>\n",
       "      <th>Kin_Visc</th>\n",
       "      <th>Dyn_Visc</th>\n",
       "    </tr>\n",
       "  </thead>\n",
       "  <tbody>\n",
       "    <tr>\n",
       "      <td>100</td>\n",
       "      <td>1770.0076</td>\n",
       "      <td>0.099824</td>\n",
       "      <td>0.100349</td>\n",
       "      <td>0.0963</td>\n",
       "      <td>520.00803</td>\n",
       "      <td>821.31329</td>\n",
       "      <td>372.08569</td>\n",
       "      <td>0.000076</td>\n",
       "      <td>0.000051</td>\n",
       "      <td>0.664741</td>\n",
       "      <td>1183.5114</td>\n",
       "      <td>0.0</td>\n",
       "      <td>1081.8605</td>\n",
       "      <td>793.17065</td>\n",
       "      <td>1.363969</td>\n",
       "      <td>0.000042</td>\n",
       "      <td>0.000027</td>\n",
       "    </tr>\n",
       "  </tbody>\n",
       "</table>\n",
       "</div>"
      ],
      "text/plain": [
       "         Crank  Pressure  Max_Pres  Min_Pres  Mean_Temp   Max_Temp   Min_Temp  \\\n",
       "100  1770.0076  0.099824  0.100349    0.0963  520.00803  821.31329  372.08569   \n",
       "\n",
       "       Volume      Mass   Density  Integrated_HR  HR_Rate        C_p  \\\n",
       "100  0.000076  0.000051  0.664741      1183.5114      0.0  1081.8605   \n",
       "\n",
       "           C_v     Gamma  Kin_Visc  Dyn_Visc  \n",
       "100  793.17065  1.363969  0.000042  0.000027  "
      ]
     },
     "execution_count": 19,
     "metadata": {},
     "output_type": "execute_result"
    }
   ],
   "source": [
    "crank0 = 1770.0\n",
    "th.iloc[(th['Crank']-crank0).abs().argsort()[:1]]\n",
    "# this return a dataFrame"
   ]
  },
  {
   "cell_type": "code",
   "execution_count": 20,
   "metadata": {},
   "outputs": [],
   "source": [
    "# turning this into a function, because it's more convenient...\n",
    "def getCrank(df, crank):\n",
    "    return df.iloc[(df['Crank']-crank).abs().argsort()[:1]]"
   ]
  },
  {
   "cell_type": "code",
   "execution_count": 21,
   "metadata": {},
   "outputs": [
    {
     "data": {
      "text/plain": [
       "200    0.104252\n",
       "Name: Pressure, dtype: float64"
      ]
     },
     "execution_count": 21,
     "metadata": {},
     "output_type": "execute_result"
    }
   ],
   "source": [
    "# now, we get the mean cylinder pressure at crank=1780 CAD:\n",
    "getCrank(th, 1780.0).Pressure"
   ]
  },
  {
   "cell_type": "code",
   "execution_count": null,
   "metadata": {},
   "outputs": [],
   "source": []
  },
  {
   "cell_type": "code",
   "execution_count": 22,
   "metadata": {},
   "outputs": [
    {
     "data": {
      "text/html": [
       "<div>\n",
       "<style scoped>\n",
       "    .dataframe tbody tr th:only-of-type {\n",
       "        vertical-align: middle;\n",
       "    }\n",
       "\n",
       "    .dataframe tbody tr th {\n",
       "        vertical-align: top;\n",
       "    }\n",
       "\n",
       "    .dataframe thead th {\n",
       "        text-align: right;\n",
       "    }\n",
       "</style>\n",
       "<table border=\"1\" class=\"dataframe\">\n",
       "  <thead>\n",
       "    <tr style=\"text-align: right;\">\n",
       "      <th></th>\n",
       "      <th>Crank</th>\n",
       "      <th>Pressure</th>\n",
       "      <th>Max_Pres</th>\n",
       "      <th>Min_Pres</th>\n",
       "      <th>Mean_Temp</th>\n",
       "      <th>Max_Temp</th>\n",
       "      <th>Min_Temp</th>\n",
       "      <th>Volume</th>\n",
       "      <th>Mass</th>\n",
       "      <th>Density</th>\n",
       "      <th>Integrated_HR</th>\n",
       "      <th>HR_Rate</th>\n",
       "      <th>C_p</th>\n",
       "      <th>C_v</th>\n",
       "      <th>Gamma</th>\n",
       "      <th>Kin_Visc</th>\n",
       "      <th>Dyn_Visc</th>\n",
       "    </tr>\n",
       "  </thead>\n",
       "  <tbody>\n",
       "    <tr>\n",
       "      <td>100</td>\n",
       "      <td>1770.0076</td>\n",
       "      <td>0.099824</td>\n",
       "      <td>0.100349</td>\n",
       "      <td>0.096300</td>\n",
       "      <td>520.00803</td>\n",
       "      <td>821.31329</td>\n",
       "      <td>372.08569</td>\n",
       "      <td>0.000076</td>\n",
       "      <td>0.000051</td>\n",
       "      <td>0.664741</td>\n",
       "      <td>1183.5114</td>\n",
       "      <td>0.0</td>\n",
       "      <td>1081.8605</td>\n",
       "      <td>793.17065</td>\n",
       "      <td>1.363969</td>\n",
       "      <td>0.000042</td>\n",
       "      <td>0.000027</td>\n",
       "    </tr>\n",
       "    <tr>\n",
       "      <td>101</td>\n",
       "      <td>1770.1042</td>\n",
       "      <td>0.099865</td>\n",
       "      <td>0.099981</td>\n",
       "      <td>0.096350</td>\n",
       "      <td>519.95647</td>\n",
       "      <td>821.07900</td>\n",
       "      <td>372.15413</td>\n",
       "      <td>0.000076</td>\n",
       "      <td>0.000051</td>\n",
       "      <td>0.665075</td>\n",
       "      <td>1183.5114</td>\n",
       "      <td>0.0</td>\n",
       "      <td>1081.8484</td>\n",
       "      <td>793.15837</td>\n",
       "      <td>1.363975</td>\n",
       "      <td>0.000042</td>\n",
       "      <td>0.000027</td>\n",
       "    </tr>\n",
       "    <tr>\n",
       "      <td>102</td>\n",
       "      <td>1770.2009</td>\n",
       "      <td>0.099906</td>\n",
       "      <td>0.100307</td>\n",
       "      <td>0.096409</td>\n",
       "      <td>519.90632</td>\n",
       "      <td>820.83313</td>\n",
       "      <td>372.22097</td>\n",
       "      <td>0.000076</td>\n",
       "      <td>0.000051</td>\n",
       "      <td>0.665412</td>\n",
       "      <td>1183.5114</td>\n",
       "      <td>0.0</td>\n",
       "      <td>1081.8368</td>\n",
       "      <td>793.14649</td>\n",
       "      <td>1.363981</td>\n",
       "      <td>0.000042</td>\n",
       "      <td>0.000027</td>\n",
       "    </tr>\n",
       "    <tr>\n",
       "      <td>103</td>\n",
       "      <td>1770.3169</td>\n",
       "      <td>0.099956</td>\n",
       "      <td>0.100135</td>\n",
       "      <td>0.096470</td>\n",
       "      <td>519.84752</td>\n",
       "      <td>820.52155</td>\n",
       "      <td>372.30004</td>\n",
       "      <td>0.000076</td>\n",
       "      <td>0.000050</td>\n",
       "      <td>0.665821</td>\n",
       "      <td>1183.5114</td>\n",
       "      <td>0.0</td>\n",
       "      <td>1081.8231</td>\n",
       "      <td>793.13247</td>\n",
       "      <td>1.363988</td>\n",
       "      <td>0.000042</td>\n",
       "      <td>0.000027</td>\n",
       "    </tr>\n",
       "    <tr>\n",
       "      <td>104</td>\n",
       "      <td>1770.4136</td>\n",
       "      <td>0.099998</td>\n",
       "      <td>0.100188</td>\n",
       "      <td>0.096541</td>\n",
       "      <td>519.80021</td>\n",
       "      <td>820.24730</td>\n",
       "      <td>372.36675</td>\n",
       "      <td>0.000075</td>\n",
       "      <td>0.000050</td>\n",
       "      <td>0.666164</td>\n",
       "      <td>1183.5114</td>\n",
       "      <td>0.0</td>\n",
       "      <td>1081.8124</td>\n",
       "      <td>793.12144</td>\n",
       "      <td>1.363993</td>\n",
       "      <td>0.000042</td>\n",
       "      <td>0.000027</td>\n",
       "    </tr>\n",
       "  </tbody>\n",
       "</table>\n",
       "</div>"
      ],
      "text/plain": [
       "         Crank  Pressure  Max_Pres  Min_Pres  Mean_Temp   Max_Temp   Min_Temp  \\\n",
       "100  1770.0076  0.099824  0.100349  0.096300  520.00803  821.31329  372.08569   \n",
       "101  1770.1042  0.099865  0.099981  0.096350  519.95647  821.07900  372.15413   \n",
       "102  1770.2009  0.099906  0.100307  0.096409  519.90632  820.83313  372.22097   \n",
       "103  1770.3169  0.099956  0.100135  0.096470  519.84752  820.52155  372.30004   \n",
       "104  1770.4136  0.099998  0.100188  0.096541  519.80021  820.24730  372.36675   \n",
       "\n",
       "       Volume      Mass   Density  Integrated_HR  HR_Rate        C_p  \\\n",
       "100  0.000076  0.000051  0.664741      1183.5114      0.0  1081.8605   \n",
       "101  0.000076  0.000051  0.665075      1183.5114      0.0  1081.8484   \n",
       "102  0.000076  0.000051  0.665412      1183.5114      0.0  1081.8368   \n",
       "103  0.000076  0.000050  0.665821      1183.5114      0.0  1081.8231   \n",
       "104  0.000075  0.000050  0.666164      1183.5114      0.0  1081.8124   \n",
       "\n",
       "           C_v     Gamma  Kin_Visc  Dyn_Visc  \n",
       "100  793.17065  1.363969  0.000042  0.000027  \n",
       "101  793.15837  1.363975  0.000042  0.000027  \n",
       "102  793.14649  1.363981  0.000042  0.000027  \n",
       "103  793.13247  1.363988  0.000042  0.000027  \n",
       "104  793.12144  1.363993  0.000042  0.000027  "
      ]
     },
     "execution_count": 22,
     "metadata": {},
     "output_type": "execute_result"
    }
   ],
   "source": [
    "# imagine you need to slice your dataframe, without re-indexing:\n",
    "th_slice = th[(th.Crank > 1770) & (th.Crank < 1800)]\n",
    "th_slice.head()"
   ]
  },
  {
   "cell_type": "code",
   "execution_count": 23,
   "metadata": {},
   "outputs": [
    {
     "name": "stdout",
     "output_type": "stream",
     "text": [
      "iloc[0]: 1760.0039\n",
      "iloc[0] for sliced dataframe: 1770.0076\n"
     ]
    }
   ],
   "source": [
    "# the iloc is based on position, so no matter how you sliced your dataframe, iloc[0] will always get you the first line:\n",
    "\n",
    "c0 = th.iloc[0].Crank\n",
    "c0_slice = th_slice.iloc[0].Crank\n",
    "\n",
    "print('iloc[0]: '+str(c0))\n",
    "print('iloc[0] for sliced dataframe: '+str(c0_slice))"
   ]
  },
  {
   "cell_type": "code",
   "execution_count": 24,
   "metadata": {},
   "outputs": [
    {
     "data": {
      "text/html": [
       "<div>\n",
       "<style scoped>\n",
       "    .dataframe tbody tr th:only-of-type {\n",
       "        vertical-align: middle;\n",
       "    }\n",
       "\n",
       "    .dataframe tbody tr th {\n",
       "        vertical-align: top;\n",
       "    }\n",
       "\n",
       "    .dataframe thead th {\n",
       "        text-align: right;\n",
       "    }\n",
       "</style>\n",
       "<table border=\"1\" class=\"dataframe\">\n",
       "  <thead>\n",
       "    <tr style=\"text-align: right;\">\n",
       "      <th></th>\n",
       "      <th>Crank</th>\n",
       "      <th>Pressure</th>\n",
       "      <th>Max_Pres</th>\n",
       "      <th>Min_Pres</th>\n",
       "      <th>Mean_Temp</th>\n",
       "      <th>Max_Temp</th>\n",
       "      <th>Min_Temp</th>\n",
       "      <th>Volume</th>\n",
       "      <th>Mass</th>\n",
       "      <th>Density</th>\n",
       "      <th>Integrated_HR</th>\n",
       "      <th>HR_Rate</th>\n",
       "      <th>C_p</th>\n",
       "      <th>C_v</th>\n",
       "      <th>Gamma</th>\n",
       "      <th>Kin_Visc</th>\n",
       "      <th>Dyn_Visc</th>\n",
       "    </tr>\n",
       "  </thead>\n",
       "  <tbody>\n",
       "    <tr>\n",
       "      <td>104</td>\n",
       "      <td>1770.4136</td>\n",
       "      <td>0.099998</td>\n",
       "      <td>0.100188</td>\n",
       "      <td>0.096541</td>\n",
       "      <td>519.80021</td>\n",
       "      <td>820.2473</td>\n",
       "      <td>372.36675</td>\n",
       "      <td>0.000075</td>\n",
       "      <td>0.00005</td>\n",
       "      <td>0.666164</td>\n",
       "      <td>1183.5114</td>\n",
       "      <td>0.0</td>\n",
       "      <td>1081.8124</td>\n",
       "      <td>793.12144</td>\n",
       "      <td>1.363993</td>\n",
       "      <td>0.000042</td>\n",
       "      <td>0.000027</td>\n",
       "    </tr>\n",
       "  </tbody>\n",
       "</table>\n",
       "</div>"
      ],
      "text/plain": [
       "         Crank  Pressure  Max_Pres  Min_Pres  Mean_Temp  Max_Temp   Min_Temp  \\\n",
       "104  1770.4136  0.099998  0.100188  0.096541  519.80021  820.2473  372.36675   \n",
       "\n",
       "       Volume     Mass   Density  Integrated_HR  HR_Rate        C_p  \\\n",
       "104  0.000075  0.00005  0.666164      1183.5114      0.0  1081.8124   \n",
       "\n",
       "           C_v     Gamma  Kin_Visc  Dyn_Visc  \n",
       "104  793.12144  1.363993  0.000042  0.000027  "
      ]
     },
     "execution_count": 24,
     "metadata": {},
     "output_type": "execute_result"
    }
   ],
   "source": [
    "# the function \"getCrank\" will work, even after slices without re-indexing\n",
    "getCrank(th_slice, 1770.4)"
   ]
  },
  {
   "cell_type": "markdown",
   "metadata": {},
   "source": [
    "### Boolean indexing"
   ]
  },
  {
   "cell_type": "code",
   "execution_count": 25,
   "metadata": {},
   "outputs": [
    {
     "data": {
      "text/html": [
       "<div>\n",
       "<style scoped>\n",
       "    .dataframe tbody tr th:only-of-type {\n",
       "        vertical-align: middle;\n",
       "    }\n",
       "\n",
       "    .dataframe tbody tr th {\n",
       "        vertical-align: top;\n",
       "    }\n",
       "\n",
       "    .dataframe thead th {\n",
       "        text-align: right;\n",
       "    }\n",
       "</style>\n",
       "<table border=\"1\" class=\"dataframe\">\n",
       "  <thead>\n",
       "    <tr style=\"text-align: right;\">\n",
       "      <th></th>\n",
       "      <th>Crank</th>\n",
       "      <th>Pressure</th>\n",
       "      <th>Max_Pres</th>\n",
       "      <th>Min_Pres</th>\n",
       "      <th>Mean_Temp</th>\n",
       "      <th>Max_Temp</th>\n",
       "      <th>Min_Temp</th>\n",
       "      <th>Volume</th>\n",
       "      <th>Mass</th>\n",
       "      <th>Density</th>\n",
       "      <th>Integrated_HR</th>\n",
       "      <th>HR_Rate</th>\n",
       "      <th>C_p</th>\n",
       "      <th>C_v</th>\n",
       "      <th>Gamma</th>\n",
       "      <th>Kin_Visc</th>\n",
       "      <th>Dyn_Visc</th>\n",
       "    </tr>\n",
       "  </thead>\n",
       "  <tbody>\n",
       "    <tr>\n",
       "      <td>400</td>\n",
       "      <td>1800.0049</td>\n",
       "      <td>0.096068</td>\n",
       "      <td>0.096973</td>\n",
       "      <td>0.095519</td>\n",
       "      <td>491.33896</td>\n",
       "      <td>703.89478</td>\n",
       "      <td>366.35846</td>\n",
       "      <td>0.000039</td>\n",
       "      <td>0.000026</td>\n",
       "      <td>0.677121</td>\n",
       "      <td>1183.5114</td>\n",
       "      <td>0.0</td>\n",
       "      <td>1074.7093</td>\n",
       "      <td>786.01967</td>\n",
       "      <td>1.367280</td>\n",
       "      <td>0.000039</td>\n",
       "      <td>0.000026</td>\n",
       "    </tr>\n",
       "    <tr>\n",
       "      <td>401</td>\n",
       "      <td>1800.1047</td>\n",
       "      <td>0.096044</td>\n",
       "      <td>0.096916</td>\n",
       "      <td>0.095494</td>\n",
       "      <td>491.30243</td>\n",
       "      <td>703.48364</td>\n",
       "      <td>366.62038</td>\n",
       "      <td>0.000039</td>\n",
       "      <td>0.000026</td>\n",
       "      <td>0.677004</td>\n",
       "      <td>1183.5114</td>\n",
       "      <td>0.0</td>\n",
       "      <td>1074.6991</td>\n",
       "      <td>786.00973</td>\n",
       "      <td>1.367285</td>\n",
       "      <td>0.000039</td>\n",
       "      <td>0.000026</td>\n",
       "    </tr>\n",
       "    <tr>\n",
       "      <td>402</td>\n",
       "      <td>1800.2037</td>\n",
       "      <td>0.096024</td>\n",
       "      <td>0.096868</td>\n",
       "      <td>0.095418</td>\n",
       "      <td>491.26934</td>\n",
       "      <td>703.05635</td>\n",
       "      <td>366.87204</td>\n",
       "      <td>0.000039</td>\n",
       "      <td>0.000026</td>\n",
       "      <td>0.676907</td>\n",
       "      <td>1183.5114</td>\n",
       "      <td>0.0</td>\n",
       "      <td>1074.6893</td>\n",
       "      <td>786.00014</td>\n",
       "      <td>1.367289</td>\n",
       "      <td>0.000039</td>\n",
       "      <td>0.000026</td>\n",
       "    </tr>\n",
       "    <tr>\n",
       "      <td>403</td>\n",
       "      <td>1800.3029</td>\n",
       "      <td>0.096007</td>\n",
       "      <td>0.096866</td>\n",
       "      <td>0.095447</td>\n",
       "      <td>491.24137</td>\n",
       "      <td>702.62314</td>\n",
       "      <td>366.98363</td>\n",
       "      <td>0.000039</td>\n",
       "      <td>0.000026</td>\n",
       "      <td>0.676827</td>\n",
       "      <td>1183.5114</td>\n",
       "      <td>0.0</td>\n",
       "      <td>1074.6800</td>\n",
       "      <td>785.99120</td>\n",
       "      <td>1.367293</td>\n",
       "      <td>0.000039</td>\n",
       "      <td>0.000026</td>\n",
       "    </tr>\n",
       "    <tr>\n",
       "      <td>404</td>\n",
       "      <td>1800.4019</td>\n",
       "      <td>0.095993</td>\n",
       "      <td>0.096832</td>\n",
       "      <td>0.095428</td>\n",
       "      <td>491.21663</td>\n",
       "      <td>702.18596</td>\n",
       "      <td>367.12497</td>\n",
       "      <td>0.000039</td>\n",
       "      <td>0.000026</td>\n",
       "      <td>0.676764</td>\n",
       "      <td>1183.5114</td>\n",
       "      <td>0.0</td>\n",
       "      <td>1074.6712</td>\n",
       "      <td>785.98269</td>\n",
       "      <td>1.367296</td>\n",
       "      <td>0.000039</td>\n",
       "      <td>0.000026</td>\n",
       "    </tr>\n",
       "  </tbody>\n",
       "</table>\n",
       "</div>"
      ],
      "text/plain": [
       "         Crank  Pressure  Max_Pres  Min_Pres  Mean_Temp   Max_Temp   Min_Temp  \\\n",
       "400  1800.0049  0.096068  0.096973  0.095519  491.33896  703.89478  366.35846   \n",
       "401  1800.1047  0.096044  0.096916  0.095494  491.30243  703.48364  366.62038   \n",
       "402  1800.2037  0.096024  0.096868  0.095418  491.26934  703.05635  366.87204   \n",
       "403  1800.3029  0.096007  0.096866  0.095447  491.24137  702.62314  366.98363   \n",
       "404  1800.4019  0.095993  0.096832  0.095428  491.21663  702.18596  367.12497   \n",
       "\n",
       "       Volume      Mass   Density  Integrated_HR  HR_Rate        C_p  \\\n",
       "400  0.000039  0.000026  0.677121      1183.5114      0.0  1074.7093   \n",
       "401  0.000039  0.000026  0.677004      1183.5114      0.0  1074.6991   \n",
       "402  0.000039  0.000026  0.676907      1183.5114      0.0  1074.6893   \n",
       "403  0.000039  0.000026  0.676827      1183.5114      0.0  1074.6800   \n",
       "404  0.000039  0.000026  0.676764      1183.5114      0.0  1074.6712   \n",
       "\n",
       "           C_v     Gamma  Kin_Visc  Dyn_Visc  \n",
       "400  786.01967  1.367280  0.000039  0.000026  \n",
       "401  786.00973  1.367285  0.000039  0.000026  \n",
       "402  786.00014  1.367289  0.000039  0.000026  \n",
       "403  785.99120  1.367293  0.000039  0.000026  \n",
       "404  785.98269  1.367296  0.000039  0.000026  "
      ]
     },
     "execution_count": 25,
     "metadata": {},
     "output_type": "execute_result"
    }
   ],
   "source": [
    "#Slice the table to keep crank angle beyond 1800\n",
    "th[th.Crank > 1800].head()\n"
   ]
  },
  {
   "cell_type": "code",
   "execution_count": 26,
   "metadata": {},
   "outputs": [
    {
     "data": {
      "text/html": [
       "<div>\n",
       "<style scoped>\n",
       "    .dataframe tbody tr th:only-of-type {\n",
       "        vertical-align: middle;\n",
       "    }\n",
       "\n",
       "    .dataframe tbody tr th {\n",
       "        vertical-align: top;\n",
       "    }\n",
       "\n",
       "    .dataframe thead th {\n",
       "        text-align: right;\n",
       "    }\n",
       "</style>\n",
       "<table border=\"1\" class=\"dataframe\">\n",
       "  <thead>\n",
       "    <tr style=\"text-align: right;\">\n",
       "      <th></th>\n",
       "      <th>Crank</th>\n",
       "      <th>Pressure</th>\n",
       "      <th>Max_Pres</th>\n",
       "      <th>Min_Pres</th>\n",
       "      <th>Mean_Temp</th>\n",
       "      <th>Max_Temp</th>\n",
       "      <th>Min_Temp</th>\n",
       "      <th>Volume</th>\n",
       "      <th>Mass</th>\n",
       "      <th>Density</th>\n",
       "      <th>Integrated_HR</th>\n",
       "      <th>HR_Rate</th>\n",
       "      <th>C_p</th>\n",
       "      <th>C_v</th>\n",
       "      <th>Gamma</th>\n",
       "      <th>Kin_Visc</th>\n",
       "      <th>Dyn_Visc</th>\n",
       "    </tr>\n",
       "  </thead>\n",
       "  <tbody>\n",
       "    <tr>\n",
       "      <td>1395</td>\n",
       "      <td>1899.5029</td>\n",
       "      <td>0.089191</td>\n",
       "      <td>0.093475</td>\n",
       "      <td>0.084692</td>\n",
       "      <td>359.26513</td>\n",
       "      <td>493.46136</td>\n",
       "      <td>319.34866</td>\n",
       "      <td>0.000327</td>\n",
       "      <td>0.000281</td>\n",
       "      <td>0.860447</td>\n",
       "      <td>1183.5114</td>\n",
       "      <td>0.0</td>\n",
       "      <td>1027.3201</td>\n",
       "      <td>738.77251</td>\n",
       "      <td>1.390577</td>\n",
       "      <td>0.000025</td>\n",
       "      <td>0.000021</td>\n",
       "    </tr>\n",
       "    <tr>\n",
       "      <td>1396</td>\n",
       "      <td>1899.6099</td>\n",
       "      <td>0.089210</td>\n",
       "      <td>0.093774</td>\n",
       "      <td>0.084582</td>\n",
       "      <td>359.25598</td>\n",
       "      <td>494.00168</td>\n",
       "      <td>319.30367</td>\n",
       "      <td>0.000327</td>\n",
       "      <td>0.000281</td>\n",
       "      <td>0.860654</td>\n",
       "      <td>1183.5114</td>\n",
       "      <td>0.0</td>\n",
       "      <td>1027.3147</td>\n",
       "      <td>738.76712</td>\n",
       "      <td>1.390580</td>\n",
       "      <td>0.000025</td>\n",
       "      <td>0.000021</td>\n",
       "    </tr>\n",
       "    <tr>\n",
       "      <td>1397</td>\n",
       "      <td>1899.7029</td>\n",
       "      <td>0.089227</td>\n",
       "      <td>0.094111</td>\n",
       "      <td>0.084366</td>\n",
       "      <td>359.24795</td>\n",
       "      <td>494.38558</td>\n",
       "      <td>319.35438</td>\n",
       "      <td>0.000327</td>\n",
       "      <td>0.000282</td>\n",
       "      <td>0.860833</td>\n",
       "      <td>1183.5114</td>\n",
       "      <td>0.0</td>\n",
       "      <td>1027.3099</td>\n",
       "      <td>738.76243</td>\n",
       "      <td>1.390582</td>\n",
       "      <td>0.000025</td>\n",
       "      <td>0.000021</td>\n",
       "    </tr>\n",
       "    <tr>\n",
       "      <td>1398</td>\n",
       "      <td>1899.8100</td>\n",
       "      <td>0.089245</td>\n",
       "      <td>0.094344</td>\n",
       "      <td>0.084258</td>\n",
       "      <td>359.23872</td>\n",
       "      <td>494.96922</td>\n",
       "      <td>319.39841</td>\n",
       "      <td>0.000328</td>\n",
       "      <td>0.000282</td>\n",
       "      <td>0.861037</td>\n",
       "      <td>1183.5114</td>\n",
       "      <td>0.0</td>\n",
       "      <td>1027.3045</td>\n",
       "      <td>738.75707</td>\n",
       "      <td>1.390585</td>\n",
       "      <td>0.000025</td>\n",
       "      <td>0.000021</td>\n",
       "    </tr>\n",
       "    <tr>\n",
       "      <td>1399</td>\n",
       "      <td>1899.9016</td>\n",
       "      <td>0.089261</td>\n",
       "      <td>0.094607</td>\n",
       "      <td>0.083848</td>\n",
       "      <td>359.23062</td>\n",
       "      <td>495.55291</td>\n",
       "      <td>319.40707</td>\n",
       "      <td>0.000328</td>\n",
       "      <td>0.000283</td>\n",
       "      <td>0.861211</td>\n",
       "      <td>1183.5114</td>\n",
       "      <td>0.0</td>\n",
       "      <td>1027.2999</td>\n",
       "      <td>738.75245</td>\n",
       "      <td>1.390588</td>\n",
       "      <td>0.000025</td>\n",
       "      <td>0.000021</td>\n",
       "    </tr>\n",
       "  </tbody>\n",
       "</table>\n",
       "</div>"
      ],
      "text/plain": [
       "          Crank  Pressure  Max_Pres  Min_Pres  Mean_Temp   Max_Temp  \\\n",
       "1395  1899.5029  0.089191  0.093475  0.084692  359.26513  493.46136   \n",
       "1396  1899.6099  0.089210  0.093774  0.084582  359.25598  494.00168   \n",
       "1397  1899.7029  0.089227  0.094111  0.084366  359.24795  494.38558   \n",
       "1398  1899.8100  0.089245  0.094344  0.084258  359.23872  494.96922   \n",
       "1399  1899.9016  0.089261  0.094607  0.083848  359.23062  495.55291   \n",
       "\n",
       "       Min_Temp    Volume      Mass   Density  Integrated_HR  HR_Rate  \\\n",
       "1395  319.34866  0.000327  0.000281  0.860447      1183.5114      0.0   \n",
       "1396  319.30367  0.000327  0.000281  0.860654      1183.5114      0.0   \n",
       "1397  319.35438  0.000327  0.000282  0.860833      1183.5114      0.0   \n",
       "1398  319.39841  0.000328  0.000282  0.861037      1183.5114      0.0   \n",
       "1399  319.40707  0.000328  0.000283  0.861211      1183.5114      0.0   \n",
       "\n",
       "            C_p        C_v     Gamma  Kin_Visc  Dyn_Visc  \n",
       "1395  1027.3201  738.77251  1.390577  0.000025  0.000021  \n",
       "1396  1027.3147  738.76712  1.390580  0.000025  0.000021  \n",
       "1397  1027.3099  738.76243  1.390582  0.000025  0.000021  \n",
       "1398  1027.3045  738.75707  1.390585  0.000025  0.000021  \n",
       "1399  1027.2999  738.75245  1.390588  0.000025  0.000021  "
      ]
     },
     "execution_count": 26,
     "metadata": {},
     "output_type": "execute_result"
    }
   ],
   "source": [
    "# Slice the table to keep crank angle between 1800 and 1900\n",
    "th[(th.Crank > 1800) & (th.Crank < 1900)].tail()"
   ]
  },
  {
   "cell_type": "markdown",
   "metadata": {},
   "source": [
    "### Retrieving dataframe information"
   ]
  },
  {
   "cell_type": "code",
   "execution_count": 27,
   "metadata": {},
   "outputs": [
    {
     "data": {
      "text/plain": [
       "46.583987"
      ]
     },
     "execution_count": 27,
     "metadata": {},
     "output_type": "execute_result"
    }
   ],
   "source": [
    "# maximum pressure over the cycle in bar\n",
    "10*th.Pressure.max()  # th.min(), th.mean(), th.median(), th.sum()...\n",
    "# or\n",
    "#10*th['Pressure'].max() "
   ]
  },
  {
   "cell_type": "markdown",
   "metadata": {},
   "source": [
    "### Plotting"
   ]
  },
  {
   "cell_type": "code",
   "execution_count": 28,
   "metadata": {},
   "outputs": [
    {
     "data": {
      "text/plain": [
       "Text(0, 0.5, 'Cylinder pressure (bar)')"
      ]
     },
     "execution_count": 28,
     "metadata": {},
     "output_type": "execute_result"
    },
    {
     "data": {
      "image/png": "[encoded data removed]",
      "text/plain": [
       "<Figure size 432x288 with 1 Axes>"
      ]
     },
     "metadata": {},
     "output_type": "display_data"
    }
   ],
   "source": [
    "import matplotlib.pyplot as plt\n",
    "\n",
    "fig = plt.figure(facecolor='white')\n",
    "ax = fig.add_subplot(111)\n",
    "ax.plot(th.Crank,th.Pressure*10, color = 'red', linewidth = 2)\n",
    "plt.xlabel('Crank angle degree')\n",
    "plt.ylabel('Cylinder pressure (bar)')"
   ]
  },
  {
   "cell_type": "markdown",
   "metadata": {},
   "source": [
    "### Creating a dataframe"
   ]
  },
  {
   "cell_type": "code",
   "execution_count": 29,
   "metadata": {},
   "outputs": [],
   "source": [
    "import pandas as pd\n",
    "import numpy as np"
   ]
  },
  {
   "cell_type": "code",
   "execution_count": 30,
   "metadata": {},
   "outputs": [],
   "source": [
    "data = {'Character':['Tintin', 'Tournesol', 'Haddock', 'Milou'],\\\n",
    "        'Description':['Journalist', 'Researcher', 'Captain', 'Dog'],\\\n",
    "       'Ref':[1,2,3,4]}"
   ]
  },
  {
   "cell_type": "code",
   "execution_count": 31,
   "metadata": {},
   "outputs": [
    {
     "data": {
      "text/html": [
       "<div>\n",
       "<style scoped>\n",
       "    .dataframe tbody tr th:only-of-type {\n",
       "        vertical-align: middle;\n",
       "    }\n",
       "\n",
       "    .dataframe tbody tr th {\n",
       "        vertical-align: top;\n",
       "    }\n",
       "\n",
       "    .dataframe thead th {\n",
       "        text-align: right;\n",
       "    }\n",
       "</style>\n",
       "<table border=\"1\" class=\"dataframe\">\n",
       "  <thead>\n",
       "    <tr style=\"text-align: right;\">\n",
       "      <th></th>\n",
       "      <th>Character</th>\n",
       "      <th>Description</th>\n",
       "      <th>Ref</th>\n",
       "    </tr>\n",
       "  </thead>\n",
       "  <tbody>\n",
       "    <tr>\n",
       "      <td>0</td>\n",
       "      <td>Tintin</td>\n",
       "      <td>Journalist</td>\n",
       "      <td>1</td>\n",
       "    </tr>\n",
       "    <tr>\n",
       "      <td>1</td>\n",
       "      <td>Tournesol</td>\n",
       "      <td>Researcher</td>\n",
       "      <td>2</td>\n",
       "    </tr>\n",
       "    <tr>\n",
       "      <td>2</td>\n",
       "      <td>Haddock</td>\n",
       "      <td>Captain</td>\n",
       "      <td>3</td>\n",
       "    </tr>\n",
       "    <tr>\n",
       "      <td>3</td>\n",
       "      <td>Milou</td>\n",
       "      <td>Dog</td>\n",
       "      <td>4</td>\n",
       "    </tr>\n",
       "  </tbody>\n",
       "</table>\n",
       "</div>"
      ],
      "text/plain": [
       "   Character Description  Ref\n",
       "0     Tintin  Journalist    1\n",
       "1  Tournesol  Researcher    2\n",
       "2    Haddock     Captain    3\n",
       "3      Milou         Dog    4"
      ]
     },
     "execution_count": 31,
     "metadata": {},
     "output_type": "execute_result"
    }
   ],
   "source": [
    "df = pd.DataFrame.from_dict(data) # creating the dataframe from a dictionary\n",
    "df"
   ]
  },
  {
   "cell_type": "code",
   "execution_count": 32,
   "metadata": {},
   "outputs": [
    {
     "data": {
      "text/plain": [
       "0       Tintin\n",
       "1    Tournesol\n",
       "2      Haddock\n",
       "3        Milou\n",
       "Name: Character, dtype: object"
      ]
     },
     "execution_count": 32,
     "metadata": {},
     "output_type": "execute_result"
    }
   ],
   "source": [
    "df['Character']"
   ]
  },
  {
   "cell_type": "code",
   "execution_count": 33,
   "metadata": {},
   "outputs": [
    {
     "data": {
      "text/plain": [
       "'Dog'"
      ]
     },
     "execution_count": 33,
     "metadata": {},
     "output_type": "execute_result"
    }
   ],
   "source": [
    "df.iloc[-1].Description"
   ]
  },
  {
   "cell_type": "markdown",
   "metadata": {},
   "source": [
    "### Creating a dataframe from a numpy array"
   ]
  },
  {
   "cell_type": "code",
   "execution_count": 34,
   "metadata": {},
   "outputs": [
    {
     "name": "stdout",
     "output_type": "stream",
     "text": [
      "   A  B  C\n",
      "0  1  2  3\n",
      "1  4  5  6\n"
     ]
    }
   ],
   "source": [
    "d = np.array([[1, 2, 3], [4, 5, 6]])\n",
    "df_np = pd.DataFrame(d, columns=['A', 'B', 'C'])\n",
    "print(df_np)"
   ]
  },
  {
   "cell_type": "markdown",
   "metadata": {},
   "source": [
    "### Copying a selection of column and creating a new dataframe"
   ]
  },
  {
   "cell_type": "code",
   "execution_count": 35,
   "metadata": {},
   "outputs": [
    {
     "data": {
      "text/html": [
       "<div>\n",
       "<style scoped>\n",
       "    .dataframe tbody tr th:only-of-type {\n",
       "        vertical-align: middle;\n",
       "    }\n",
       "\n",
       "    .dataframe tbody tr th {\n",
       "        vertical-align: top;\n",
       "    }\n",
       "\n",
       "    .dataframe thead th {\n",
       "        text-align: right;\n",
       "    }\n",
       "</style>\n",
       "<table border=\"1\" class=\"dataframe\">\n",
       "  <thead>\n",
       "    <tr style=\"text-align: right;\">\n",
       "      <th></th>\n",
       "      <th>A</th>\n",
       "      <th>B</th>\n",
       "    </tr>\n",
       "  </thead>\n",
       "  <tbody>\n",
       "    <tr>\n",
       "      <td>0</td>\n",
       "      <td>1</td>\n",
       "      <td>2</td>\n",
       "    </tr>\n",
       "    <tr>\n",
       "      <td>1</td>\n",
       "      <td>4</td>\n",
       "      <td>5</td>\n",
       "    </tr>\n",
       "  </tbody>\n",
       "</table>\n",
       "</div>"
      ],
      "text/plain": [
       "   A  B\n",
       "0  1  2\n",
       "1  4  5"
      ]
     },
     "execution_count": 35,
     "metadata": {},
     "output_type": "execute_result"
    }
   ],
   "source": [
    "df_np2 = df_np[['A', 'B']].copy()\n",
    "df_np2"
   ]
  },
  {
   "cell_type": "markdown",
   "metadata": {},
   "source": [
    "### Modifying columns name"
   ]
  },
  {
   "cell_type": "code",
   "execution_count": 36,
   "metadata": {},
   "outputs": [
    {
     "data": {
      "text/html": [
       "<div>\n",
       "<style scoped>\n",
       "    .dataframe tbody tr th:only-of-type {\n",
       "        vertical-align: middle;\n",
       "    }\n",
       "\n",
       "    .dataframe tbody tr th {\n",
       "        vertical-align: top;\n",
       "    }\n",
       "\n",
       "    .dataframe thead th {\n",
       "        text-align: right;\n",
       "    }\n",
       "</style>\n",
       "<table border=\"1\" class=\"dataframe\">\n",
       "  <thead>\n",
       "    <tr style=\"text-align: right;\">\n",
       "      <th></th>\n",
       "      <th>Character</th>\n",
       "      <th>Description</th>\n",
       "      <th>Id</th>\n",
       "    </tr>\n",
       "  </thead>\n",
       "  <tbody>\n",
       "    <tr>\n",
       "      <td>0</td>\n",
       "      <td>Tintin</td>\n",
       "      <td>Journalist</td>\n",
       "      <td>1</td>\n",
       "    </tr>\n",
       "    <tr>\n",
       "      <td>1</td>\n",
       "      <td>Tournesol</td>\n",
       "      <td>Researcher</td>\n",
       "      <td>2</td>\n",
       "    </tr>\n",
       "    <tr>\n",
       "      <td>2</td>\n",
       "      <td>Haddock</td>\n",
       "      <td>Captain</td>\n",
       "      <td>3</td>\n",
       "    </tr>\n",
       "    <tr>\n",
       "      <td>3</td>\n",
       "      <td>Milou</td>\n",
       "      <td>Dog</td>\n",
       "      <td>4</td>\n",
       "    </tr>\n",
       "  </tbody>\n",
       "</table>\n",
       "</div>"
      ],
      "text/plain": [
       "   Character Description  Id\n",
       "0     Tintin  Journalist   1\n",
       "1  Tournesol  Researcher   2\n",
       "2    Haddock     Captain   3\n",
       "3      Milou         Dog   4"
      ]
     },
     "execution_count": 36,
     "metadata": {},
     "output_type": "execute_result"
    }
   ],
   "source": [
    "df = df.rename(columns={\"Ref\": \"Id\"})\n",
    "df.head()"
   ]
  },
  {
   "cell_type": "code",
   "execution_count": 37,
   "metadata": {},
   "outputs": [
    {
     "data": {
      "text/plain": [
       "Index(['character', 'description', 'id'], dtype='object')"
      ]
     },
     "execution_count": 37,
     "metadata": {},
     "output_type": "execute_result"
    }
   ],
   "source": [
    "df.columns = map(str.lower, df.columns)\n",
    "df.columns"
   ]
  },
  {
   "cell_type": "markdown",
   "metadata": {},
   "source": [
    "### Merging / Concatenating"
   ]
  },
  {
   "cell_type": "markdown",
   "metadata": {},
   "source": [
    "We just provide here some very basic examples. For more details :\n",
    "https://pandas.pydata.org/pandas-docs/stable/merging.html"
   ]
  },
  {
   "cell_type": "code",
   "execution_count": 38,
   "metadata": {},
   "outputs": [],
   "source": [
    "data1 = {'Character':['Tintin', 'Tournesol', 'Haddock', 'Milou'], 'Ref':[1, 2, 3, 4]}\n",
    "data2 = {'Description':['Journalist', 'Researcher', 'Captain', 'Dog'], 'Ref':[1, 2, 3, 4]}\n",
    "\n",
    "df1 = pd.DataFrame.from_dict(data1)\n",
    "df2 = pd.DataFrame.from_dict(data2)"
   ]
  },
  {
   "cell_type": "code",
   "execution_count": 39,
   "metadata": {},
   "outputs": [
    {
     "data": {
      "text/html": [
       "<div>\n",
       "<style scoped>\n",
       "    .dataframe tbody tr th:only-of-type {\n",
       "        vertical-align: middle;\n",
       "    }\n",
       "\n",
       "    .dataframe tbody tr th {\n",
       "        vertical-align: top;\n",
       "    }\n",
       "\n",
       "    .dataframe thead th {\n",
       "        text-align: right;\n",
       "    }\n",
       "</style>\n",
       "<table border=\"1\" class=\"dataframe\">\n",
       "  <thead>\n",
       "    <tr style=\"text-align: right;\">\n",
       "      <th></th>\n",
       "      <th>Character</th>\n",
       "      <th>Ref</th>\n",
       "    </tr>\n",
       "  </thead>\n",
       "  <tbody>\n",
       "    <tr>\n",
       "      <td>0</td>\n",
       "      <td>Tintin</td>\n",
       "      <td>1</td>\n",
       "    </tr>\n",
       "    <tr>\n",
       "      <td>1</td>\n",
       "      <td>Tournesol</td>\n",
       "      <td>2</td>\n",
       "    </tr>\n",
       "    <tr>\n",
       "      <td>2</td>\n",
       "      <td>Haddock</td>\n",
       "      <td>3</td>\n",
       "    </tr>\n",
       "    <tr>\n",
       "      <td>3</td>\n",
       "      <td>Milou</td>\n",
       "      <td>4</td>\n",
       "    </tr>\n",
       "  </tbody>\n",
       "</table>\n",
       "</div>"
      ],
      "text/plain": [
       "   Character  Ref\n",
       "0     Tintin    1\n",
       "1  Tournesol    2\n",
       "2    Haddock    3\n",
       "3      Milou    4"
      ]
     },
     "execution_count": 39,
     "metadata": {},
     "output_type": "execute_result"
    }
   ],
   "source": [
    "df1"
   ]
  },
  {
   "cell_type": "code",
   "execution_count": 40,
   "metadata": {},
   "outputs": [
    {
     "data": {
      "text/html": [
       "<div>\n",
       "<style scoped>\n",
       "    .dataframe tbody tr th:only-of-type {\n",
       "        vertical-align: middle;\n",
       "    }\n",
       "\n",
       "    .dataframe tbody tr th {\n",
       "        vertical-align: top;\n",
       "    }\n",
       "\n",
       "    .dataframe thead th {\n",
       "        text-align: right;\n",
       "    }\n",
       "</style>\n",
       "<table border=\"1\" class=\"dataframe\">\n",
       "  <thead>\n",
       "    <tr style=\"text-align: right;\">\n",
       "      <th></th>\n",
       "      <th>Description</th>\n",
       "      <th>Ref</th>\n",
       "    </tr>\n",
       "  </thead>\n",
       "  <tbody>\n",
       "    <tr>\n",
       "      <td>0</td>\n",
       "      <td>Journalist</td>\n",
       "      <td>1</td>\n",
       "    </tr>\n",
       "    <tr>\n",
       "      <td>1</td>\n",
       "      <td>Researcher</td>\n",
       "      <td>2</td>\n",
       "    </tr>\n",
       "    <tr>\n",
       "      <td>2</td>\n",
       "      <td>Captain</td>\n",
       "      <td>3</td>\n",
       "    </tr>\n",
       "    <tr>\n",
       "      <td>3</td>\n",
       "      <td>Dog</td>\n",
       "      <td>4</td>\n",
       "    </tr>\n",
       "  </tbody>\n",
       "</table>\n",
       "</div>"
      ],
      "text/plain": [
       "  Description  Ref\n",
       "0  Journalist    1\n",
       "1  Researcher    2\n",
       "2     Captain    3\n",
       "3         Dog    4"
      ]
     },
     "execution_count": 40,
     "metadata": {},
     "output_type": "execute_result"
    }
   ],
   "source": [
    "df2"
   ]
  },
  {
   "cell_type": "code",
   "execution_count": 41,
   "metadata": {},
   "outputs": [
    {
     "data": {
      "text/html": [
       "<div>\n",
       "<style scoped>\n",
       "    .dataframe tbody tr th:only-of-type {\n",
       "        vertical-align: middle;\n",
       "    }\n",
       "\n",
       "    .dataframe tbody tr th {\n",
       "        vertical-align: top;\n",
       "    }\n",
       "\n",
       "    .dataframe thead th {\n",
       "        text-align: right;\n",
       "    }\n",
       "</style>\n",
       "<table border=\"1\" class=\"dataframe\">\n",
       "  <thead>\n",
       "    <tr style=\"text-align: right;\">\n",
       "      <th></th>\n",
       "      <th>Character</th>\n",
       "      <th>Ref</th>\n",
       "      <th>Description</th>\n",
       "    </tr>\n",
       "  </thead>\n",
       "  <tbody>\n",
       "    <tr>\n",
       "      <td>0</td>\n",
       "      <td>Tintin</td>\n",
       "      <td>1</td>\n",
       "      <td>Journalist</td>\n",
       "    </tr>\n",
       "    <tr>\n",
       "      <td>1</td>\n",
       "      <td>Tournesol</td>\n",
       "      <td>2</td>\n",
       "      <td>Researcher</td>\n",
       "    </tr>\n",
       "    <tr>\n",
       "      <td>2</td>\n",
       "      <td>Haddock</td>\n",
       "      <td>3</td>\n",
       "      <td>Captain</td>\n",
       "    </tr>\n",
       "    <tr>\n",
       "      <td>3</td>\n",
       "      <td>Milou</td>\n",
       "      <td>4</td>\n",
       "      <td>Dog</td>\n",
       "    </tr>\n",
       "  </tbody>\n",
       "</table>\n",
       "</div>"
      ],
      "text/plain": [
       "   Character  Ref Description\n",
       "0     Tintin    1  Journalist\n",
       "1  Tournesol    2  Researcher\n",
       "2    Haddock    3     Captain\n",
       "3      Milou    4         Dog"
      ]
     },
     "execution_count": 41,
     "metadata": {},
     "output_type": "execute_result"
    }
   ],
   "source": [
    "pd.merge(df1, df2)"
   ]
  },
  {
   "cell_type": "code",
   "execution_count": 42,
   "metadata": {},
   "outputs": [],
   "source": [
    "data3 = {'Character':['Tintin', 'Tournesol'],\\\n",
    "         'Description':['Journalist', 'Researcher'],\\\n",
    "          'Ref':[1, 2]}\n",
    "data4 = {'Character':['Haddock', 'Milou'],\\\n",
    "         'Description':['Captain', 'Dog'],\\\n",
    "          'Ref':[3, 4]}\n",
    "\n",
    "df3 = pd.DataFrame.from_dict(data3)\n",
    "df4 = pd.DataFrame.from_dict(data4)"
   ]
  },
  {
   "cell_type": "code",
   "execution_count": 43,
   "metadata": {},
   "outputs": [
    {
     "data": {
      "text/html": [
       "<div>\n",
       "<style scoped>\n",
       "    .dataframe tbody tr th:only-of-type {\n",
       "        vertical-align: middle;\n",
       "    }\n",
       "\n",
       "    .dataframe tbody tr th {\n",
       "        vertical-align: top;\n",
       "    }\n",
       "\n",
       "    .dataframe thead th {\n",
       "        text-align: right;\n",
       "    }\n",
       "</style>\n",
       "<table border=\"1\" class=\"dataframe\">\n",
       "  <thead>\n",
       "    <tr style=\"text-align: right;\">\n",
       "      <th></th>\n",
       "      <th>Character</th>\n",
       "      <th>Description</th>\n",
       "      <th>Ref</th>\n",
       "    </tr>\n",
       "  </thead>\n",
       "  <tbody>\n",
       "    <tr>\n",
       "      <td>0</td>\n",
       "      <td>Tintin</td>\n",
       "      <td>Journalist</td>\n",
       "      <td>1</td>\n",
       "    </tr>\n",
       "    <tr>\n",
       "      <td>1</td>\n",
       "      <td>Tournesol</td>\n",
       "      <td>Researcher</td>\n",
       "      <td>2</td>\n",
       "    </tr>\n",
       "    <tr>\n",
       "      <td>0</td>\n",
       "      <td>Haddock</td>\n",
       "      <td>Captain</td>\n",
       "      <td>3</td>\n",
       "    </tr>\n",
       "    <tr>\n",
       "      <td>1</td>\n",
       "      <td>Milou</td>\n",
       "      <td>Dog</td>\n",
       "      <td>4</td>\n",
       "    </tr>\n",
       "  </tbody>\n",
       "</table>\n",
       "</div>"
      ],
      "text/plain": [
       "   Character Description  Ref\n",
       "0     Tintin  Journalist    1\n",
       "1  Tournesol  Researcher    2\n",
       "0    Haddock     Captain    3\n",
       "1      Milou         Dog    4"
      ]
     },
     "execution_count": 43,
     "metadata": {},
     "output_type": "execute_result"
    }
   ],
   "source": [
    "dfconc = pd.concat([df3, df4]) # horizontal concatenation\n",
    "dfconc"
   ]
  },
  {
   "cell_type": "code",
   "execution_count": 44,
   "metadata": {},
   "outputs": [
    {
     "data": {
      "text/html": [
       "<div>\n",
       "<style scoped>\n",
       "    .dataframe tbody tr th:only-of-type {\n",
       "        vertical-align: middle;\n",
       "    }\n",
       "\n",
       "    .dataframe tbody tr th {\n",
       "        vertical-align: top;\n",
       "    }\n",
       "\n",
       "    .dataframe thead th {\n",
       "        text-align: right;\n",
       "    }\n",
       "</style>\n",
       "<table border=\"1\" class=\"dataframe\">\n",
       "  <thead>\n",
       "    <tr style=\"text-align: right;\">\n",
       "      <th></th>\n",
       "      <th>Character</th>\n",
       "      <th>Description</th>\n",
       "      <th>Ref</th>\n",
       "    </tr>\n",
       "  </thead>\n",
       "  <tbody>\n",
       "    <tr>\n",
       "      <td>0</td>\n",
       "      <td>Tintin</td>\n",
       "      <td>Journalist</td>\n",
       "      <td>1</td>\n",
       "    </tr>\n",
       "    <tr>\n",
       "      <td>1</td>\n",
       "      <td>Tournesol</td>\n",
       "      <td>Researcher</td>\n",
       "      <td>2</td>\n",
       "    </tr>\n",
       "    <tr>\n",
       "      <td>2</td>\n",
       "      <td>Haddock</td>\n",
       "      <td>Captain</td>\n",
       "      <td>3</td>\n",
       "    </tr>\n",
       "    <tr>\n",
       "      <td>3</td>\n",
       "      <td>Milou</td>\n",
       "      <td>Dog</td>\n",
       "      <td>4</td>\n",
       "    </tr>\n",
       "  </tbody>\n",
       "</table>\n",
       "</div>"
      ],
      "text/plain": [
       "   Character Description  Ref\n",
       "0     Tintin  Journalist    1\n",
       "1  Tournesol  Researcher    2\n",
       "2    Haddock     Captain    3\n",
       "3      Milou         Dog    4"
      ]
     },
     "execution_count": 44,
     "metadata": {},
     "output_type": "execute_result"
    }
   ],
   "source": [
    "dfconc = dfconc.reset_index(drop=True)\n",
    "dfconc"
   ]
  },
  {
   "cell_type": "markdown",
   "metadata": {},
   "source": [
    "For a bit more complex merging..."
   ]
  },
  {
   "cell_type": "code",
   "execution_count": 45,
   "metadata": {},
   "outputs": [],
   "source": [
    "data5 = {'Crank':[-5, -4, -3], 'Pressure':[10, 20, 30], 'equ_ratio':[1.2,1.3,1.4]}\n",
    "data6 = {'Crank':[-2, -1, 0], 'Pressure':[40, 50, 60]}\n",
    "\n",
    "df5 = pd.DataFrame.from_dict(data5)\n",
    "df6 = pd.DataFrame.from_dict(data6)"
   ]
  },
  {
   "cell_type": "code",
   "execution_count": 46,
   "metadata": {},
   "outputs": [
    {
     "data": {
      "text/html": [
       "<div>\n",
       "<style scoped>\n",
       "    .dataframe tbody tr th:only-of-type {\n",
       "        vertical-align: middle;\n",
       "    }\n",
       "\n",
       "    .dataframe tbody tr th {\n",
       "        vertical-align: top;\n",
       "    }\n",
       "\n",
       "    .dataframe thead th {\n",
       "        text-align: right;\n",
       "    }\n",
       "</style>\n",
       "<table border=\"1\" class=\"dataframe\">\n",
       "  <thead>\n",
       "    <tr style=\"text-align: right;\">\n",
       "      <th></th>\n",
       "      <th>Crank</th>\n",
       "      <th>Pressure</th>\n",
       "      <th>equ_ratio</th>\n",
       "    </tr>\n",
       "  </thead>\n",
       "  <tbody>\n",
       "    <tr>\n",
       "      <td>0</td>\n",
       "      <td>-5</td>\n",
       "      <td>10</td>\n",
       "      <td>1.2</td>\n",
       "    </tr>\n",
       "    <tr>\n",
       "      <td>1</td>\n",
       "      <td>-4</td>\n",
       "      <td>20</td>\n",
       "      <td>1.3</td>\n",
       "    </tr>\n",
       "    <tr>\n",
       "      <td>2</td>\n",
       "      <td>-3</td>\n",
       "      <td>30</td>\n",
       "      <td>1.4</td>\n",
       "    </tr>\n",
       "  </tbody>\n",
       "</table>\n",
       "</div>"
      ],
      "text/plain": [
       "   Crank  Pressure  equ_ratio\n",
       "0     -5        10        1.2\n",
       "1     -4        20        1.3\n",
       "2     -3        30        1.4"
      ]
     },
     "execution_count": 46,
     "metadata": {},
     "output_type": "execute_result"
    }
   ],
   "source": [
    "df5"
   ]
  },
  {
   "cell_type": "code",
   "execution_count": 47,
   "metadata": {},
   "outputs": [
    {
     "data": {
      "text/html": [
       "<div>\n",
       "<style scoped>\n",
       "    .dataframe tbody tr th:only-of-type {\n",
       "        vertical-align: middle;\n",
       "    }\n",
       "\n",
       "    .dataframe tbody tr th {\n",
       "        vertical-align: top;\n",
       "    }\n",
       "\n",
       "    .dataframe thead th {\n",
       "        text-align: right;\n",
       "    }\n",
       "</style>\n",
       "<table border=\"1\" class=\"dataframe\">\n",
       "  <thead>\n",
       "    <tr style=\"text-align: right;\">\n",
       "      <th></th>\n",
       "      <th>Crank</th>\n",
       "      <th>Pressure</th>\n",
       "    </tr>\n",
       "  </thead>\n",
       "  <tbody>\n",
       "    <tr>\n",
       "      <td>0</td>\n",
       "      <td>-2</td>\n",
       "      <td>40</td>\n",
       "    </tr>\n",
       "    <tr>\n",
       "      <td>1</td>\n",
       "      <td>-1</td>\n",
       "      <td>50</td>\n",
       "    </tr>\n",
       "    <tr>\n",
       "      <td>2</td>\n",
       "      <td>0</td>\n",
       "      <td>60</td>\n",
       "    </tr>\n",
       "  </tbody>\n",
       "</table>\n",
       "</div>"
      ],
      "text/plain": [
       "   Crank  Pressure\n",
       "0     -2        40\n",
       "1     -1        50\n",
       "2      0        60"
      ]
     },
     "execution_count": 47,
     "metadata": {},
     "output_type": "execute_result"
    }
   ],
   "source": [
    "df6"
   ]
  },
  {
   "cell_type": "code",
   "execution_count": 48,
   "metadata": {},
   "outputs": [
    {
     "data": {
      "text/html": [
       "<div>\n",
       "<style scoped>\n",
       "    .dataframe tbody tr th:only-of-type {\n",
       "        vertical-align: middle;\n",
       "    }\n",
       "\n",
       "    .dataframe tbody tr th {\n",
       "        vertical-align: top;\n",
       "    }\n",
       "\n",
       "    .dataframe thead th {\n",
       "        text-align: right;\n",
       "    }\n",
       "</style>\n",
       "<table border=\"1\" class=\"dataframe\">\n",
       "  <thead>\n",
       "    <tr style=\"text-align: right;\">\n",
       "      <th></th>\n",
       "      <th>Crank</th>\n",
       "      <th>Pressure</th>\n",
       "      <th>equ_ratio</th>\n",
       "    </tr>\n",
       "  </thead>\n",
       "  <tbody>\n",
       "    <tr>\n",
       "      <td>0</td>\n",
       "      <td>-2</td>\n",
       "      <td>40</td>\n",
       "      <td>NaN</td>\n",
       "    </tr>\n",
       "    <tr>\n",
       "      <td>1</td>\n",
       "      <td>-1</td>\n",
       "      <td>50</td>\n",
       "      <td>NaN</td>\n",
       "    </tr>\n",
       "    <tr>\n",
       "      <td>2</td>\n",
       "      <td>0</td>\n",
       "      <td>60</td>\n",
       "      <td>NaN</td>\n",
       "    </tr>\n",
       "    <tr>\n",
       "      <td>3</td>\n",
       "      <td>-5</td>\n",
       "      <td>10</td>\n",
       "      <td>1.2</td>\n",
       "    </tr>\n",
       "    <tr>\n",
       "      <td>4</td>\n",
       "      <td>-4</td>\n",
       "      <td>20</td>\n",
       "      <td>1.3</td>\n",
       "    </tr>\n",
       "    <tr>\n",
       "      <td>5</td>\n",
       "      <td>-3</td>\n",
       "      <td>30</td>\n",
       "      <td>1.4</td>\n",
       "    </tr>\n",
       "  </tbody>\n",
       "</table>\n",
       "</div>"
      ],
      "text/plain": [
       "   Crank  Pressure  equ_ratio\n",
       "0     -2        40        NaN\n",
       "1     -1        50        NaN\n",
       "2      0        60        NaN\n",
       "3     -5        10        1.2\n",
       "4     -4        20        1.3\n",
       "5     -3        30        1.4"
      ]
     },
     "execution_count": 48,
     "metadata": {},
     "output_type": "execute_result"
    }
   ],
   "source": [
    "df_merge = pd.merge(df6, df5, how='outer')\n",
    "df_merge"
   ]
  },
  {
   "cell_type": "code",
   "execution_count": 49,
   "metadata": {},
   "outputs": [],
   "source": [
    "df_merge = df_merge.sort_values('Crank', ascending=True)\n",
    "df_merge = df_merge.reset_index(drop=True)"
   ]
  },
  {
   "cell_type": "code",
   "execution_count": 50,
   "metadata": {},
   "outputs": [
    {
     "data": {
      "text/html": [
       "<div>\n",
       "<style scoped>\n",
       "    .dataframe tbody tr th:only-of-type {\n",
       "        vertical-align: middle;\n",
       "    }\n",
       "\n",
       "    .dataframe tbody tr th {\n",
       "        vertical-align: top;\n",
       "    }\n",
       "\n",
       "    .dataframe thead th {\n",
       "        text-align: right;\n",
       "    }\n",
       "</style>\n",
       "<table border=\"1\" class=\"dataframe\">\n",
       "  <thead>\n",
       "    <tr style=\"text-align: right;\">\n",
       "      <th></th>\n",
       "      <th>Crank</th>\n",
       "      <th>Pressure</th>\n",
       "      <th>equ_ratio</th>\n",
       "    </tr>\n",
       "  </thead>\n",
       "  <tbody>\n",
       "    <tr>\n",
       "      <td>0</td>\n",
       "      <td>-5</td>\n",
       "      <td>10</td>\n",
       "      <td>1.2</td>\n",
       "    </tr>\n",
       "    <tr>\n",
       "      <td>1</td>\n",
       "      <td>-4</td>\n",
       "      <td>20</td>\n",
       "      <td>1.3</td>\n",
       "    </tr>\n",
       "    <tr>\n",
       "      <td>2</td>\n",
       "      <td>-3</td>\n",
       "      <td>30</td>\n",
       "      <td>1.4</td>\n",
       "    </tr>\n",
       "    <tr>\n",
       "      <td>3</td>\n",
       "      <td>-2</td>\n",
       "      <td>40</td>\n",
       "      <td>NaN</td>\n",
       "    </tr>\n",
       "    <tr>\n",
       "      <td>4</td>\n",
       "      <td>-1</td>\n",
       "      <td>50</td>\n",
       "      <td>NaN</td>\n",
       "    </tr>\n",
       "    <tr>\n",
       "      <td>5</td>\n",
       "      <td>0</td>\n",
       "      <td>60</td>\n",
       "      <td>NaN</td>\n",
       "    </tr>\n",
       "  </tbody>\n",
       "</table>\n",
       "</div>"
      ],
      "text/plain": [
       "   Crank  Pressure  equ_ratio\n",
       "0     -5        10        1.2\n",
       "1     -4        20        1.3\n",
       "2     -3        30        1.4\n",
       "3     -2        40        NaN\n",
       "4     -1        50        NaN\n",
       "5      0        60        NaN"
      ]
     },
     "execution_count": 50,
     "metadata": {},
     "output_type": "execute_result"
    }
   ],
   "source": [
    "df_merge"
   ]
  },
  {
   "cell_type": "code",
   "execution_count": 51,
   "metadata": {},
   "outputs": [
    {
     "data": {
      "text/html": [
       "<div>\n",
       "<style scoped>\n",
       "    .dataframe tbody tr th:only-of-type {\n",
       "        vertical-align: middle;\n",
       "    }\n",
       "\n",
       "    .dataframe tbody tr th {\n",
       "        vertical-align: top;\n",
       "    }\n",
       "\n",
       "    .dataframe thead th {\n",
       "        text-align: right;\n",
       "    }\n",
       "</style>\n",
       "<table border=\"1\" class=\"dataframe\">\n",
       "  <thead>\n",
       "    <tr style=\"text-align: right;\">\n",
       "      <th></th>\n",
       "      <th>Crank</th>\n",
       "      <th>Pressure</th>\n",
       "      <th>equ_ratio</th>\n",
       "    </tr>\n",
       "  </thead>\n",
       "  <tbody>\n",
       "    <tr>\n",
       "      <td>0</td>\n",
       "      <td>-5</td>\n",
       "      <td>10</td>\n",
       "      <td>1.2</td>\n",
       "    </tr>\n",
       "    <tr>\n",
       "      <td>1</td>\n",
       "      <td>-4</td>\n",
       "      <td>20</td>\n",
       "      <td>1.3</td>\n",
       "    </tr>\n",
       "    <tr>\n",
       "      <td>2</td>\n",
       "      <td>-3</td>\n",
       "      <td>30</td>\n",
       "      <td>1.4</td>\n",
       "    </tr>\n",
       "    <tr>\n",
       "      <td>3</td>\n",
       "      <td>-2</td>\n",
       "      <td>40</td>\n",
       "      <td>0.0</td>\n",
       "    </tr>\n",
       "    <tr>\n",
       "      <td>4</td>\n",
       "      <td>-1</td>\n",
       "      <td>50</td>\n",
       "      <td>0.0</td>\n",
       "    </tr>\n",
       "    <tr>\n",
       "      <td>5</td>\n",
       "      <td>0</td>\n",
       "      <td>60</td>\n",
       "      <td>0.0</td>\n",
       "    </tr>\n",
       "  </tbody>\n",
       "</table>\n",
       "</div>"
      ],
      "text/plain": [
       "   Crank  Pressure  equ_ratio\n",
       "0     -5        10        1.2\n",
       "1     -4        20        1.3\n",
       "2     -3        30        1.4\n",
       "3     -2        40        0.0\n",
       "4     -1        50        0.0\n",
       "5      0        60        0.0"
      ]
     },
     "execution_count": 51,
     "metadata": {},
     "output_type": "execute_result"
    }
   ],
   "source": [
    "# replacing all NaNs by zero\n",
    "df_merge = df_merge.fillna(0)\n",
    "df_merge"
   ]
  },
  {
   "cell_type": "markdown",
   "metadata": {},
   "source": [
    "### Dropping a column"
   ]
  },
  {
   "cell_type": "code",
   "execution_count": 52,
   "metadata": {},
   "outputs": [],
   "source": [
    "df_merge = df_merge.drop('Pressure', axis=1)"
   ]
  },
  {
   "cell_type": "markdown",
   "metadata": {},
   "source": [
    "### Dropping a row by index"
   ]
  },
  {
   "cell_type": "code",
   "execution_count": 53,
   "metadata": {},
   "outputs": [
    {
     "data": {
      "text/html": [
       "<div>\n",
       "<style scoped>\n",
       "    .dataframe tbody tr th:only-of-type {\n",
       "        vertical-align: middle;\n",
       "    }\n",
       "\n",
       "    .dataframe tbody tr th {\n",
       "        vertical-align: top;\n",
       "    }\n",
       "\n",
       "    .dataframe thead th {\n",
       "        text-align: right;\n",
       "    }\n",
       "</style>\n",
       "<table border=\"1\" class=\"dataframe\">\n",
       "  <thead>\n",
       "    <tr style=\"text-align: right;\">\n",
       "      <th></th>\n",
       "      <th>Crank</th>\n",
       "      <th>equ_ratio</th>\n",
       "    </tr>\n",
       "  </thead>\n",
       "  <tbody>\n",
       "    <tr>\n",
       "      <td>1</td>\n",
       "      <td>-4</td>\n",
       "      <td>1.3</td>\n",
       "    </tr>\n",
       "    <tr>\n",
       "      <td>2</td>\n",
       "      <td>-3</td>\n",
       "      <td>1.4</td>\n",
       "    </tr>\n",
       "    <tr>\n",
       "      <td>3</td>\n",
       "      <td>-2</td>\n",
       "      <td>0.0</td>\n",
       "    </tr>\n",
       "    <tr>\n",
       "      <td>4</td>\n",
       "      <td>-1</td>\n",
       "      <td>0.0</td>\n",
       "    </tr>\n",
       "    <tr>\n",
       "      <td>5</td>\n",
       "      <td>0</td>\n",
       "      <td>0.0</td>\n",
       "    </tr>\n",
       "  </tbody>\n",
       "</table>\n",
       "</div>"
      ],
      "text/plain": [
       "   Crank  equ_ratio\n",
       "1     -4        1.3\n",
       "2     -3        1.4\n",
       "3     -2        0.0\n",
       "4     -1        0.0\n",
       "5      0        0.0"
      ]
     },
     "execution_count": 53,
     "metadata": {},
     "output_type": "execute_result"
    }
   ],
   "source": [
    "df_merge = df_merge.drop(df_merge.index[0])\n",
    "df_merge"
   ]
  },
  {
   "cell_type": "code",
   "execution_count": 54,
   "metadata": {},
   "outputs": [
    {
     "data": {
      "text/html": [
       "<div>\n",
       "<style scoped>\n",
       "    .dataframe tbody tr th:only-of-type {\n",
       "        vertical-align: middle;\n",
       "    }\n",
       "\n",
       "    .dataframe tbody tr th {\n",
       "        vertical-align: top;\n",
       "    }\n",
       "\n",
       "    .dataframe thead th {\n",
       "        text-align: right;\n",
       "    }\n",
       "</style>\n",
       "<table border=\"1\" class=\"dataframe\">\n",
       "  <thead>\n",
       "    <tr style=\"text-align: right;\">\n",
       "      <th></th>\n",
       "      <th>Crank</th>\n",
       "      <th>equ_ratio</th>\n",
       "    </tr>\n",
       "  </thead>\n",
       "  <tbody>\n",
       "    <tr>\n",
       "      <td>0</td>\n",
       "      <td>-4</td>\n",
       "      <td>1.3</td>\n",
       "    </tr>\n",
       "    <tr>\n",
       "      <td>1</td>\n",
       "      <td>-3</td>\n",
       "      <td>1.4</td>\n",
       "    </tr>\n",
       "    <tr>\n",
       "      <td>2</td>\n",
       "      <td>-2</td>\n",
       "      <td>0.0</td>\n",
       "    </tr>\n",
       "    <tr>\n",
       "      <td>3</td>\n",
       "      <td>-1</td>\n",
       "      <td>0.0</td>\n",
       "    </tr>\n",
       "    <tr>\n",
       "      <td>4</td>\n",
       "      <td>0</td>\n",
       "      <td>0.0</td>\n",
       "    </tr>\n",
       "  </tbody>\n",
       "</table>\n",
       "</div>"
      ],
      "text/plain": [
       "   Crank  equ_ratio\n",
       "0     -4        1.3\n",
       "1     -3        1.4\n",
       "2     -2        0.0\n",
       "3     -1        0.0\n",
       "4      0        0.0"
      ]
     },
     "execution_count": 54,
     "metadata": {},
     "output_type": "execute_result"
    }
   ],
   "source": [
    "# reindexing\n",
    "df_merge.reset_index(drop=True)"
   ]
  },
  {
   "cell_type": "markdown",
   "metadata": {},
   "source": [
    "### Writing a dataframe as a csv file"
   ]
  },
  {
   "cell_type": "code",
   "execution_count": 55,
   "metadata": {},
   "outputs": [],
   "source": [
    "import sys"
   ]
  },
  {
   "cell_type": "code",
   "execution_count": 56,
   "metadata": {},
   "outputs": [],
   "source": [
    "data = {'Character':['Tintin', 'Tournesol', 'Haddock', 'Milou'],\\\n",
    "        'Description':['Journalist', 'Researcher', 'Captain', 'Dog'],\\\n",
    "       'Ref':[1,2,3,4]}\n",
    "df = pd.DataFrame.from_dict(data)"
   ]
  },
  {
   "cell_type": "markdown",
   "metadata": {},
   "source": [
    "By default, the separator is a comma and the index is written"
   ]
  },
  {
   "cell_type": "code",
   "execution_count": 57,
   "metadata": {},
   "outputs": [
    {
     "name": "stdout",
     "output_type": "stream",
     "text": [
      ",Character,Description,Ref\n",
      "0,Tintin,Journalist,1\n",
      "1,Tournesol,Researcher,2\n",
      "2,Haddock,Captain,3\n",
      "3,Milou,Dog,4\n"
     ]
    }
   ],
   "source": [
    "df.to_csv(sys.stdout)"
   ]
  },
  {
   "cell_type": "code",
   "execution_count": 58,
   "metadata": {},
   "outputs": [
    {
     "name": "stdout",
     "output_type": "stream",
     "text": [
      "Character\tDescription\tRef\n",
      "Tintin\tJournalist\t1\n",
      "Tournesol\tResearcher\t2\n",
      "Haddock\tCaptain\t3\n",
      "Milou\tDog\t4\n"
     ]
    }
   ],
   "source": [
    "# with a different separator and removing the index\n",
    "_sep = '\\t'\n",
    "df.to_csv(sys.stdout, sep=_sep, index=False) # replace sys.stdout by the name of your file"
   ]
  },
  {
   "cell_type": "markdown",
   "metadata": {},
   "source": [
    "If you want to impose a particular header with a few lines, well, not so easy... Write first the header of your file, then the rest of the csv with the data."
   ]
  },
  {
   "cell_type": "code",
   "execution_count": 59,
   "metadata": {},
   "outputs": [],
   "source": [
    "with open('test.csv', 'w') as f:\n",
    "    f.write('# '+_sep.join([h for h in df.columns])+'\\n#\\n#\\n')\n",
    "    \n",
    "df.to_csv('test.csv', sep='\\t', index=False, header=False, mode='a')"
   ]
  },
  {
   "cell_type": "code",
   "execution_count": null,
   "metadata": {},
   "outputs": [],
   "source": []
  },
  {
   "cell_type": "code",
   "execution_count": null,
   "metadata": {},
   "outputs": [],
   "source": []
  }
 ],
 "metadata": {
  "anaconda-cloud": {},
  "kernelspec": {
   "display_name": "Python 3",
   "language": "python",
   "name": "python3"
  },
  "language_info": {
   "codemirror_mode": {
    "name": "ipython",
    "version": 3
   },
   "file_extension": ".py",
   "mimetype": "text/x-python",
   "name": "python",
   "nbconvert_exporter": "python",
   "pygments_lexer": "ipython3",
   "version": "3.7.3"
  }
 },
 "nbformat": 4,
 "nbformat_minor": 2
}
