{
 "cells": [
  {
   "cell_type": "markdown",
   "metadata": {},
   "source": [
    "## Un condensé de Python\n",
    "\n",
    "[cheat sheet](https://www.pythoncheatsheet.org/)\n",
    "\n",
    "\n",
    "[Python for Matlab users](http://wiki.scipy.org/NumPy_for_Matlab_Users)\n",
    "\n",
    "Python est un langage **interprété** avec un **typage dynamique**\n",
    "\n",
    "\n",
    "## La communauté\n",
    "\n",
    "\n",
    "> «Je suis venu pour le langage mais je suis resté pour la communauté»\n",
    "\n",
    "[Brett Cannon](https://twitter.com/brettsky) _core_ développeur\n",
    "\n",
    "\n",
    "* La [Python Software Foundation](https://www.python.org/psf/) possède les droits d'auteurs du langage et chapeaute la communauté.\n",
    "\n",
    "* Les core devs (94 personnes dont environ 50 actives).\n",
    "\n",
    "* [PyLadies](https://pyladies.com) et [DjangoGirls](https://djangogirls.org)\n",
    "\n",
    "* l'[Afpy](https://www.afpy.org/) - Association Python francophone.\n",
    "\n",
    "* les conférences\n",
    "    - PyCon US - PyConFR - EuroPython \n",
    "    - Fosdem\n",
    "    - EuroSciPy\n",
    "    - DjangoCon\n",
    "\n",
    "* Les meetups & conférences [PyData](https://pydata.org/)\n",
    "    - [PyData Paris](https://www.meetup.com/fr-FR/PyData-Paris/)\n",
    "\n",
    "\n",
    "## Ressources de documentation\n",
    "\n",
    "* [docs.python.org](https://docs.python.org/fr) - documentation Python en français\n",
    "* [readthedocs](https://readthedocs.org) - abrite une grande partie de la documentation des modules tiers.\n",
    "* [RealPython](https://realpython.com/) - Actualités, tutoriels, quizz\n",
    "* [Think Python](https://greenteapress.com/wp/think-python-2e/) - Introduction générale à la programmation (en particulier orienté objet).\n",
    "\n",
    "## Cannaux d'entr'aide\n",
    "\n",
    "* IRC **#python-fr** **#scipy** **#matplotlib** sur freenode\n",
    "* [gitter](https://gitter.im/) (pour les modules data)\n",
    "* [stackoverflow](https://stackoverflow.com/questions/tagged/python)\n",
    "* mailing lists\n",
    "\n",
    "## Livres\n",
    "\n",
    "* David Beazley - [Python essential reference](http://www.dabeaz.com/per.html) (attendre l'édition 5 fin 2019)\n",
    "* Jake VanderPlas - [Data Science Hand book](https://jakevdp.github.io/PythonDataScienceHandbook/)\n",
    "\n",
    "\n",
    "## Exercices corrigés en ligne: \n",
    "\n",
    "https://www.hackinscience.org"
   ]
  },
  {
   "cell_type": "markdown",
   "metadata": {},
   "source": [
    "### Créer une variable"
   ]
  },
  {
   "cell_type": "code",
   "execution_count": 3,
   "metadata": {},
   "outputs": [],
   "source": []
  },
  {
   "cell_type": "markdown",
   "metadata": {},
   "source": [
    "### Appeler une fonction"
   ]
  },
  {
   "cell_type": "code",
   "execution_count": null,
   "metadata": {},
   "outputs": [],
   "source": []
  },
  {
   "cell_type": "markdown",
   "metadata": {},
   "source": [
    "### Contrôle de flux"
   ]
  },
  {
   "cell_type": "code",
   "execution_count": null,
   "metadata": {},
   "outputs": [],
   "source": []
  },
  {
   "cell_type": "markdown",
   "metadata": {},
   "source": [
    "### Définition de fonctions "
   ]
  },
  {
   "cell_type": "code",
   "execution_count": null,
   "metadata": {},
   "outputs": [],
   "source": []
  },
  {
   "cell_type": "markdown",
   "metadata": {},
   "source": [
    "### Utilisation de modules et de bibliothèques tierces"
   ]
  },
  {
   "cell_type": "code",
   "execution_count": null,
   "metadata": {},
   "outputs": [],
   "source": []
  },
  {
   "cell_type": "markdown",
   "metadata": {},
   "source": [
    "# L'écosystème scientifique Python\n",
    "\n",
    "\n",
    "\n",
    "![the scipy ecosystem](scipy_ecosystem.png)\n",
    "\n",
    "\n",
    "Toutes ces bibliothèques partagent une représentation de données communes, l'`array` numpy, mais aussi une même culture et communauté.\n",
    "\n",
    "\n",
    "\n",
    "\n",
    "\n",
    "\n",
    "##  Programmation parallèle ou concurrente\n",
    "\n",
    "- [`multprocessing`](https://docs.python.org/3/library/multiprocessing.html) & [`threading`](https://docs.python.org/3/library/threading.html)\n",
    "- [Dask](https://dask.org)\n",
    "- [ipyparallel](https://ipyparallel.readthedocs.io/en/latest/)\n",
    "\n",
    "\n",
    "## La physique\n",
    "\n",
    "- Algèbre linéaire, RNG, etc.: [`numpy`](https://docs.scipy.org/doc/scipy/reference/)\n",
    "- ODE, fonction spéciales, interpolation, géométrie etc. [`scipy`](https://docs.scipy.org/doc/scipy/reference/)\n",
    "- Éléments finis: [`SfePy`](http://sfepy.org/doc-devel/index.html)\n",
    "- Mécanique des fluides: [CFD Python par Lorena Barba](https://github.com/barbagroup/CFDPython.git)\n",
    "\n",
    "\n",
    "## La chimie\n",
    "\n",
    "- [Pymol](https://pymol.org)\n",
    "- [Python chemistry](https://pythoninchemistry.org/)\n",
    "\n",
    "\n",
    "## Traitement d'images et vision par ordinateur\n",
    "\n",
    "- [scikit-image](https://scikit-image.org)\n",
    "- [Opencv](https://opencv.org)\n",
    "\n",
    "## Apprentissage\n",
    "\n",
    "- [scikit-learn](https://scikit-learn.org)\n",
    "\n",
    "## Statistiques\n",
    "\n",
    "- les bases: [`scipy.stats`](https://docs.scipy.org/doc/scipy/reference/tutorial/stats.html)\n",
    "- [statsmodel](https://www.statsmodels.org/stable/index.html)\n",
    "- [PyMCMC](https://pymcmc.readthedocs.io/en/latest/)\n",
    "\n",
    "\n",
    "## Les distributions\n",
    "\n",
    "- [Canopy](https://www.enthought.com/product/canopy/)\n",
    "- [Anaconda](https://www.anaconda.com)\n"
   ]
  },
  {
   "cell_type": "markdown",
   "metadata": {},
   "source": [
    "# La distribution Anaconda\n",
    "\n",
    "\n",
    "## les outils de développement\n",
    "\n",
    "- L'environement de travail classique en python scientifique\n",
    "- L'interpreteur (REPL) IPython\n",
    "- Spyder  vs VSCode\n",
    "- Jupyter Notebook et JupyterLab\n",
    "\n",
    "## La tuyauterie\n",
    "\n",
    "- L'outil `pip`, `venv`\n",
    "- `conda`\n",
    "\n",
    "### Les environements virtuels\n",
    "\n",
    "\n",
    "![Ce qu'il faut éviter](https://imgs.xkcd.com/comics/python_environment.png)\n",
    "\n",
    "\n",
    "\n",
    "```sh\n",
    "conda create -n formation python=3.7\n",
    "conda activate formation\n",
    "```\n"
   ]
  },
  {
   "cell_type": "code",
   "execution_count": null,
   "metadata": {},
   "outputs": [],
   "source": []
  },
  {
   "cell_type": "code",
   "execution_count": null,
   "metadata": {},
   "outputs": [],
   "source": []
  }
 ],
 "metadata": {
  "kernelspec": {
   "display_name": "Python 3",
   "language": "python",
   "name": "python3"
  },
  "language_info": {
   "codemirror_mode": {
    "name": "ipython",
    "version": 3
   },
   "file_extension": ".py",
   "mimetype": "text/x-python",
   "name": "python",
   "nbconvert_exporter": "python",
   "pygments_lexer": "ipython3",
   "version": "3.7.1"
  }
 },
 "nbformat": 4,
 "nbformat_minor": 2
}
