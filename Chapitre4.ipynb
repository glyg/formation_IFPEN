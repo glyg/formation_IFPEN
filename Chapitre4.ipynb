{
 "cells": [
  {
   "cell_type": "markdown",
   "metadata": {},
   "source": [
    "# Optimiser son code"
   ]
  },
  {
   "cell_type": "code",
   "execution_count": 76,
   "metadata": {},
   "outputs": [],
   "source": [
    "import numpy as np\n",
    "import time\n",
    "import matplotlib.pyplot as plt\n",
    "from matplotlib import animation\n",
    "\n",
    "%matplotlib inline\n",
    "\n",
    "\n",
    "def eval_pixel(row, col, grid, next_grid):\n",
    "    \"\"\"Follows the rules of Conway's game of life to\n",
    "    flip (or not) a pixel in a grid\n",
    "    \"\"\"\n",
    "    n, m = grid.shape\n",
    "    sub_grid = grid[\n",
    "        max(row-1, 0): min(n, row+2),\n",
    "        max(col-1, 0): min(m, col+2)]\n",
    "    if grid[row, col] and not (2 < sub_grid.sum() < 5):\n",
    "        next_grid[row, col] = 0\n",
    "    elif sub_grid.sum() == 3:\n",
    "        next_grid[row, col] = 1\n",
    "\n",
    "\n",
    "def conway_step(grid):\n",
    "    \"\"\"Applies Conway's rule for every pixel on a grid\n",
    "    \"\"\"\n",
    "    ii, jj = np.meshgrid(\n",
    "        np.arange(grid.shape[0]),\n",
    "        np.arange(grid.shape[1]) )\n",
    "\n",
    "    next_grid = grid.copy()\n",
    "    for i, j in zip(ii.ravel(), jj.ravel()):\n",
    "        eval_pixel(i, j, grid, next_grid)\n",
    "    return next_grid\n",
    "\n",
    "\n",
    "def conway_loop(grid, ax=None):\n",
    "    \"\"\"Play Conways game of life on repeat\n",
    "    \"\"\"\n",
    "    \n",
    "    while True:\n",
    "        try:\n",
    "            grid = conway_step(grid)\n",
    "            fig, ax = show_conway(grid, None)\n",
    "            time.sleep(1)\n",
    "\n",
    "        except KeyboardInterrupt:\n",
    "            print('Done')\n",
    "            break\n",
    "\n",
    "def show_conway(grid, ax=None):\n",
    "    if ax is None:\n",
    "        fig, ax = plt.subplots()\n",
    "    else:\n",
    "        fig = ax.get_figure()\n",
    "        fig.clear()\n",
    "        \n",
    "    im = ax.imshow(grid, cmap='Greys')\n",
    "    ax.set_axis_off()\n",
    "    \n",
    "    return fig, ax\n",
    "\n",
    "grid_shape = 100, 100\n",
    "\n",
    "grid = np.random.randint(0, 2, size=grid_shape, dtype=np.uint8)\n",
    "#grid[1:4, 3] = 1\n",
    "\n"
   ]
  },
  {
   "cell_type": "code",
   "execution_count": 77,
   "metadata": {},
   "outputs": [
    {
     "data": {
      "image/png": "[encoded data removed]",
      "text/plain": [
       "<Figure size 432x288 with 1 Axes>"
      ]
     },
     "metadata": {
      "needs_background": "light"
     },
     "output_type": "display_data"
    }
   ],
   "source": [
    "fig, ax = show_conway(grid)"
   ]
  },
  {
   "cell_type": "code",
   "execution_count": 126,
   "metadata": {},
   "outputs": [
    {
     "data": {
      "image/png": "[encoded data removed]",
      "text/plain": [
       "<Figure size 432x288 with 1 Axes>"
      ]
     },
     "metadata": {
      "needs_background": "light"
     },
     "output_type": "display_data"
    }
   ],
   "source": [
    "grid = conway_step(grid)\n",
    "fig, ax = show_conway(grid)"
   ]
  },
  {
   "cell_type": "markdown",
   "metadata": {},
   "source": [
    "## [Cython](https://docs.cython.org)"
   ]
  },
  {
   "cell_type": "code",
   "execution_count": null,
   "metadata": {},
   "outputs": [],
   "source": []
  },
  {
   "cell_type": "markdown",
   "metadata": {},
   "source": [
    "## [Numba](https://numba.pydata.org/)"
   ]
  },
  {
   "cell_type": "code",
   "execution_count": null,
   "metadata": {},
   "outputs": [],
   "source": []
  },
  {
   "cell_type": "markdown",
   "metadata": {},
   "source": [
    "## [Threading](https://docs.python.org/3.7/tutorial/stdlib2.html#multi-threading)"
   ]
  },
  {
   "cell_type": "code",
   "execution_count": 127,
   "metadata": {},
   "outputs": [],
   "source": [
    "import threading"
   ]
  },
  {
   "cell_type": "code",
   "execution_count": 294,
   "metadata": {},
   "outputs": [],
   "source": [
    "class ConwayStep(threading.Thread):\n",
    "    def __init__(self, block, grid, next_grid):\n",
    "        threading.Thread.__init__(self)\n",
    "        self.block = block\n",
    "        self.grid = grid\n",
    "        self.next_grid = next_grid\n",
    "        \n",
    "    def run(self):\n",
    "        start_i, stop_i, start_j, stop_j = self.block\n",
    "        #print(f'running thred with start at {start_i, start_j}')\n",
    "        ii, jj = np.meshgrid(\n",
    "            np.arange(start_i, stop_i),\n",
    "            np.arange(start_j, stop_j)\n",
    "        )\n",
    "        for i, j in zip(ii.ravel(), jj.ravel()):\n",
    "            eval_pixel(i, j, self.grid, self.next_grid)\n",
    "\n",
    "\n",
    "\n",
    "def parallel_step(grid, blocks):\n",
    "    next_grid = grid.copy()\n",
    "\n",
    "    threads = []\n",
    "    for b in blocks:\n",
    "        threads.append(ConwayStep(b, grid, next_grid))\n",
    "    for th in threads:\n",
    "        th.start()\n",
    "\n",
    "    for th in threads:\n",
    "        th.join()\n",
    "    \n",
    "    return next_grid\n",
    "    \n"
   ]
  },
  {
   "cell_type": "code",
   "execution_count": 295,
   "metadata": {},
   "outputs": [
    {
     "data": {
      "image/png": "[encoded data removed]",
      "text/plain": [
       "<Figure size 432x288 with 1 Axes>"
      ]
     },
     "metadata": {
      "needs_background": "light"
     },
     "output_type": "display_data"
    }
   ],
   "source": [
    "grid_shape = 100, 100\n",
    "grid = np.random.randint(0, 2, size=grid_shape, dtype=np.uint8)\n",
    "        \n",
    "\n",
    "n, m = grid.shape\n",
    "size_i = n // 2\n",
    "size_j = m // 2\n",
    "\n",
    "\n",
    "blocks = [\n",
    "    (0, size_i, 0, size_j),\n",
    "    (size_i, n, 0, size_j),\n",
    "    (0, size_i, size_j, m),\n",
    "    (size_i, n, size_j, m)\n",
    "]\n",
    "\n",
    "\n",
    "\n",
    "fig, ax = show_conway(grid)"
   ]
  },
  {
   "cell_type": "code",
   "execution_count": 329,
   "metadata": {},
   "outputs": [
    {
     "data": {
      "image/png": "[encoded data removed]",
      "text/plain": [
       "<Figure size 432x288 with 1 Axes>"
      ]
     },
     "metadata": {
      "needs_background": "light"
     },
     "output_type": "display_data"
    }
   ],
   "source": [
    "grid = parallel_step(grid, blocks)\n",
    "fig, ax = show_conway(grid)\n"
   ]
  },
  {
   "cell_type": "code",
   "execution_count": 270,
   "metadata": {},
   "outputs": [
    {
     "name": "stdout",
     "output_type": "stream",
     "text": [
      "120 ms ± 3.25 ms per loop (mean ± std. dev. of 7 runs, 10 loops each)\n"
     ]
    }
   ],
   "source": [
    "%timeit parallel_step(grid, blocks)"
   ]
  },
  {
   "cell_type": "code",
   "execution_count": 271,
   "metadata": {},
   "outputs": [
    {
     "name": "stdout",
     "output_type": "stream",
     "text": [
      "115 ms ± 2.02 ms per loop (mean ± std. dev. of 7 runs, 10 loops each)\n"
     ]
    }
   ],
   "source": [
    "%timeit conway_step(grid)"
   ]
  },
  {
   "cell_type": "markdown",
   "metadata": {},
   "source": [
    "## Multiprocessing"
   ]
  },
  {
   "cell_type": "code",
   "execution_count": 272,
   "metadata": {},
   "outputs": [
    {
     "name": "stdout",
     "output_type": "stream",
     "text": [
      "main line\n",
      "module name: __main__\n",
      "parent process: 10708\n",
      "process id: 14299\n",
      "function f\n",
      "module name: __main__\n",
      "parent process: 14299\n",
      "process id: 5182\n",
      "hello bob\n"
     ]
    }
   ],
   "source": [
    "from multiprocessing import Process\n",
    "import os\n",
    "\n",
    "def info(title):\n",
    "    print(title)\n",
    "    print('module name:', __name__)\n",
    "    print('parent process:', os.getppid())\n",
    "    print('process id:', os.getpid())\n",
    "\n",
    "def f(name):\n",
    "    info('function f')\n",
    "    print('hello', name)\n",
    "\n",
    "info('main line')\n",
    "p = Process(target=f, args=('bob',))\n",
    "p.start()\n",
    "p.join()"
   ]
  },
  {
   "cell_type": "markdown",
   "metadata": {},
   "source": [
    "### No (trivialy) shared data!!"
   ]
  },
  {
   "cell_type": "code",
   "execution_count": 292,
   "metadata": {},
   "outputs": [],
   "source": [
    "class ConwayStep_mp(Process):\n",
    "    def __init__(self, block, grid, next_grid):\n",
    "        Process.__init__(self)\n",
    "        self.block = block\n",
    "        self.grid = grid\n",
    "        self.next_grid = next_grid\n",
    "        \n",
    "    def run(self):\n",
    "        start_i, stop_i, start_j, stop_j = self.block\n",
    "        #print(f'running thred with start at {start_i, start_j}')\n",
    "        ii, jj = np.meshgrid(\n",
    "            np.arange(start_i, stop_i),\n",
    "            np.arange(start_j, stop_j)\n",
    "        )\n",
    "        for i, j in zip(ii.ravel(), jj.ravel()):\n",
    "            eval_pixel(i, j, self.grid, self.next_grid)\n",
    "\n",
    "\n",
    "def parallel_step_mp(grid, blocks):\n",
    "    next_grid = grid.copy()\n",
    "\n",
    "    processes = []\n",
    "    for b in blocks:\n",
    "        processes.append(ConwayStep_mp(b, grid, next_grid))\n",
    "    for th in processes:\n",
    "        th.start()\n",
    "\n",
    "    for th in processes:\n",
    "        th.join()\n",
    "    \n",
    "    return next_grid\n",
    "    \n"
   ]
  },
  {
   "cell_type": "code",
   "execution_count": 279,
   "metadata": {},
   "outputs": [
    {
     "name": "stdout",
     "output_type": "stream",
     "text": [
      "85.7 ms ± 3.99 ms per loop (mean ± std. dev. of 7 runs, 10 loops each)\n"
     ]
    }
   ],
   "source": [
    "%timeit parallel_step_mp(grid, blocks)"
   ]
  },
  {
   "cell_type": "code",
   "execution_count": 334,
   "metadata": {},
   "outputs": [
    {
     "data": {
      "image/png": "[encoded data removed]",
      "text/plain": [
       "<Figure size 432x288 with 1 Axes>"
      ]
     },
     "metadata": {
      "needs_background": "light"
     },
     "output_type": "display_data"
    }
   ],
   "source": [
    "grid = parallel_step_mp(grid, blocks)\n",
    "fig, ax = show_conway(grid)"
   ]
  },
  {
   "cell_type": "code",
   "execution_count": null,
   "metadata": {},
   "outputs": [],
   "source": []
  }
 ],
 "metadata": {
  "kernelspec": {
   "display_name": "Python 3",
   "language": "python",
   "name": "python3"
  },
  "language_info": {
   "codemirror_mode": {
    "name": "ipython",
    "version": 3
   },
   "file_extension": ".py",
   "mimetype": "text/x-python",
   "name": "python",
   "nbconvert_exporter": "python",
   "pygments_lexer": "ipython3",
   "version": "3.7.1"
  }
 },
 "nbformat": 4,
 "nbformat_minor": 2
}
