{
 "cells": [
  {
   "cell_type": "markdown",
   "metadata": {},
   "source": [
    "# Calcul scientifique en Python "
   ]
  },
  {
   "cell_type": "markdown",
   "metadata": {},
   "source": [
    "## Les flottants"
   ]
  },
  {
   "cell_type": "code",
   "execution_count": 14,
   "metadata": {},
   "outputs": [
    {
     "data": {
      "text/plain": [
       "1.0000000000000056e-100"
      ]
     },
     "execution_count": 14,
     "metadata": {},
     "output_type": "execute_result"
    }
   ],
   "source": [
    "0.1 ** 100"
   ]
  },
  {
   "cell_type": "code",
   "execution_count": 16,
   "metadata": {},
   "outputs": [
    {
     "data": {
      "text/plain": [
       "1000000000000000055511151231257827021181583404541015625"
      ]
     },
     "execution_count": 16,
     "metadata": {},
     "output_type": "execute_result"
    }
   ],
   "source": [
    "3602879701896397 * 10 ** 55 // 2 ** 55"
   ]
  },
  {
   "cell_type": "code",
   "execution_count": 15,
   "metadata": {},
   "outputs": [
    {
     "data": {
      "text/plain": [
       "False"
      ]
     },
     "execution_count": 15,
     "metadata": {},
     "output_type": "execute_result"
    }
   ],
   "source": [
    ".1 + .1 + .1 == .3"
   ]
  },
  {
   "cell_type": "code",
   "execution_count": 17,
   "metadata": {},
   "outputs": [
    {
     "data": {
      "text/plain": [
       "'0.10000000000000001'"
      ]
     },
     "execution_count": 17,
     "metadata": {},
     "output_type": "execute_result"
    }
   ],
   "source": [
    "format(0.1, '.17f')"
   ]
  },
  {
   "cell_type": "markdown",
   "metadata": {},
   "source": [
    "## Numpy"
   ]
  },
  {
   "cell_type": "markdown",
   "metadata": {},
   "source": [
    "### L'objet `np.ndarray`\n",
    "\n",
    "Types de données, ordre C et ordre F"
   ]
  },
  {
   "cell_type": "code",
   "execution_count": null,
   "metadata": {},
   "outputs": [],
   "source": []
  },
  {
   "cell_type": "markdown",
   "metadata": {},
   "source": [
    "### `shape` et indexation"
   ]
  },
  {
   "cell_type": "code",
   "execution_count": null,
   "metadata": {},
   "outputs": [],
   "source": []
  },
  {
   "cell_type": "markdown",
   "metadata": {},
   "source": [
    "### Création de données\n",
    "\n",
    "Données pré-déterminées et données aléatoires, grilles"
   ]
  },
  {
   "cell_type": "code",
   "execution_count": null,
   "metadata": {},
   "outputs": [],
   "source": []
  },
  {
   "cell_type": "markdown",
   "metadata": {},
   "source": [
    "## Premier exercice - [Le jeu de la vie de Conway](https://fr.wikipedia.org/wiki/Jeu_de_la_vie)\n",
    "\n",
    "> Le jeu de la vie n’est pas un jeu, puisqu'il ne nécessite aucun joueur. Il s’agit d’un automate cellulaire, un modèle où chaque état conduit mécaniquement à l’état suivant à partir de règles pré-établies.\n",
    "\n",
    "> Le « jeu » se déroule sur une grille à deux dimensions, théoriquement infinie (mais de longueur et de largeur finies et plus ou moins grandes dans la pratique), dont les cases — qu’on appelle des « cellules », par analogie avec les cellules vivantes — peuvent prendre deux états distincts : « vivante » ou « morte ».\n",
    "\n",
    "\n",
    "> À chaque étape, l’évolution d’une cellule est entièrement déterminée par l’état de ses huit voisines de la façon suivante :\n",
    "\n",
    "\n",
    "* Une cellule morte possédant exactement trois voisines vivantes devient vivante (elle naît).\n",
    "\n",
    "* Une cellule vivante possédant deux ou trois voisines vivantes le reste, sinon elle meurt.\n",
    "\n",
    "\n",
    "\n",
    "_Écrivez l'évaluation de la règle pour un pixel_"
   ]
  },
  {
   "cell_type": "code",
   "execution_count": null,
   "metadata": {},
   "outputs": [],
   "source": []
  },
  {
   "cell_type": "markdown",
   "metadata": {},
   "source": [
    "<button data-toggle=\"collapse\" data-target=\"#sol\" class='btn btn-primary'>Solution</button>\n",
    "<div id=\"sol\" class=\"collapse\">\n",
    "\n",
    "```py\n",
    "import numpy as np\n",
    "import time\n",
    "\n",
    "grid_shape = 10, 10\n",
    "grid = np.random.randint(0, 2, size=grid_shape, dtype=np.uint8)\n",
    "#grid[1:4, 3] = 1\n",
    "print(grid)\n",
    "\n",
    "\n",
    "def eval_pixel(row, col, grid, next_grid):\n",
    "    \"\"\"Follows the rules of Conway's game of life to\n",
    "    flip (or not) a pixel in a grid\n",
    "    \"\"\"\n",
    "    n, m = grid.shape\n",
    "    sub_grid = grid[\n",
    "        max(row-1, 0): min(n, row+2),\n",
    "        max(col-1, 0): min(m, col+2)]\n",
    "    if grid[row, col] and not (2 < sub_grid.sum() < 5):\n",
    "        next_grid[row, col] = 0\n",
    "    elif sub_grid.sum() == 3:\n",
    "        next_grid[row, col] = 1\n",
    "\n",
    "\n",
    "def conway_step(grid):\n",
    "    \"\"\"Applies Conway's rule for every pixel on a grid\n",
    "    \"\"\"\n",
    "    ii, jj = np.meshgrid(\n",
    "        np.arange(grid.shape[0]),\n",
    "        np.arange(grid.shape[1]) )\n",
    "\n",
    "    next_grid = grid.copy()\n",
    "    for i, j in zip(ii.ravel(), jj.ravel()):\n",
    "        eval_neighbors(i, j, grid, next_grid)\n",
    "    return next_grid\n",
    "\n",
    "\n",
    "def conway_loop(grid):\n",
    "    \"\"\"Play Conways game of life on repeat\n",
    "    \"\"\"\n",
    "    while True:\n",
    "        try:\n",
    "            grid = conway_step(grid)\n",
    "            print(grid)\n",
    "            time.sleep(1)\n",
    "            \n",
    "        except KeyboardInterrupt:\n",
    "            print('Done')\n",
    "            break\n",
    "```\n",
    "\n",
    "</div>"
   ]
  },
  {
   "cell_type": "markdown",
   "metadata": {},
   "source": [
    "## Calcul"
   ]
  },
  {
   "cell_type": "code",
   "execution_count": null,
   "metadata": {},
   "outputs": [],
   "source": []
  },
  {
   "cell_type": "markdown",
   "metadata": {},
   "source": [
    "## Scipy"
   ]
  },
  {
   "cell_type": "code",
   "execution_count": null,
   "metadata": {},
   "outputs": [],
   "source": []
  },
  {
   "cell_type": "markdown",
   "metadata": {},
   "source": [
    "Exercice 2:\n",
    "\n",
    "> Créez un signal composé de différentes harmoniques (et de bruit) et évaluez sa FFT.\n",
    "\n"
   ]
  },
  {
   "cell_type": "markdown",
   "metadata": {},
   "source": [
    "<button data-toggle=\"collapse\" data-target=\"#sol2\" class='btn btn-primary'>Solution</button>\n",
    "<div id=\"sol2\" class=\"collapse\">\n",
    "\n",
    "\n",
    "\n",
    "```python\n",
    "import numpy as np\n",
    "import matplotlib.pyplot as plt\n",
    "\n",
    "\n",
    "t = np.linspace(0, 100, 2**12)\n",
    "harms = np.random.random(5) * 100\n",
    "phases = np.random.random(5) * np.pi\n",
    "signal = np.array(\n",
    "    [np.sin(omega*t + phi)\n",
    "      for omega, phi in zip(harms, phases)]\n",
    ").sum(axis=0)\n",
    "\n",
    "fft = np.fft.fft(signal)\n",
    "freqs = np.fft.fftfreq(2**12, 100 / 2**12)\n",
    "\n",
    "plt.figure()\n",
    "plt.plot(signal)\n",
    "\n",
    "plt.figure()\n",
    "plt.plot(np.abs(freqs), np.abs(fft))\n",
    "\n",
    "print(np.sort(harms) / (2*np.pi))\n",
    "```\n",
    "</div>"
   ]
  },
  {
   "cell_type": "code",
   "execution_count": 52,
   "metadata": {},
   "outputs": [
    {
     "data": {
      "text/plain": [
       "array([ 3.06275594,  1.90623805, -0.58831058, ..., -1.7464471 ,\n",
       "       -1.24271986, -0.28933429])"
      ]
     },
     "execution_count": 52,
     "metadata": {},
     "output_type": "execute_result"
    }
   ],
   "source": [
    "signal"
   ]
  },
  {
   "cell_type": "markdown",
   "metadata": {},
   "source": [
    "### Exercice 3:\n",
    "\n",
    "> Convoluez le précédent signal par un filtre passe bas de fréquence 10 Hz\n",
    "\n",
    "<button data-toggle=\"collapse\" data-target=\"#sol3\" class='btn btn-primary'>Solution</button>\n",
    "<div id=\"sol3\" class=\"collapse\">\n",
    "\n",
    "\n",
    "```python\n",
    "from scipy.signal import fftconvolve\n",
    "\n",
    "filtr = np.ones(100)\n",
    "filtr[10:] = 0\n",
    "\n",
    "convd = fftconvolve(signal, filtr, mode='same')\n",
    "\n",
    "plt.plot(t, signal)\n",
    "plt.plot(t, convd, alpha=0.4)\n",
    "```"
   ]
  },
  {
   "cell_type": "markdown",
   "metadata": {},
   "source": [
    "## Pandas "
   ]
  },
  {
   "cell_type": "markdown",
   "metadata": {},
   "source": [
    "#### I/O"
   ]
  },
  {
   "cell_type": "code",
   "execution_count": 116,
   "metadata": {},
   "outputs": [],
   "source": [
    "import pandas as pd\n",
    "from pathlib import Path"
   ]
  },
  {
   "cell_type": "code",
   "execution_count": 118,
   "metadata": {},
   "outputs": [],
   "source": [
    "col_file = Path(\"ifpen_data/SOLUTION3D/ASCII_COLUMN_FILE/sprayA000015_+1.40019e-03.col\")"
   ]
  },
  {
   "cell_type": "code",
   "execution_count": 119,
   "metadata": {},
   "outputs": [
    {
     "name": "stdout",
     "output_type": "stream",
     "text": [
      "1.400185e-03 column format file\r\n",
      "               x               y               z          volume         yC12H26\r\n",
      "   4.1800000e-02  -5.9999998e-03  -5.9999998e-03   5.1199911e-10   1.0279532e-06\r\n",
      "   4.1000001e-02  -5.9999998e-03  -5.9999998e-03   5.1199911e-10   7.7545047e-07\r\n",
      "   4.0200000e-02  -5.9999998e-03  -5.9999998e-03   5.1200176e-10   5.9764074e-07\r\n",
      "   3.8599999e-02  -5.9999998e-03  -5.2000001e-03   5.1200097e-10   1.0017285e-06\r\n",
      "   3.8599999e-02  -5.2000001e-03  -5.9999998e-03   5.1200097e-10   9.5407586e-07\r\n",
      "   3.9400000e-02  -5.9999998e-03  -5.9999998e-03   5.1199911e-10   4.5205115e-07\r\n",
      "   3.8599999e-02  -5.9999998e-03  -5.9999998e-03   5.1200123e-10   3.0310602e-07\r\n",
      "   3.7799999e-02  -5.9999998e-03  -5.2000000e-03   5.1199885e-10   7.0007781e-07\r\n"
     ]
    }
   ],
   "source": [
    "!head {col_file}"
   ]
  },
  {
   "cell_type": "code",
   "execution_count": 174,
   "metadata": {},
   "outputs": [
    {
     "data": {
      "text/plain": [
       "75.59660455248356"
      ]
     },
     "execution_count": 174,
     "metadata": {},
     "output_type": "execute_result"
    }
   ],
   "source": [
    "cdf_data.shape[0]**(1/3)"
   ]
  },
  {
   "cell_type": "code",
   "execution_count": 173,
   "metadata": {},
   "outputs": [
    {
     "data": {
      "text/plain": [
       "218074500"
      ]
     },
     "execution_count": 173,
     "metadata": {},
     "output_type": "execute_result"
    }
   ],
   "source": [
    "602 * 575 * 630"
   ]
  },
  {
   "cell_type": "code",
   "execution_count": 138,
   "metadata": {},
   "outputs": [],
   "source": [
    "import ipyvolume as ipv"
   ]
  },
  {
   "cell_type": "code",
   "execution_count": 144,
   "metadata": {},
   "outputs": [],
   "source": [
    "from matplotlib import cm"
   ]
  },
  {
   "cell_type": "code",
   "execution_count": 146,
   "metadata": {},
   "outputs": [],
   "source": [
    "cmap = cm.get_cmap(\"Reds\")\n",
    "normed = (\n",
    "    cdf_data.yC12H26 - cdf_data.yC12H26.min()) / (\n",
    "    cdf_data.yC12H26.max() - cdf_data.yC12H26.min())\n"
   ]
  },
  {
   "cell_type": "code",
   "execution_count": 160,
   "metadata": {},
   "outputs": [
    {
     "name": "stdout",
     "output_type": "stream",
     "text": [
      "Automatic pdb calling has been turned ON\n"
     ]
    }
   ],
   "source": [
    "%pdb"
   ]
  },
  {
   "cell_type": "code",
   "execution_count": 189,
   "metadata": {},
   "outputs": [
    {
     "data": {
      "application/vnd.jupyter.widget-view+json": {
       "model_id": "bd472a839390488baf66e62af446517d",
       "version_major": 2,
       "version_minor": 0
      },
      "text/plain": [
       "VBox(children=(Figure(camera=PerspectiveCamera(fov=46.0, position=(0.0, 0.0, 2.0), quaternion=(0.0, 0.0, 0.0, …"
      ]
     },
     "metadata": {},
     "output_type": "display_data"
    }
   ],
   "source": [
    "ipv.clear()\n",
    "ipv.scatter(\n",
    "    x=cdf_data.x[cdf_data.y>0].values,\n",
    "    y=cdf_data.y[cdf_data.y>0].values,\n",
    "    z=cdf_data.z[cdf_data.y>0].values,\n",
    "    color=cmap(normed[cdf_data.y>0]),\n",
    "    size=0.5,\n",
    "    marker=\"diamond\"\n",
    ")\n",
    "\n",
    "ipv.xlim(-1e-2, 1e-2)\n",
    "ipv.ylim(-1e-2, 1e-2)\n",
    "ipv.zlim(-1e-2, 1e-2)\n",
    "\n",
    "\n",
    "ipv.squarelim()\n",
    "\n",
    "ipv.show()"
   ]
  },
  {
   "cell_type": "code",
   "execution_count": 190,
   "metadata": {},
   "outputs": [],
   "source": [
    "from scipy.spatial import qhull"
   ]
  },
  {
   "cell_type": "code",
   "execution_count": null,
   "metadata": {},
   "outputs": [],
   "source": [
    "h = plt.hist(cdf_data)"
   ]
  }
 ],
 "metadata": {
  "kernelspec": {
   "display_name": "Python 3",
   "language": "python",
   "name": "python3"
  },
  "language_info": {
   "codemirror_mode": {
    "name": "ipython",
    "version": 3
   },
   "file_extension": ".py",
   "mimetype": "text/x-python",
   "name": "python",
   "nbconvert_exporter": "python",
   "pygments_lexer": "ipython3",
   "version": "3.7.1"
  }
 },
 "nbformat": 4,
 "nbformat_minor": 2
}
