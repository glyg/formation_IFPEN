{
 "cells": [
  {
   "cell_type": "markdown",
   "metadata": {},
   "source": [
    "# Calcul scientifique en Python "
   ]
  },
  {
   "cell_type": "markdown",
   "metadata": {},
   "source": [
    "## Les flottants"
   ]
  },
  {
   "cell_type": "code",
   "execution_count": 1,
   "metadata": {},
   "outputs": [
    {
     "data": {
      "text/plain": [
       "1.0000000000000056e-100"
      ]
     },
     "execution_count": 1,
     "metadata": {},
     "output_type": "execute_result"
    }
   ],
   "source": [
    "0.1 ** 100"
   ]
  },
  {
   "cell_type": "code",
   "execution_count": 2,
   "metadata": {},
   "outputs": [
    {
     "data": {
      "text/plain": [
       "1000000000000000055511151231257827021181583404541015625"
      ]
     },
     "execution_count": 2,
     "metadata": {},
     "output_type": "execute_result"
    }
   ],
   "source": [
    "3602879701896397 * 10 ** 55 // 2 ** 55"
   ]
  },
  {
   "cell_type": "code",
   "execution_count": 3,
   "metadata": {},
   "outputs": [
    {
     "data": {
      "text/plain": [
       "False"
      ]
     },
     "execution_count": 3,
     "metadata": {},
     "output_type": "execute_result"
    }
   ],
   "source": [
    ".1 + .1 + .1 == .3"
   ]
  },
  {
   "cell_type": "code",
   "execution_count": 4,
   "metadata": {},
   "outputs": [
    {
     "data": {
      "text/plain": [
       "'0.10000000000000001'"
      ]
     },
     "execution_count": 4,
     "metadata": {},
     "output_type": "execute_result"
    }
   ],
   "source": [
    "format(0.1, '.17f')"
   ]
  },
  {
   "cell_type": "markdown",
   "metadata": {},
   "source": [
    "## Numpy"
   ]
  },
  {
   "cell_type": "markdown",
   "metadata": {},
   "source": [
    "### L'objet `np.ndarray`\n",
    "\n",
    "Types de données, ordre C et ordre F"
   ]
  },
  {
   "cell_type": "code",
   "execution_count": null,
   "metadata": {},
   "outputs": [],
   "source": []
  },
  {
   "cell_type": "markdown",
   "metadata": {},
   "source": [
    "### `shape` et indexation"
   ]
  },
  {
   "cell_type": "code",
   "execution_count": null,
   "metadata": {},
   "outputs": [],
   "source": []
  },
  {
   "cell_type": "markdown",
   "metadata": {},
   "source": [
    "### Création de données\n",
    "\n",
    "Données pré-déterminées et données aléatoires, grilles"
   ]
  },
  {
   "cell_type": "code",
   "execution_count": null,
   "metadata": {},
   "outputs": [],
   "source": []
  },
  {
   "cell_type": "markdown",
   "metadata": {},
   "source": [
    "### I/O"
   ]
  },
  {
   "cell_type": "code",
   "execution_count": null,
   "metadata": {},
   "outputs": [],
   "source": []
  },
  {
   "cell_type": "markdown",
   "metadata": {},
   "source": [
    "## Premier exercice - [Le jeu de la vie de Conway](https://fr.wikipedia.org/wiki/Jeu_de_la_vie)\n",
    "\n",
    "> Le jeu de la vie n’est pas un jeu, puisqu'il ne nécessite aucun joueur. Il s’agit d’un automate cellulaire, un modèle où chaque état conduit mécaniquement à l’état suivant à partir de règles pré-établies.\n",
    "\n",
    "> Le « jeu » se déroule sur une grille à deux dimensions, théoriquement infinie (mais de longueur et de largeur finies et plus ou moins grandes dans la pratique), dont les cases — qu’on appelle des « cellules », par analogie avec les cellules vivantes — peuvent prendre deux états distincts : « vivante » ou « morte ».\n",
    "\n",
    "\n",
    "> À chaque étape, l’évolution d’une cellule est entièrement déterminée par l’état de ses huit voisines de la façon suivante :\n",
    "\n",
    "\n",
    "* Une cellule morte possédant exactement trois voisines vivantes devient vivante (elle naît).\n",
    "\n",
    "* Une cellule vivante possédant deux ou trois voisines vivantes le reste, sinon elle meurt.\n",
    "\n",
    "\n",
    "\n",
    "_Écrivez l'évaluation de la règle pour un pixel_"
   ]
  },
  {
   "cell_type": "code",
   "execution_count": null,
   "metadata": {},
   "outputs": [],
   "source": []
  },
  {
   "cell_type": "markdown",
   "metadata": {},
   "source": [
    "<button data-toggle=\"collapse\" data-target=\"#sol\" class='btn btn-primary'>Solution</button>\n",
    "<div id=\"sol\" class=\"collapse\">\n",
    "\n",
    "```py\n",
    "import numpy as np\n",
    "import time\n",
    "\n",
    "grid_shape = 10, 10\n",
    "grid = np.random.randint(0, 2, size=grid_shape, dtype=np.uint8)\n",
    "#grid[1:4, 3] = 1\n",
    "print(grid)\n",
    "\n",
    "\n",
    "def eval_pixel(row, col, grid, next_grid):\n",
    "    \"\"\"Follows the rules of Conway's game of life to\n",
    "    flip (or not) a pixel in a grid\n",
    "    \"\"\"\n",
    "    n, m = grid.shape\n",
    "    sub_grid = grid[\n",
    "        max(row-1, 0): min(n, row+2),\n",
    "        max(col-1, 0): min(m, col+2)]\n",
    "    if grid[row, col] and not (2 < sub_grid.sum() < 5):\n",
    "        next_grid[row, col] = 0\n",
    "    elif sub_grid.sum() == 3:\n",
    "        next_grid[row, col] = 1\n",
    "\n",
    "\n",
    "def conway_step(grid):\n",
    "    \"\"\"Applies Conway's rule for every pixel on a grid\n",
    "    \"\"\"\n",
    "    ii, jj = np.meshgrid(\n",
    "        np.arange(grid.shape[0]),\n",
    "        np.arange(grid.shape[1]) )\n",
    "\n",
    "    next_grid = grid.copy()\n",
    "    for i, j in zip(ii.ravel(), jj.ravel()):\n",
    "        eval_neighbors(i, j, grid, next_grid)\n",
    "    return next_grid\n",
    "\n",
    "\n",
    "def conway_loop(grid):\n",
    "    \"\"\"Play Conways game of life on repeat\n",
    "    \"\"\"\n",
    "    while True:\n",
    "        try:\n",
    "            grid = conway_step(grid)\n",
    "            print(grid)\n",
    "            time.sleep(1)\n",
    "            \n",
    "        except KeyboardInterrupt:\n",
    "            print('Done')\n",
    "            break\n",
    "```\n",
    "\n",
    "</div>"
   ]
  },
  {
   "cell_type": "markdown",
   "metadata": {},
   "source": [
    "## Calcul"
   ]
  },
  {
   "cell_type": "code",
   "execution_count": null,
   "metadata": {},
   "outputs": [],
   "source": []
  },
  {
   "cell_type": "markdown",
   "metadata": {},
   "source": [
    "## Scipy"
   ]
  },
  {
   "cell_type": "code",
   "execution_count": null,
   "metadata": {},
   "outputs": [],
   "source": []
  },
  {
   "cell_type": "markdown",
   "metadata": {},
   "source": [
    "Exercice 2:\n",
    "\n",
    "> Créez un signal composé de différentes harmoniques (et de bruit) et évaluez sa FFT.\n",
    "\n"
   ]
  },
  {
   "cell_type": "markdown",
   "metadata": {},
   "source": [
    "<button data-toggle=\"collapse\" data-target=\"#sol2\" class='btn btn-primary'>Solution</button>\n",
    "<div id=\"sol2\" class=\"collapse\">\n",
    "\n",
    "\n",
    "\n",
    "```python\n",
    "import numpy as np\n",
    "import matplotlib.pyplot as plt\n",
    "\n",
    "\n",
    "t = np.linspace(0, 100, 2**12)\n",
    "harms = np.random.random(5) * 100\n",
    "phases = np.random.random(5) * np.pi\n",
    "signal = np.array(\n",
    "    [np.sin(omega*t + phi)\n",
    "      for omega, phi in zip(harms, phases)]\n",
    ").sum(axis=0)\n",
    "\n",
    "fft = np.fft.fft(signal)\n",
    "freqs = np.fft.fftfreq(2**12, 100 / 2**12)\n",
    "\n",
    "plt.figure()\n",
    "plt.plot(signal)\n",
    "\n",
    "plt.figure()\n",
    "plt.plot(np.abs(freqs), np.abs(fft))\n",
    "\n",
    "print(np.sort(harms) / (2*np.pi))\n",
    "```\n",
    "</div>"
   ]
  },
  {
   "cell_type": "code",
   "execution_count": null,
   "metadata": {},
   "outputs": [],
   "source": [
    "\n"
   ]
  },
  {
   "cell_type": "markdown",
   "metadata": {},
   "source": [
    "### Exercice 3:\n",
    "\n",
    "> Convoluez le précédent signal par un filtre passe bas.\n",
    "\n",
    "<button data-toggle=\"collapse\" data-target=\"#sol3\" class='btn btn-primary'>Solution</button>\n",
    "<div id=\"sol3\" class=\"collapse\">\n",
    "\n",
    "\n",
    "```python\n",
    "from scipy.signal import fftconvolve\n",
    "\n",
    "filtr = np.ones(100)\n",
    "filtr[10:] = 0\n",
    "\n",
    "convd = fftconvolve(signal, filtr, mode='same')\n",
    "\n",
    "plt.plot(t, signal)\n",
    "plt.plot(t, convd, alpha=0.4)\n",
    "```"
   ]
  },
  {
   "cell_type": "markdown",
   "metadata": {},
   "source": [
    "## Pandas "
   ]
  },
  {
   "cell_type": "markdown",
   "metadata": {},
   "source": [
    "#### I/O"
   ]
  },
  {
   "cell_type": "code",
   "execution_count": null,
   "metadata": {},
   "outputs": [],
   "source": []
  },
  {
   "cell_type": "markdown",
   "metadata": {},
   "source": [
    "#### Exercice:\n",
    "\n",
    "Get data from a website and create a DataFrame.\n",
    "\n",
    "Go to https://openweathermap.org/api/hourly-forecast\n",
    "\n",
    "<button data-toggle=\"collapse\" data-target=\"#sol4\" class='btn btn-primary'>Solution</button>\n",
    "\n",
    "<div id=\"sol4\" class=\"collapse\">\n",
    "\n",
    "```python\n",
    "import requests\n",
    "import json\n",
    "\n",
    "response = requests.get(\n",
    "    \"http://samples.openweathermap.org/data/2.5/forecast/hourly?id=524901&appid=b6907d289e10d714a6e88b30761fae22\"\n",
    ")\n",
    "\n",
    "whole = pd.DataFrame.from_dict(json.loads(response.text)['list'])\n",
    "main = pd.DataFrame.from_records(whole['main'])\n",
    "main.set_index(pd.DatetimeIndex(whole[\"dt_txt\"]), inplace=True)\n",
    "```\n",
    "\n",
    "</div>"
   ]
  },
  {
   "cell_type": "markdown",
   "metadata": {},
   "source": [
    "### Indexation et sélection"
   ]
  },
  {
   "cell_type": "markdown",
   "metadata": {},
   "source": [
    "**Exercice:**\n",
    "\n",
    "Récupérer les jours pour lesquels la température est inférieure à 0°C"
   ]
  },
  {
   "cell_type": "code",
   "execution_count": 129,
   "metadata": {},
   "outputs": [],
   "source": []
  },
  {
   "cell_type": "markdown",
   "metadata": {},
   "source": [
    "### Split / apply / combine\n",
    "\n",
    "**Exercice:**\n",
    "\n",
    "Utiliser `np.cut` pour créer des gammes de températures, trouver la moyenne de chaque valeur par gamme.\n",
    "\n",
    "<button data-toggle=\"collapse\" data-target=\"#sol5\" class='btn btn-primary'>Solution</button>\n",
    "<div id=\"sol5\" class=\"collapse\">\n",
    "\n",
    "```python\n",
    "temp_cats = pd.cut(main['temp'], 5)\n",
    "main['temp_cat'] = temp_cats\n",
    "main.groupby('temp_cat').mean()\n",
    "```\n",
    "\n",
    "</div>"
   ]
  },
  {
   "cell_type": "code",
   "execution_count": null,
   "metadata": {},
   "outputs": [],
   "source": []
  },
  {
   "cell_type": "code",
   "execution_count": null,
   "metadata": {},
   "outputs": [],
   "source": []
  }
 ],
 "metadata": {
  "kernelspec": {
   "display_name": "Python 3",
   "language": "python",
   "name": "python3"
  },
  "language_info": {
   "codemirror_mode": {
    "name": "ipython",
    "version": 3
   },
   "file_extension": ".py",
   "mimetype": "text/x-python",
   "name": "python",
   "nbconvert_exporter": "python",
   "pygments_lexer": "ipython3",
   "version": "3.7.1"
  }
 },
 "nbformat": 4,
 "nbformat_minor": 2
}
