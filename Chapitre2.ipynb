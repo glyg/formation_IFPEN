{
 "cells": [
  {
   "cell_type": "markdown",
   "metadata": {},
   "source": [
    "# Calcul scientifique en Python "
   ]
  },
  {
   "cell_type": "markdown",
   "metadata": {},
   "source": [
    "## Les flottants"
   ]
  },
  {
   "cell_type": "code",
   "execution_count": 1,
   "metadata": {},
   "outputs": [
    {
     "data": {
      "text/plain": [
       "1.0000000000000056e-100"
      ]
     },
     "execution_count": 1,
     "metadata": {},
     "output_type": "execute_result"
    }
   ],
   "source": [
    "0.1 ** 100"
   ]
  },
  {
   "cell_type": "code",
   "execution_count": 1,
   "metadata": {},
   "outputs": [],
   "source": [
    "from math import isclose"
   ]
  },
  {
   "cell_type": "code",
   "execution_count": 2,
   "metadata": {},
   "outputs": [
    {
     "data": {
      "text/plain": [
       "True"
      ]
     },
     "execution_count": 2,
     "metadata": {},
     "output_type": "execute_result"
    }
   ],
   "source": [
    "isclose(0.1+0.1+0.1, 0.3)"
   ]
  },
  {
   "cell_type": "code",
   "execution_count": 3,
   "metadata": {},
   "outputs": [
    {
     "data": {
      "text/plain": [
       "False"
      ]
     },
     "execution_count": 3,
     "metadata": {},
     "output_type": "execute_result"
    }
   ],
   "source": [
    ".1 + .1 + .1 == .3"
   ]
  },
  {
   "cell_type": "code",
   "execution_count": 4,
   "metadata": {},
   "outputs": [
    {
     "data": {
      "text/plain": [
       "'0.10000000000000001'"
      ]
     },
     "execution_count": 4,
     "metadata": {},
     "output_type": "execute_result"
    }
   ],
   "source": [
    "format(0.1, '.17f')"
   ]
  },
  {
   "cell_type": "markdown",
   "metadata": {},
   "source": [
    "## Numpy"
   ]
  },
  {
   "cell_type": "markdown",
   "metadata": {},
   "source": [
    "### L'objet `np.ndarray`\n",
    "\n",
    "Types de données, ordre C et ordre F"
   ]
  },
  {
   "cell_type": "code",
   "execution_count": 11,
   "metadata": {},
   "outputs": [],
   "source": [
    "import numpy as np"
   ]
  },
  {
   "cell_type": "code",
   "execution_count": 13,
   "metadata": {},
   "outputs": [
    {
     "name": "stdout",
     "output_type": "stream",
     "text": [
      "[1, 2, 4, 5]\n",
      "[1 2 4 5]\n"
     ]
    }
   ],
   "source": [
    "ma_liste = [1, 2, 4, 5]\n",
    "mon_array = np.array(ma_liste)\n",
    "def mul\n",
    "print(mon_array)"
   ]
  },
  {
   "cell_type": "code",
   "execution_count": 16,
   "metadata": {},
   "outputs": [
    {
     "ename": "TypeError",
     "evalue": "unsupported operand type(s) for ** or pow(): 'list' and 'int'",
     "output_type": "error",
     "traceback": [
      "\u001b[1;31m---------------------------------------------------------------------------\u001b[0m",
      "\u001b[1;31mTypeError\u001b[0m                                 Traceback (most recent call last)",
      "\u001b[1;32m<ipython-input-16-2885a25a3824>\u001b[0m in \u001b[0;36m<module>\u001b[1;34m\u001b[0m\n\u001b[1;32m----> 1\u001b[1;33m \u001b[0mma_liste\u001b[0m \u001b[1;33m**\u001b[0m \u001b[1;36m2\u001b[0m\u001b[1;33m\u001b[0m\u001b[1;33m\u001b[0m\u001b[0m\n\u001b[0m",
      "\u001b[1;31mTypeError\u001b[0m: unsupported operand type(s) for ** or pow(): 'list' and 'int'"
     ]
    }
   ],
   "source": [
    "ma_liste ** 2"
   ]
  },
  {
   "cell_type": "code",
   "execution_count": 17,
   "metadata": {},
   "outputs": [
    {
     "data": {
      "text/plain": [
       "array([ 1,  4, 16, 25], dtype=int32)"
      ]
     },
     "execution_count": 17,
     "metadata": {},
     "output_type": "execute_result"
    }
   ],
   "source": [
    "mon_array ** 2"
   ]
  },
  {
   "cell_type": "code",
   "execution_count": 18,
   "metadata": {},
   "outputs": [],
   "source": [
    "def multiply(sequence, val):\n",
    "    \"\"\"Multiplies each element of the sequence by val\n",
    "    and returns the resulting list\n",
    "    \"\"\"\n",
    "    new_list = [s * val for s in sequence]\n",
    "    return new_list\n",
    "    "
   ]
  },
  {
   "cell_type": "code",
   "execution_count": 19,
   "metadata": {},
   "outputs": [
    {
     "data": {
      "text/plain": [
       "[3, 6, 12, 15]"
      ]
     },
     "execution_count": 19,
     "metadata": {},
     "output_type": "execute_result"
    }
   ],
   "source": [
    "multiply(ma_liste, 3)\n"
   ]
  },
  {
   "cell_type": "code",
   "execution_count": 26,
   "metadata": {},
   "outputs": [],
   "source": [
    "ma_liste_long = ma_liste * 100000\n",
    "long_array = np.array(ma_liste_long)"
   ]
  },
  {
   "cell_type": "code",
   "execution_count": 29,
   "metadata": {},
   "outputs": [
    {
     "name": "stdout",
     "output_type": "stream",
     "text": [
      "25.2 ms ± 202 µs per loop (mean ± std. dev. of 7 runs, 10 loops each)\n"
     ]
    }
   ],
   "source": [
    "%timeit multiply(ma_liste_long, 3)"
   ]
  },
  {
   "cell_type": "code",
   "execution_count": 30,
   "metadata": {},
   "outputs": [
    {
     "name": "stdout",
     "output_type": "stream",
     "text": [
      "794 µs ± 5.56 µs per loop (mean ± std. dev. of 7 runs, 1000 loops each)\n"
     ]
    }
   ],
   "source": [
    "%timeit long_array * 3"
   ]
  },
  {
   "cell_type": "code",
   "execution_count": null,
   "metadata": {},
   "outputs": [],
   "source": []
  },
  {
   "cell_type": "code",
   "execution_count": null,
   "metadata": {},
   "outputs": [],
   "source": []
  },
  {
   "cell_type": "markdown",
   "metadata": {},
   "source": [
    "### `shape` et indexation"
   ]
  },
  {
   "cell_type": "code",
   "execution_count": 37,
   "metadata": {},
   "outputs": [],
   "source": [
    "rect_array = long_array.reshape((400, 100, 10))"
   ]
  },
  {
   "cell_type": "code",
   "execution_count": 38,
   "metadata": {},
   "outputs": [
    {
     "data": {
      "text/plain": [
       "(400, 100, 10)"
      ]
     },
     "execution_count": 38,
     "metadata": {},
     "output_type": "execute_result"
    }
   ],
   "source": [
    "rect_array.shape"
   ]
  },
  {
   "cell_type": "code",
   "execution_count": 39,
   "metadata": {},
   "outputs": [
    {
     "data": {
      "text/plain": [
       "5"
      ]
     },
     "execution_count": 39,
     "metadata": {},
     "output_type": "execute_result"
    }
   ],
   "source": [
    "rect_array[100, 20, 3]"
   ]
  },
  {
   "cell_type": "code",
   "execution_count": 41,
   "metadata": {},
   "outputs": [
    {
     "data": {
      "text/plain": [
       "26"
      ]
     },
     "execution_count": 41,
     "metadata": {},
     "output_type": "execute_result"
    }
   ],
   "source": [
    "80 // 3"
   ]
  },
  {
   "cell_type": "code",
   "execution_count": 42,
   "metadata": {},
   "outputs": [
    {
     "data": {
      "text/plain": [
       "(10, 100, 10)"
      ]
     },
     "execution_count": 42,
     "metadata": {},
     "output_type": "execute_result"
    }
   ],
   "source": [
    "rect_array[:10].shape"
   ]
  },
  {
   "cell_type": "markdown",
   "metadata": {},
   "source": [
    "### Création de données\n",
    "\n",
    "Données pré-déterminées et données aléatoires, grilles"
   ]
  },
  {
   "cell_type": "code",
   "execution_count": 46,
   "metadata": {},
   "outputs": [
    {
     "data": {
      "text/plain": [
       "array([[0, 0, 0, 0, 0, 0, 0, 0, 0, 0],\n",
       "       [0, 0, 0, 0, 0, 0, 0, 0, 0, 0],\n",
       "       [0, 0, 0, 0, 0, 0, 0, 0, 0, 0],\n",
       "       [0, 0, 0, 0, 0, 0, 0, 0, 0, 0],\n",
       "       [0, 0, 0, 0, 0, 0, 0, 0, 0, 0],\n",
       "       [0, 0, 0, 0, 0, 0, 0, 0, 0, 0],\n",
       "       [0, 0, 0, 0, 0, 0, 0, 0, 0, 0],\n",
       "       [0, 0, 0, 0, 0, 0, 0, 0, 0, 0],\n",
       "       [0, 0, 0, 0, 0, 0, 0, 0, 0, 0],\n",
       "       [0, 0, 0, 0, 0, 0, 0, 0, 0, 0]], dtype=uint8)"
      ]
     },
     "execution_count": 46,
     "metadata": {},
     "output_type": "execute_result"
    }
   ],
   "source": [
    "np.zeros((10, 10), dtype=np.uint8)"
   ]
  },
  {
   "cell_type": "code",
   "execution_count": 51,
   "metadata": {},
   "outputs": [
    {
     "data": {
      "text/plain": [
       "array([[1., 0., 0., 0., 0., 0., 0., 0., 0., 1.],\n",
       "       [0., 1., 0., 0., 0., 0., 0., 0., 1., 0.],\n",
       "       [0., 0., 1., 0., 0., 0., 0., 1., 0., 0.],\n",
       "       [0., 0., 0., 1., 0., 0., 1., 0., 0., 0.],\n",
       "       [0., 0., 0., 0., 1., 1., 0., 0., 0., 0.],\n",
       "       [0., 0., 0., 0., 1., 1., 0., 0., 0., 0.],\n",
       "       [0., 0., 0., 1., 0., 0., 1., 0., 0., 0.],\n",
       "       [0., 0., 1., 0., 0., 0., 0., 1., 0., 0.],\n",
       "       [0., 1., 0., 0., 0., 0., 0., 0., 1., 0.],\n",
       "       [1., 0., 0., 0., 0., 0., 0., 0., 0., 1.]])"
      ]
     },
     "execution_count": 51,
     "metadata": {},
     "output_type": "execute_result"
    }
   ],
   "source": [
    "new_array = np.identity(10)+ np.identity(10)[::-1]\n",
    "\n",
    "\n",
    "new_array"
   ]
  },
  {
   "cell_type": "code",
   "execution_count": 53,
   "metadata": {},
   "outputs": [],
   "source": [
    "np.identity()"
   ]
  },
  {
   "cell_type": "code",
   "execution_count": 57,
   "metadata": {},
   "outputs": [
    {
     "data": {
      "text/plain": [
       "array([ 6,  9, 12, 15, 18, 21, 24, 27, 30, 33])"
      ]
     },
     "execution_count": 57,
     "metadata": {},
     "output_type": "execute_result"
    }
   ],
   "source": [
    "np.ones((10, 10))\n",
    "np.arange(6, 36, 3)"
   ]
  },
  {
   "cell_type": "code",
   "execution_count": 59,
   "metadata": {},
   "outputs": [
    {
     "data": {
      "text/plain": [
       "array([[ 9.46530514, 10.46753559,  9.46794207, 10.35781056, 10.98354624,\n",
       "         9.87848693,  9.9948683 , 10.60649846, 10.12165427, 11.13385835],\n",
       "       [ 9.74673325,  9.80659512, 10.3434767 , 10.2302902 ,  9.57927583,\n",
       "        10.60102403, 10.24565949,  9.87658245, 10.24425388,  9.20957152],\n",
       "       [10.07798437,  9.74625174,  9.65036912,  9.27990395,  9.94140909,\n",
       "        10.25577678, 10.09258232, 10.75980959, 10.77490293, 10.42881118],\n",
       "       [10.32480782, 11.05859469,  9.120792  , 10.62746667, 10.62911161,\n",
       "        10.30953206, 10.53096408,  9.88857981,  8.85982637, 10.40406102],\n",
       "       [10.2320039 ,  9.5108334 ,  9.44346661, 10.50073701,  9.70600569,\n",
       "         9.85051503, 10.05793235,  9.88809417, 10.07198994,  9.81742453],\n",
       "       [ 9.8285125 ,  9.64424579,  9.76041941, 10.56307774, 10.14200696,\n",
       "        10.13296974,  9.41275359, 10.20218015, 11.35500758, 10.17985606],\n",
       "       [ 9.7964216 , 10.13958037, 10.9041305 ,  9.76028065, 10.36094518,\n",
       "         9.37921805, 10.19383215, 10.26817806, 10.00649084, 10.4519109 ],\n",
       "       [ 9.61275191,  9.45591026, 10.30662144, 10.36364816, 10.17611585,\n",
       "         9.90535383, 10.60442823,  9.45032234, 10.6609326 ,  9.60061371],\n",
       "       [ 9.8626679 , 10.68196695,  9.64516992, 11.04597598, 10.55004868,\n",
       "         9.77700405,  9.00708199,  9.99513937,  9.46690447,  9.80057704],\n",
       "       [ 9.80790486,  9.84096487,  9.84696489,  9.82024756, 11.18242776,\n",
       "         9.65545555, 10.05177129,  9.77885617,  9.71707046,  9.32972777]])"
      ]
     },
     "execution_count": 59,
     "metadata": {},
     "output_type": "execute_result"
    }
   ],
   "source": [
    "np.random.normal(10., 0.5, size=(10, 10))"
   ]
  },
  {
   "cell_type": "markdown",
   "metadata": {},
   "source": [
    "### I/O"
   ]
  },
  {
   "cell_type": "code",
   "execution_count": 60,
   "metadata": {},
   "outputs": [],
   "source": [
    "np.save('test.npy', mon_array)"
   ]
  },
  {
   "cell_type": "code",
   "execution_count": 61,
   "metadata": {},
   "outputs": [
    {
     "data": {
      "text/plain": [
       "array([1, 2, 4, 5])"
      ]
     },
     "execution_count": 61,
     "metadata": {},
     "output_type": "execute_result"
    }
   ],
   "source": [
    "np.load('test.npy')"
   ]
  },
  {
   "cell_type": "markdown",
   "metadata": {},
   "source": [
    "## Premier exercice - [Le jeu de la vie de Conway](https://fr.wikipedia.org/wiki/Jeu_de_la_vie)\n",
    "\n",
    "> Le jeu de la vie n’est pas un jeu, puisqu'il ne nécessite aucun joueur. Il s’agit d’un automate cellulaire, un modèle où chaque état conduit mécaniquement à l’état suivant à partir de règles pré-établies.\n",
    "\n",
    "> Le « jeu » se déroule sur une grille à deux dimensions, théoriquement infinie (mais de longueur et de largeur finies et plus ou moins grandes dans la pratique), dont les cases — qu’on appelle des « cellules », par analogie avec les cellules vivantes — peuvent prendre deux états distincts : « vivante » ou « morte ».\n",
    "\n",
    "\n",
    "> À chaque étape, l’évolution d’une cellule est entièrement déterminée par l’état de ses huit voisines de la façon suivante :\n",
    "\n",
    "\n",
    "* Une cellule morte possédant exactement trois voisines vivantes devient vivante (elle naît).\n",
    "\n",
    "* Une cellule vivante possédant deux ou trois voisines vivantes le reste, sinon elle meurt.\n",
    "\n",
    "\n",
    "\n",
    "_Écrivez l'évaluation de la règle pour un pixel_"
   ]
  },
  {
   "cell_type": "code",
   "execution_count": 64,
   "metadata": {},
   "outputs": [
    {
     "name": "stdout",
     "output_type": "stream",
     "text": [
      "0\n",
      "1\n",
      "2\n",
      "3\n",
      "4\n",
      "5\n",
      "6\n",
      "7\n",
      "8\n",
      "9\n"
     ]
    }
   ],
   "source": [
    "for i in range(10):\n",
    "    print(i)"
   ]
  },
  {
   "cell_type": "code",
   "execution_count": 65,
   "metadata": {},
   "outputs": [],
   "source": [
    "ii, jj = np.meshgrid(\n",
    "        np.arange(5),\n",
    "        np.arange(5) )"
   ]
  },
  {
   "cell_type": "code",
   "execution_count": 66,
   "metadata": {},
   "outputs": [
    {
     "data": {
      "text/plain": [
       "array([[0, 1, 2, 3, 4],\n",
       "       [0, 1, 2, 3, 4],\n",
       "       [0, 1, 2, 3, 4],\n",
       "       [0, 1, 2, 3, 4],\n",
       "       [0, 1, 2, 3, 4]])"
      ]
     },
     "execution_count": 66,
     "metadata": {},
     "output_type": "execute_result"
    }
   ],
   "source": [
    "ii"
   ]
  },
  {
   "cell_type": "code",
   "execution_count": 80,
   "metadata": {},
   "outputs": [],
   "source": [
    "sub_jj = jj[2:, 3:]"
   ]
  },
  {
   "cell_type": "code",
   "execution_count": 78,
   "metadata": {},
   "outputs": [],
   "source": [
    "sub_jj[1, 1] = 1000"
   ]
  },
  {
   "cell_type": "code",
   "execution_count": 79,
   "metadata": {},
   "outputs": [
    {
     "data": {
      "text/plain": [
       "array([[   0,    0,    0,    0,    0],\n",
       "       [   1,    1,    1,    1,    1],\n",
       "       [   2,    2,    2,    2,    2],\n",
       "       [   3,    3,    3,    3, 1000],\n",
       "       [   4,    4,    4,    4,    4]])"
      ]
     },
     "execution_count": 79,
     "metadata": {},
     "output_type": "execute_result"
    }
   ],
   "source": [
    "jj"
   ]
  },
  {
   "cell_type": "code",
   "execution_count": null,
   "metadata": {},
   "outputs": [],
   "source": []
  },
  {
   "cell_type": "code",
   "execution_count": null,
   "metadata": {},
   "outputs": [],
   "source": []
  },
  {
   "cell_type": "code",
   "execution_count": 68,
   "metadata": {},
   "outputs": [
    {
     "name": "stdout",
     "output_type": "stream",
     "text": [
      "0 0\n",
      "1 0\n",
      "2 0\n",
      "3 0\n",
      "4 0\n",
      "0 1\n",
      "1 1\n",
      "2 1\n",
      "3 1\n",
      "4 1\n",
      "0 2\n",
      "1 2\n",
      "2 2\n",
      "3 2\n",
      "4 2\n",
      "0 3\n",
      "1 3\n",
      "2 3\n",
      "3 3\n",
      "4 3\n",
      "0 4\n",
      "1 4\n",
      "2 4\n",
      "3 4\n",
      "4 4\n"
     ]
    }
   ],
   "source": [
    "for i, j in zip(ii.ravel(), jj.ravel()):\n",
    "    print(i, j)"
   ]
  },
  {
   "cell_type": "code",
   "execution_count": 62,
   "metadata": {},
   "outputs": [
    {
     "data": {
      "text/plain": [
       "array([1, 2, 4, 5])"
      ]
     },
     "execution_count": 62,
     "metadata": {},
     "output_type": "execute_result"
    }
   ],
   "source": [
    "mon_array.ravel()"
   ]
  },
  {
   "cell_type": "markdown",
   "metadata": {},
   "source": [
    "<button data-toggle=\"collapse\" data-target=\"#sol\" class='btn btn-primary'>Solution</button>\n",
    "<div id=\"sol\" class=\"collapse\">\n",
    "\n",
    "```py\n",
    "import numpy as np\n",
    "import time\n",
    "\n",
    "grid_shape = 10, 10\n",
    "grid = np.random.randint(0, 2, size=grid_shape, dtype=np.uint8)\n",
    "#grid[1:4, 3] = 1\n",
    "print(grid)\n",
    "\n",
    "\n",
    "def eval_pixel(row, col, grid, next_grid):\n",
    "    \"\"\"Follows the rules of Conway's game of life to\n",
    "    flip (or not) a pixel in a grid\n",
    "    \"\"\"\n",
    "    n, m = grid.shape\n",
    "    sub_grid = grid[\n",
    "        max(row-1, 0): min(n, row+2),\n",
    "        max(col-1, 0): min(m, col+2)]\n",
    "    if grid[row, col] and not (2 < sub_grid.sum() < 5):\n",
    "        next_grid[row, col] = 0\n",
    "    elif sub_grid.sum() == 3:\n",
    "        next_grid[row, col] = 1\n",
    "\n",
    "\n",
    "def conway_step(grid):\n",
    "    \"\"\"Applies Conway's rule for every pixel on a grid\n",
    "    \"\"\"\n",
    "    ii, jj = np.meshgrid(\n",
    "        np.arange(grid.shape[0]),\n",
    "        np.arange(grid.shape[1]) )\n",
    "\n",
    "    next_grid = grid.copy()\n",
    "    for i, j in zip(ii.ravel(), jj.ravel()):\n",
    "        eval_neighbors(i, j, grid, next_grid)\n",
    "    return next_grid\n",
    "\n",
    "\n",
    "def conway_loop(grid):\n",
    "    \"\"\"Play Conways game of life on repeat\n",
    "    \"\"\"\n",
    "    while True:\n",
    "        try:\n",
    "            grid = conway_step(grid)\n",
    "            print(grid)\n",
    "            time.sleep(1)\n",
    "            \n",
    "        except KeyboardInterrupt:\n",
    "            print('Done')\n",
    "            break\n",
    "```\n",
    "\n",
    "</div>"
   ]
  },
  {
   "cell_type": "markdown",
   "metadata": {},
   "source": [
    "## Calcul"
   ]
  },
  {
   "cell_type": "code",
   "execution_count": 69,
   "metadata": {},
   "outputs": [],
   "source": [
    "import matplotlib.pyplot as plt\n",
    "%matplotlib inline"
   ]
  },
  {
   "cell_type": "code",
   "execution_count": 70,
   "metadata": {},
   "outputs": [
    {
     "name": "stderr",
     "output_type": "stream",
     "text": [
      "C:\\ProgramData\\Anaconda3\\lib\\site-packages\\ipykernel_launcher.py:2: RuntimeWarning: divide by zero encountered in log\n",
      "  \n",
      "C:\\ProgramData\\Anaconda3\\lib\\site-packages\\ipykernel_launcher.py:3: RuntimeWarning: invalid value encountered in multiply\n",
      "  This is separate from the ipykernel package so we can avoid doing imports until\n"
     ]
    }
   ],
   "source": [
    "\n",
    "x = np.linspace(0, 24, 200)\n",
    "y = np.log(x)\n",
    "z = x * y / 12\n",
    "\n"
   ]
  },
  {
   "cell_type": "code",
   "execution_count": 72,
   "metadata": {},
   "outputs": [
    {
     "data": {
      "text/plain": [
       "[<matplotlib.lines.Line2D at 0xd5a2790>]"
      ]
     },
     "execution_count": 72,
     "metadata": {},
     "output_type": "execute_result"
    },
    {
     "data": {
      "image/png": "[encoded data removed]",
      "text/plain": [
       "<Figure size 432x288 with 1 Axes>"
      ]
     },
     "metadata": {
      "needs_background": "light"
     },
     "output_type": "display_data"
    }
   ],
   "source": [
    "plt.plot(x, y)"
   ]
  },
  {
   "cell_type": "markdown",
   "metadata": {},
   "source": [
    "## Scipy"
   ]
  },
  {
   "cell_type": "code",
   "execution_count": null,
   "metadata": {},
   "outputs": [],
   "source": []
  },
  {
   "cell_type": "markdown",
   "metadata": {},
   "source": [
    "Exercice 2:\n",
    "\n",
    "> Créez un signal composé de différentes harmoniques (et de bruit) et évaluez sa FFT.\n",
    "\n"
   ]
  },
  {
   "cell_type": "markdown",
   "metadata": {},
   "source": [
    "$$ sig(t) = \\sum_k A_k \\sin(\\omega_k t + phi_k)$$ "
   ]
  },
  {
   "cell_type": "markdown",
   "metadata": {},
   "source": [
    "<button data-toggle=\"collapse\" data-target=\"#sol2\" class='btn btn-primary'>Solution</button>\n",
    "<div id=\"sol2\" class=\"collapse\">\n",
    "\n",
    "\n",
    "\n",
    "```python\n",
    "import numpy as np\n",
    "import matplotlib.pyplot as plt\n",
    "\n",
    "\n",
    "t = np.linspace(0, 100, 2**12)\n",
    "harms = np.random.random(5) * 100\n",
    "phases = np.random.random(5) * np.pi\n",
    "signal = np.array(\n",
    "    [np.sin(omega*t + phi)\n",
    "      for omega, phi in zip(harms, phases)]\n",
    ").sum(axis=0)\n",
    "\n",
    "fft = np.fft.fft(signal)\n",
    "freqs = np.fft.fftfreq(2**12, 100 / 2**12)\n",
    "\n",
    "plt.figure()\n",
    "plt.plot(signal)\n",
    "\n",
    "plt.figure()\n",
    "plt.plot(np.abs(freqs), np.abs(fft))\n",
    "\n",
    "print(np.sort(harms) / (2*np.pi))\n",
    "```\n",
    "</div>"
   ]
  },
  {
   "cell_type": "code",
   "execution_count": 81,
   "metadata": {},
   "outputs": [
    {
     "name": "stdout",
     "output_type": "stream",
     "text": [
      "[ 3.98360339  9.84583051 11.74544763 14.89196755 15.50916879]\n"
     ]
    },
    {
     "data": {
      "image/png": "[encoded data removed]",
      "text/plain": [
       "<Figure size 432x288 with 1 Axes>"
      ]
     },
     "metadata": {
      "needs_background": "light"
     },
     "output_type": "display_data"
    },
    {
     "data": {
      "image/png": "[encoded data removed]",
      "text/plain": [
       "<Figure size 432x288 with 1 Axes>"
      ]
     },
     "metadata": {
      "needs_background": "light"
     },
     "output_type": "display_data"
    }
   ],
   "source": [
    "\n",
    "t = np.linspace(0, 100, 2**12)\n",
    "harms = np.random.random(5) * 100\n",
    "phases = np.random.random(5) * np.pi\n",
    "\n",
    "signal = np.array(\n",
    "    [np.sin(omega*t + phi)\n",
    "      for omega, phi in zip(harms, phases)]\n",
    ").sum(axis=0)\n",
    "\n",
    "fft = np.fft.fft(signal)\n",
    "freqs = np.fft.fftfreq(2**12, 100 / 2**12)\n",
    "\n",
    "plt.figure()\n",
    "plt.plot(t, signal)\n",
    "\n",
    "plt.figure()\n",
    "plt.plot(np.abs(freqs), np.abs(fft))\n",
    "\n",
    "print(np.sort(harms) / (2*np.pi))"
   ]
  },
  {
   "cell_type": "markdown",
   "metadata": {},
   "source": [
    "### Exercice 3:\n",
    "\n",
    "> Convoluez le précédent signal par un filtre passe bas.\n",
    "\n",
    "<button data-toggle=\"collapse\" data-target=\"#sol3\" class='btn btn-primary'>Solution</button>\n",
    "<div id=\"sol3\" class=\"collapse\">\n",
    "\n",
    "\n",
    "```python\n",
    "from scipy.signal import fftconvolve\n",
    "\n",
    "filtr = np.ones(100)\n",
    "filtr[10:] = 0\n",
    "\n",
    "convd = fftconvolve(signal, filtr, mode='same')\n",
    "\n",
    "plt.plot(t, signal)\n",
    "plt.plot(t, convd, alpha=0.4)\n",
    "```"
   ]
  },
  {
   "cell_type": "markdown",
   "metadata": {},
   "source": [
    "## Pandas "
   ]
  },
  {
   "cell_type": "markdown",
   "metadata": {},
   "source": [
    "#### I/O"
   ]
  },
  {
   "cell_type": "code",
   "execution_count": 1,
   "metadata": {},
   "outputs": [
    {
     "ename": "ModuleNotFoundError",
     "evalue": "No module named 'pandas'",
     "output_type": "error",
     "traceback": [
      "\u001b[1;31m---------------------------------------------------------------------------\u001b[0m",
      "\u001b[1;31mModuleNotFoundError\u001b[0m                       Traceback (most recent call last)",
      "\u001b[1;32m<ipython-input-1-7dd3504c366f>\u001b[0m in \u001b[0;36m<module>\u001b[1;34m\u001b[0m\n\u001b[1;32m----> 1\u001b[1;33m \u001b[1;32mimport\u001b[0m \u001b[0mpandas\u001b[0m \u001b[1;32mas\u001b[0m \u001b[0mpd\u001b[0m\u001b[1;33m\u001b[0m\u001b[1;33m\u001b[0m\u001b[0m\n\u001b[0m",
      "\u001b[1;31mModuleNotFoundError\u001b[0m: No module named 'pandas'"
     ]
    }
   ],
   "source": [
    "import pandas as pd"
   ]
  },
  {
   "cell_type": "code",
   "execution_count": 2,
   "metadata": {},
   "outputs": [
    {
     "name": "stdout",
     "output_type": "stream",
     "text": [
      "Collecting package metadata (current_repodata.json): ...working... done\n",
      "Solving environment: ...working... done\n",
      "\n",
      "## Package Plan ##\n",
      "\n",
      "  environment location: C:\\Users\\hcodeur1\\.conda\\envs\\formation\n",
      "\n",
      "  added / updated specs:\n",
      "    - pandas\n",
      "\n",
      "\n",
      "The following packages will be downloaded:\n",
      "\n",
      "    package                    |            build\n",
      "    ---------------------------|-----------------\n",
      "    mkl-service-2.3.0          |   py37hb782905_0         190 KB\n",
      "    mkl_fft-1.0.14             |   py37h14836fe_0         119 KB\n",
      "    mkl_random-1.1.0           |   py37h675688f_0         206 KB\n",
      "    numpy-1.16.5               |   py37h19fb1c0_0          50 KB\n",
      "    numpy-base-1.16.5          |   py37hc3f5095_0         3.9 MB\n",
      "    openssl-1.1.1d             |       he774522_2         4.4 MB\n",
      "    pandas-0.25.1              |   py37ha925a31_0         8.5 MB\n",
      "    pytz-2019.2                |             py_0         245 KB\n",
      "    ------------------------------------------------------------\n",
      "                                           Total:        17.5 MB\n",
      "\n",
      "The following NEW packages will be INSTALLED:\n",
      "\n",
      "  blas               pkgs/main/win-32::blas-1.0-mkl\n",
      "  icc_rt             pkgs/main/win-32::icc_rt-2019.0.0-h0cc432a_1\n",
      "  intel-openmp       pkgs/main/win-32::intel-openmp-2019.4-245\n",
      "  mkl                pkgs/main/win-32::mkl-2019.4-245\n",
      "  mkl-service        pkgs/main/win-32::mkl-service-2.3.0-py37hb782905_0\n",
      "  mkl_fft            pkgs/main/win-32::mkl_fft-1.0.14-py37h14836fe_0\n",
      "  mkl_random         pkgs/main/win-32::mkl_random-1.1.0-py37h675688f_0\n",
      "  numpy              pkgs/main/win-32::numpy-1.16.5-py37h19fb1c0_0\n",
      "  numpy-base         pkgs/main/win-32::numpy-base-1.16.5-py37hc3f5095_0\n",
      "  pandas             pkgs/main/win-32::pandas-0.25.1-py37ha925a31_0\n",
      "  pytz               pkgs/main/noarch::pytz-2019.2-py_0\n",
      "\n",
      "The following packages will be UPDATED:\n",
      "\n",
      "  openssl                                 1.1.1d-he774522_0 --> 1.1.1d-he774522_2\n",
      "\n",
      "\n",
      "\n",
      "Downloading and Extracting Packages\n",
      "\n",
      "numpy-base-1.16.5    | 3.9 MB    |            |   0% \n",
      "numpy-base-1.16.5    | 3.9 MB    |            |   0% \n",
      "numpy-base-1.16.5    | 3.9 MB    | ##8        |  29% \n",
      "numpy-base-1.16.5    | 3.9 MB    | #####7     |  57% \n",
      "numpy-base-1.16.5    | 3.9 MB    | ########5  |  86% \n",
      "numpy-base-1.16.5    | 3.9 MB    | ########## | 100% \n",
      "\n",
      "mkl-service-2.3.0    | 190 KB    |            |   0% \n",
      "mkl-service-2.3.0    | 190 KB    | ########## | 100% \n",
      "\n",
      "mkl_fft-1.0.14       | 119 KB    |            |   0% \n",
      "mkl_fft-1.0.14       | 119 KB    | ########## | 100% \n",
      "\n",
      "mkl_random-1.1.0     | 206 KB    |            |   0% \n",
      "mkl_random-1.1.0     | 206 KB    | ########## | 100% \n",
      "\n",
      "numpy-1.16.5         | 50 KB     |            |   0% \n",
      "numpy-1.16.5         | 50 KB     | ########## | 100% \n",
      "\n",
      "pytz-2019.2          | 245 KB    |            |   0% \n",
      "pytz-2019.2          | 245 KB    | ########## | 100% \n",
      "\n",
      "openssl-1.1.1d       | 4.4 MB    |            |   0% \n",
      "openssl-1.1.1d       | 4.4 MB    | #9         |  20% \n",
      "openssl-1.1.1d       | 4.4 MB    | ####4      |  45% \n",
      "openssl-1.1.1d       | 4.4 MB    | #######1   |  71% \n",
      "openssl-1.1.1d       | 4.4 MB    | #########6 |  97% \n",
      "openssl-1.1.1d       | 4.4 MB    | ########## | 100% \n",
      "\n",
      "pandas-0.25.1        | 8.5 MB    |            |   0% \n",
      "pandas-0.25.1        | 8.5 MB    | #1         |  11% \n",
      "pandas-0.25.1        | 8.5 MB    | ##3        |  24% \n",
      "pandas-0.25.1        | 8.5 MB    | ###6       |  37% \n",
      "pandas-0.25.1        | 8.5 MB    | ####9      |  50% \n",
      "pandas-0.25.1        | 8.5 MB    | ######3    |  64% \n",
      "pandas-0.25.1        | 8.5 MB    | #######7   |  77% \n",
      "pandas-0.25.1        | 8.5 MB    | #########1 |  91% \n",
      "pandas-0.25.1        | 8.5 MB    | ########## | 100% \n",
      "Preparing transaction: ...working... done\n",
      "Verifying transaction: ...working... done\n",
      "Executing transaction: ...working... done\n",
      "\n",
      "Note: you may need to restart the kernel to use updated packages.\n"
     ]
    },
    {
     "name": "stderr",
     "output_type": "stream",
     "text": [
      "\n",
      "\n",
      "==> WARNING: A newer version of conda exists. <==\n",
      "  current version: 4.7.10\n",
      "  latest version: 4.7.12\n",
      "\n",
      "Please update conda by running\n",
      "\n",
      "    $ conda update -n base -c defaults conda\n",
      "\n",
      "\n"
     ]
    }
   ],
   "source": [
    "%conda install pandas"
   ]
  },
  {
   "cell_type": "code",
   "execution_count": 3,
   "metadata": {},
   "outputs": [],
   "source": [
    "import pandas as pd\n",
    "import numpy as np"
   ]
  },
  {
   "cell_type": "code",
   "execution_count": 4,
   "metadata": {},
   "outputs": [],
   "source": [
    " df2 = pd.DataFrame({'A': 1.,\n",
    "                        'B': pd.Timestamp('20130102'),\n",
    "                        'C': pd.Series(1, index=list(range(4)), dtype='float32'),\n",
    "                        'D': np.array([3] * 4, dtype='int32'),\n",
    "                        'E': pd.Categorical([\"test\", \"train\", \"test\", \"train\"]),\n",
    "                        'F': 'foo'})"
   ]
  },
  {
   "cell_type": "code",
   "execution_count": 10,
   "metadata": {},
   "outputs": [
    {
     "data": {
      "text/html": [
       "<div>\n",
       "<style scoped>\n",
       "    .dataframe tbody tr th:only-of-type {\n",
       "        vertical-align: middle;\n",
       "    }\n",
       "\n",
       "    .dataframe tbody tr th {\n",
       "        vertical-align: top;\n",
       "    }\n",
       "\n",
       "    .dataframe thead th {\n",
       "        text-align: right;\n",
       "    }\n",
       "</style>\n",
       "<table border=\"1\" class=\"dataframe\">\n",
       "  <thead>\n",
       "    <tr style=\"text-align: right;\">\n",
       "      <th></th>\n",
       "      <th>A</th>\n",
       "      <th>B</th>\n",
       "      <th>C</th>\n",
       "      <th>D</th>\n",
       "      <th>E</th>\n",
       "      <th>F</th>\n",
       "    </tr>\n",
       "  </thead>\n",
       "  <tbody>\n",
       "    <tr>\n",
       "      <td>0</td>\n",
       "      <td>1.0</td>\n",
       "      <td>2013-01-02</td>\n",
       "      <td>1.0</td>\n",
       "      <td>3</td>\n",
       "      <td>test</td>\n",
       "      <td>foo</td>\n",
       "    </tr>\n",
       "    <tr>\n",
       "      <td>1</td>\n",
       "      <td>1.0</td>\n",
       "      <td>2013-01-02</td>\n",
       "      <td>1.0</td>\n",
       "      <td>3</td>\n",
       "      <td>train</td>\n",
       "      <td>foo</td>\n",
       "    </tr>\n",
       "    <tr>\n",
       "      <td>2</td>\n",
       "      <td>1.0</td>\n",
       "      <td>2013-01-02</td>\n",
       "      <td>1.0</td>\n",
       "      <td>3</td>\n",
       "      <td>test</td>\n",
       "      <td>foo</td>\n",
       "    </tr>\n",
       "    <tr>\n",
       "      <td>3</td>\n",
       "      <td>1.0</td>\n",
       "      <td>2013-01-02</td>\n",
       "      <td>1.0</td>\n",
       "      <td>3</td>\n",
       "      <td>train</td>\n",
       "      <td>foo</td>\n",
       "    </tr>\n",
       "  </tbody>\n",
       "</table>\n",
       "</div>"
      ],
      "text/plain": [
       "     A          B    C  D      E    F\n",
       "0  1.0 2013-01-02  1.0  3   test  foo\n",
       "1  1.0 2013-01-02  1.0  3  train  foo\n",
       "2  1.0 2013-01-02  1.0  3   test  foo\n",
       "3  1.0 2013-01-02  1.0  3  train  foo"
      ]
     },
     "execution_count": 10,
     "metadata": {},
     "output_type": "execute_result"
    }
   ],
   "source": [
    "df2"
   ]
  },
  {
   "cell_type": "code",
   "execution_count": 11,
   "metadata": {},
   "outputs": [
    {
     "data": {
      "text/plain": [
       "array([[1., 1., 3.],\n",
       "       [1., 1., 3.],\n",
       "       [1., 1., 3.],\n",
       "       [1., 1., 3.]])"
      ]
     },
     "execution_count": 11,
     "metadata": {},
     "output_type": "execute_result"
    }
   ],
   "source": [
    "df2.select_dtypes(include='number').to_numpy()"
   ]
  },
  {
   "cell_type": "code",
   "execution_count": 12,
   "metadata": {},
   "outputs": [
    {
     "data": {
      "text/plain": [
       "56240528"
      ]
     },
     "execution_count": 12,
     "metadata": {},
     "output_type": "execute_result"
    }
   ],
   "source": [
    "id(df2)"
   ]
  },
  {
   "cell_type": "code",
   "execution_count": 20,
   "metadata": {},
   "outputs": [
    {
     "data": {
      "text/plain": [
       "True"
      ]
     },
     "execution_count": 20,
     "metadata": {},
     "output_type": "execute_result"
    }
   ],
   "source": [
    "np.inf == np.inf"
   ]
  },
  {
   "cell_type": "code",
   "execution_count": 23,
   "metadata": {},
   "outputs": [
    {
     "data": {
      "text/html": [
       "<div>\n",
       "<style scoped>\n",
       "    .dataframe tbody tr th:only-of-type {\n",
       "        vertical-align: middle;\n",
       "    }\n",
       "\n",
       "    .dataframe tbody tr th {\n",
       "        vertical-align: top;\n",
       "    }\n",
       "\n",
       "    .dataframe thead th {\n",
       "        text-align: right;\n",
       "    }\n",
       "</style>\n",
       "<table border=\"1\" class=\"dataframe\">\n",
       "  <thead>\n",
       "    <tr style=\"text-align: right;\">\n",
       "      <th></th>\n",
       "      <th>A</th>\n",
       "      <th>B</th>\n",
       "      <th>C</th>\n",
       "      <th>D</th>\n",
       "      <th>E</th>\n",
       "      <th>F</th>\n",
       "    </tr>\n",
       "  </thead>\n",
       "  <tbody>\n",
       "    <tr>\n",
       "      <td>0</td>\n",
       "      <td>False</td>\n",
       "      <td>False</td>\n",
       "      <td>False</td>\n",
       "      <td>False</td>\n",
       "      <td>False</td>\n",
       "      <td>False</td>\n",
       "    </tr>\n",
       "    <tr>\n",
       "      <td>1</td>\n",
       "      <td>False</td>\n",
       "      <td>False</td>\n",
       "      <td>False</td>\n",
       "      <td>False</td>\n",
       "      <td>False</td>\n",
       "      <td>False</td>\n",
       "    </tr>\n",
       "    <tr>\n",
       "      <td>2</td>\n",
       "      <td>False</td>\n",
       "      <td>False</td>\n",
       "      <td>False</td>\n",
       "      <td>False</td>\n",
       "      <td>False</td>\n",
       "      <td>False</td>\n",
       "    </tr>\n",
       "    <tr>\n",
       "      <td>3</td>\n",
       "      <td>False</td>\n",
       "      <td>False</td>\n",
       "      <td>False</td>\n",
       "      <td>False</td>\n",
       "      <td>False</td>\n",
       "      <td>False</td>\n",
       "    </tr>\n",
       "  </tbody>\n",
       "</table>\n",
       "</div>"
      ],
      "text/plain": [
       "       A      B      C      D      E      F\n",
       "0  False  False  False  False  False  False\n",
       "1  False  False  False  False  False  False\n",
       "2  False  False  False  False  False  False\n",
       "3  False  False  False  False  False  False"
      ]
     },
     "execution_count": 23,
     "metadata": {},
     "output_type": "execute_result"
    }
   ],
   "source": [
    "pd.isna(df2)"
   ]
  },
  {
   "cell_type": "code",
   "execution_count": 24,
   "metadata": {},
   "outputs": [
    {
     "data": {
      "text/html": [
       "<div>\n",
       "<style scoped>\n",
       "    .dataframe tbody tr th:only-of-type {\n",
       "        vertical-align: middle;\n",
       "    }\n",
       "\n",
       "    .dataframe tbody tr th {\n",
       "        vertical-align: top;\n",
       "    }\n",
       "\n",
       "    .dataframe thead th {\n",
       "        text-align: right;\n",
       "    }\n",
       "</style>\n",
       "<table border=\"1\" class=\"dataframe\">\n",
       "  <thead>\n",
       "    <tr style=\"text-align: right;\">\n",
       "      <th></th>\n",
       "      <th>A</th>\n",
       "      <th>B</th>\n",
       "      <th>C</th>\n",
       "      <th>D</th>\n",
       "      <th>E</th>\n",
       "      <th>F</th>\n",
       "    </tr>\n",
       "  </thead>\n",
       "  <tbody>\n",
       "    <tr>\n",
       "      <td>0</td>\n",
       "      <td>False</td>\n",
       "      <td>False</td>\n",
       "      <td>False</td>\n",
       "      <td>False</td>\n",
       "      <td>False</td>\n",
       "      <td>False</td>\n",
       "    </tr>\n",
       "    <tr>\n",
       "      <td>1</td>\n",
       "      <td>False</td>\n",
       "      <td>False</td>\n",
       "      <td>False</td>\n",
       "      <td>False</td>\n",
       "      <td>False</td>\n",
       "      <td>False</td>\n",
       "    </tr>\n",
       "    <tr>\n",
       "      <td>2</td>\n",
       "      <td>False</td>\n",
       "      <td>False</td>\n",
       "      <td>False</td>\n",
       "      <td>False</td>\n",
       "      <td>False</td>\n",
       "      <td>False</td>\n",
       "    </tr>\n",
       "    <tr>\n",
       "      <td>3</td>\n",
       "      <td>False</td>\n",
       "      <td>False</td>\n",
       "      <td>False</td>\n",
       "      <td>False</td>\n",
       "      <td>False</td>\n",
       "      <td>False</td>\n",
       "    </tr>\n",
       "  </tbody>\n",
       "</table>\n",
       "</div>"
      ],
      "text/plain": [
       "       A      B      C      D      E      F\n",
       "0  False  False  False  False  False  False\n",
       "1  False  False  False  False  False  False\n",
       "2  False  False  False  False  False  False\n",
       "3  False  False  False  False  False  False"
      ]
     },
     "execution_count": 24,
     "metadata": {},
     "output_type": "execute_result"
    }
   ],
   "source": [
    "df2.isna()"
   ]
  },
  {
   "cell_type": "code",
   "execution_count": 17,
   "metadata": {},
   "outputs": [
    {
     "data": {
      "text/plain": [
       "False"
      ]
     },
     "execution_count": 17,
     "metadata": {},
     "output_type": "execute_result"
    }
   ],
   "source": [
    "1 > np.nan"
   ]
  },
  {
   "cell_type": "code",
   "execution_count": 18,
   "metadata": {},
   "outputs": [
    {
     "data": {
      "text/plain": [
       "False"
      ]
     },
     "execution_count": 18,
     "metadata": {},
     "output_type": "execute_result"
    }
   ],
   "source": [
    "1 < np.nan"
   ]
  },
  {
   "cell_type": "code",
   "execution_count": 19,
   "metadata": {},
   "outputs": [
    {
     "data": {
      "text/plain": [
       "False"
      ]
     },
     "execution_count": 19,
     "metadata": {},
     "output_type": "execute_result"
    }
   ],
   "source": [
    "1 == np.nan"
   ]
  },
  {
   "cell_type": "code",
   "execution_count": 13,
   "metadata": {},
   "outputs": [],
   "source": [
    "df3 = df2"
   ]
  },
  {
   "cell_type": "code",
   "execution_count": 14,
   "metadata": {},
   "outputs": [
    {
     "data": {
      "text/plain": [
       "56240528"
      ]
     },
     "execution_count": 14,
     "metadata": {},
     "output_type": "execute_result"
    }
   ],
   "source": [
    "id(df3)"
   ]
  },
  {
   "cell_type": "code",
   "execution_count": 15,
   "metadata": {},
   "outputs": [
    {
     "data": {
      "text/plain": [
       "196361936"
      ]
     },
     "execution_count": 15,
     "metadata": {},
     "output_type": "execute_result"
    }
   ],
   "source": [
    "df4 = df2.copy()\n",
    "id(df4)"
   ]
  },
  {
   "cell_type": "code",
   "execution_count": 28,
   "metadata": {},
   "outputs": [
    {
     "data": {
      "text/html": [
       "<div>\n",
       "<style scoped>\n",
       "    .dataframe tbody tr th:only-of-type {\n",
       "        vertical-align: middle;\n",
       "    }\n",
       "\n",
       "    .dataframe tbody tr th {\n",
       "        vertical-align: top;\n",
       "    }\n",
       "\n",
       "    .dataframe thead th {\n",
       "        text-align: right;\n",
       "    }\n",
       "</style>\n",
       "<table border=\"1\" class=\"dataframe\">\n",
       "  <thead>\n",
       "    <tr style=\"text-align: right;\">\n",
       "      <th></th>\n",
       "      <th>A</th>\n",
       "      <th>B</th>\n",
       "      <th>C</th>\n",
       "    </tr>\n",
       "  </thead>\n",
       "  <tbody>\n",
       "    <tr>\n",
       "      <td>0</td>\n",
       "      <td>0.896348</td>\n",
       "      <td>0.842527</td>\n",
       "      <td>0.077395</td>\n",
       "    </tr>\n",
       "    <tr>\n",
       "      <td>1</td>\n",
       "      <td>0.533134</td>\n",
       "      <td>0.121611</td>\n",
       "      <td>0.303834</td>\n",
       "    </tr>\n",
       "    <tr>\n",
       "      <td>2</td>\n",
       "      <td>0.305305</td>\n",
       "      <td>0.883561</td>\n",
       "      <td>0.166326</td>\n",
       "    </tr>\n",
       "    <tr>\n",
       "      <td>3</td>\n",
       "      <td>0.676355</td>\n",
       "      <td>0.664865</td>\n",
       "      <td>0.837601</td>\n",
       "    </tr>\n",
       "    <tr>\n",
       "      <td>4</td>\n",
       "      <td>0.859377</td>\n",
       "      <td>0.287870</td>\n",
       "      <td>0.342480</td>\n",
       "    </tr>\n",
       "    <tr>\n",
       "      <td>5</td>\n",
       "      <td>0.363971</td>\n",
       "      <td>0.503230</td>\n",
       "      <td>0.031247</td>\n",
       "    </tr>\n",
       "    <tr>\n",
       "      <td>6</td>\n",
       "      <td>0.318527</td>\n",
       "      <td>0.429120</td>\n",
       "      <td>0.135234</td>\n",
       "    </tr>\n",
       "    <tr>\n",
       "      <td>7</td>\n",
       "      <td>0.566997</td>\n",
       "      <td>0.533991</td>\n",
       "      <td>0.069746</td>\n",
       "    </tr>\n",
       "    <tr>\n",
       "      <td>8</td>\n",
       "      <td>0.175885</td>\n",
       "      <td>0.141205</td>\n",
       "      <td>0.132698</td>\n",
       "    </tr>\n",
       "    <tr>\n",
       "      <td>9</td>\n",
       "      <td>0.992102</td>\n",
       "      <td>0.850546</td>\n",
       "      <td>0.805168</td>\n",
       "    </tr>\n",
       "  </tbody>\n",
       "</table>\n",
       "</div>"
      ],
      "text/plain": [
       "          A         B         C\n",
       "0  0.896348  0.842527  0.077395\n",
       "1  0.533134  0.121611  0.303834\n",
       "2  0.305305  0.883561  0.166326\n",
       "3  0.676355  0.664865  0.837601\n",
       "4  0.859377  0.287870  0.342480\n",
       "5  0.363971  0.503230  0.031247\n",
       "6  0.318527  0.429120  0.135234\n",
       "7  0.566997  0.533991  0.069746\n",
       "8  0.175885  0.141205  0.132698\n",
       "9  0.992102  0.850546  0.805168"
      ]
     },
     "execution_count": 28,
     "metadata": {},
     "output_type": "execute_result"
    }
   ],
   "source": [
    "df = pd.DataFrame(np.random.random((10, 3)), columns=list('ABC'))\n",
    "df"
   ]
  },
  {
   "cell_type": "code",
   "execution_count": 26,
   "metadata": {},
   "outputs": [
    {
     "data": {
      "text/html": [
       "<div>\n",
       "<style scoped>\n",
       "    .dataframe tbody tr th:only-of-type {\n",
       "        vertical-align: middle;\n",
       "    }\n",
       "\n",
       "    .dataframe tbody tr th {\n",
       "        vertical-align: top;\n",
       "    }\n",
       "\n",
       "    .dataframe thead th {\n",
       "        text-align: right;\n",
       "    }\n",
       "</style>\n",
       "<table border=\"1\" class=\"dataframe\">\n",
       "  <thead>\n",
       "    <tr style=\"text-align: right;\">\n",
       "      <th></th>\n",
       "      <th>A</th>\n",
       "      <th>B</th>\n",
       "      <th>C</th>\n",
       "      <th>D</th>\n",
       "      <th>E</th>\n",
       "      <th>F</th>\n",
       "    </tr>\n",
       "  </thead>\n",
       "  <tbody>\n",
       "    <tr>\n",
       "      <td>0</td>\n",
       "      <td>1.0</td>\n",
       "      <td>2013-01-02</td>\n",
       "      <td>1.0</td>\n",
       "      <td>3</td>\n",
       "      <td>test</td>\n",
       "      <td>foo</td>\n",
       "    </tr>\n",
       "    <tr>\n",
       "      <td>1</td>\n",
       "      <td>1.0</td>\n",
       "      <td>2013-01-02</td>\n",
       "      <td>1.0</td>\n",
       "      <td>3</td>\n",
       "      <td>train</td>\n",
       "      <td>foo</td>\n",
       "    </tr>\n",
       "    <tr>\n",
       "      <td>2</td>\n",
       "      <td>1.0</td>\n",
       "      <td>2013-01-02</td>\n",
       "      <td>1.0</td>\n",
       "      <td>3</td>\n",
       "      <td>test</td>\n",
       "      <td>foo</td>\n",
       "    </tr>\n",
       "    <tr>\n",
       "      <td>3</td>\n",
       "      <td>1.0</td>\n",
       "      <td>2013-01-02</td>\n",
       "      <td>1.0</td>\n",
       "      <td>3</td>\n",
       "      <td>train</td>\n",
       "      <td>foo</td>\n",
       "    </tr>\n",
       "  </tbody>\n",
       "</table>\n",
       "</div>"
      ],
      "text/plain": [
       "     A          B    C  D      E    F\n",
       "0  1.0 2013-01-02  1.0  3   test  foo\n",
       "1  1.0 2013-01-02  1.0  3  train  foo\n",
       "2  1.0 2013-01-02  1.0  3   test  foo\n",
       "3  1.0 2013-01-02  1.0  3  train  foo"
      ]
     },
     "execution_count": 26,
     "metadata": {},
     "output_type": "execute_result"
    }
   ],
   "source": [
    "df2"
   ]
  },
  {
   "cell_type": "code",
   "execution_count": 32,
   "metadata": {},
   "outputs": [
    {
     "name": "stdout",
     "output_type": "stream",
     "text": [
      "Automatic pdb calling has been turned ON\n"
     ]
    }
   ],
   "source": [
    "%pdb"
   ]
  },
  {
   "cell_type": "code",
   "execution_count": 35,
   "metadata": {},
   "outputs": [
    {
     "data": {
      "text/plain": [
       "0    0.818953\n",
       "1    0.411523\n",
       "2    0.717235\n",
       "3    0.172736\n",
       "4    0.571506\n",
       "5    0.471983\n",
       "6    0.293886\n",
       "7    0.497251\n",
       "8    0.043187\n",
       "9    0.186934\n",
       "dtype: float64"
      ]
     },
     "execution_count": 35,
     "metadata": {},
     "output_type": "execute_result"
    }
   ],
   "source": [
    "df.apply(lambda x: x.max() - x.min(), axis=1)"
   ]
  },
  {
   "cell_type": "code",
   "execution_count": 36,
   "metadata": {},
   "outputs": [],
   "source": [
    "group = df.groupby('A')"
   ]
  },
  {
   "cell_type": "code",
   "execution_count": null,
   "metadata": {},
   "outputs": [],
   "source": []
  },
  {
   "cell_type": "code",
   "execution_count": 30,
   "metadata": {},
   "outputs": [
    {
     "data": {
      "text/plain": [
       "A    0.816217\n",
       "B    0.761950\n",
       "C    0.806354\n",
       "dtype: float64"
      ]
     },
     "execution_count": 30,
     "metadata": {},
     "output_type": "execute_result"
    }
   ],
   "source": [
    "def ptp(x):\n",
    "    return x.max() - x.min()\n",
    "\n",
    "df.apply(ptp)"
   ]
  },
  {
   "cell_type": "markdown",
   "metadata": {},
   "source": [
    "#### Exercice:\n",
    "\n",
    "Get data from a website and create a DataFrame.\n",
    "\n",
    "Go to https://openweathermap.org/api/hourly-forecast\n",
    "\n",
    "<button data-toggle=\"collapse\" data-target=\"#sol4\" class='btn btn-primary'>Solution</button>\n",
    "\n",
    "<div id=\"sol4\" class=\"collapse\">\n",
    "\n",
    "```python\n",
    "import requests\n",
    "import json\n",
    "\n",
    "response = requests.get(\n",
    "    \"http://samples.openweathermap.org/data/2.5/forecast/hourly?id=524901&appid=b6907d289e10d714a6e88b30761fae22\"\n",
    ")\n",
    "\n",
    "whole = pd.DataFrame.from_dict(json.loads(response.text)['list'])\n",
    "main = pd.DataFrame.from_records(whole['main'])\n",
    "main.set_index(pd.DatetimeIndex(whole[\"dt_txt\"]), inplace=True)\n",
    "```\n",
    "\n",
    "</div>"
   ]
  },
  {
   "cell_type": "markdown",
   "metadata": {},
   "source": [
    "### Indexation et sélection"
   ]
  },
  {
   "cell_type": "markdown",
   "metadata": {},
   "source": [
    "**Exercice:**\n",
    "\n",
    "Récupérer les jours pour lesquels la température est inférieure à 0°C"
   ]
  },
  {
   "cell_type": "code",
   "execution_count": 37,
   "metadata": {},
   "outputs": [],
   "source": [
    "link = \"http://samples.openweathermap.org/data/2.5/forecast/hourly?id=524901&appid=b6907d289e10d714a6e88b30761fae22\""
   ]
  },
  {
   "cell_type": "code",
   "execution_count": 38,
   "metadata": {},
   "outputs": [
    {
     "name": "stdout",
     "output_type": "stream",
     "text": [
      "Collecting package metadata (current_repodata.json): ...working... done\n",
      "Solving environment: ...working... done\n",
      "\n",
      "## Package Plan ##\n",
      "\n",
      "  environment location: C:\\Users\\hcodeur1\\.conda\\envs\\formation\n",
      "\n",
      "  added / updated specs:\n",
      "    - requests\n",
      "\n",
      "\n",
      "The following packages will be downloaded:\n",
      "\n",
      "    package                    |            build\n",
      "    ---------------------------|-----------------\n",
      "    chardet-3.0.4              |        py37_1003         191 KB\n",
      "    pysocks-1.7.1              |           py37_0          31 KB\n",
      "    ------------------------------------------------------------\n",
      "                                           Total:         222 KB\n",
      "\n",
      "The following NEW packages will be INSTALLED:\n",
      "\n",
      "  asn1crypto         pkgs/main/win-32::asn1crypto-0.24.0-py37_0\n",
      "  cffi               pkgs/main/win-32::cffi-1.12.3-py37h7a1dbc1_0\n",
      "  chardet            pkgs/main/win-32::chardet-3.0.4-py37_1003\n",
      "  cryptography       pkgs/main/win-32::cryptography-2.7-py37h7a1dbc1_0\n",
      "  idna               pkgs/main/win-32::idna-2.8-py37_0\n",
      "  pycparser          pkgs/main/win-32::pycparser-2.19-py37_0\n",
      "  pyopenssl          pkgs/main/win-32::pyopenssl-19.0.0-py37_0\n",
      "  pysocks            pkgs/main/win-32::pysocks-1.7.1-py37_0\n",
      "  requests           pkgs/main/win-32::requests-2.22.0-py37_0\n",
      "  urllib3            pkgs/main/win-32::urllib3-1.24.2-py37_0\n",
      "  win_inet_pton      pkgs/main/win-32::win_inet_pton-1.1.0-py37_0\n",
      "\n",
      "\n",
      "\n",
      "Downloading and Extracting Packages\n",
      "\n",
      "pysocks-1.7.1        | 31 KB     |            |   0% \n",
      "pysocks-1.7.1        | 31 KB     | #####2     |  52% \n",
      "pysocks-1.7.1        | 31 KB     | ########## | 100% \n",
      "\n",
      "chardet-3.0.4        | 191 KB    |            |   0% \n",
      "chardet-3.0.4        | 191 KB    | ########## | 100% \n",
      "Preparing transaction: ...working... done\n",
      "Verifying transaction: ...working... done\n",
      "Executing transaction: ...working... done\n",
      "\n",
      "Note: you may need to restart the kernel to use updated packages.\n"
     ]
    },
    {
     "name": "stderr",
     "output_type": "stream",
     "text": [
      "\n",
      "\n",
      "==> WARNING: A newer version of conda exists. <==\n",
      "  current version: 4.7.10\n",
      "  latest version: 4.7.12\n",
      "\n",
      "Please update conda by running\n",
      "\n",
      "    $ conda update -n base -c defaults conda\n",
      "\n",
      "\n"
     ]
    }
   ],
   "source": [
    "%conda install requests"
   ]
  },
  {
   "cell_type": "markdown",
   "metadata": {},
   "source": [
    "### Split / apply / combine\n",
    "\n",
    "**Exercice:**\n",
    "\n",
    "Utiliser `pd.cut` pour créer des gammes de températures, trouver la moyenne de chaque valeur par gamme.\n",
    "\n",
    "<button data-toggle=\"collapse\" data-target=\"#sol5\" class='btn btn-primary'>Solution</button>\n",
    "<div id=\"sol5\" class=\"collapse\">\n",
    "\n",
    "```python\n",
    "temp_cats = pd.cut(main['temp'], 5) \n",
    "main['temp_cat'] = temp_cats\n",
    "main.groupby('temp_cat').mean()\n",
    "```\n",
    "\n",
    "</div>"
   ]
  },
  {
   "cell_type": "code",
   "execution_count": 43,
   "metadata": {},
   "outputs": [],
   "source": [
    "import requests\n",
    "import json"
   ]
  },
  {
   "cell_type": "code",
   "execution_count": 40,
   "metadata": {},
   "outputs": [],
   "source": [
    "response = requests.get(link)"
   ]
  },
  {
   "cell_type": "code",
   "execution_count": 42,
   "metadata": {},
   "outputs": [
    {
     "data": {
      "text/plain": [
       "'{\"cod\":\"200\",\"message\":0.0204,\"cnt\":96,\"list\":[{\"dt\":1553709600,\"main\":{\"temp\":272.09,\"temp_min\":271.358,\"temp_max\":272.09,\"pressure\":1018.01,\"sea_level\":1018.01,\"grnd_level\":997.153,\"humidity\":100,\"temp_kf\":0.73},\"weather\":[{\"id\":803,\"main\":\"Clouds\",\"description\":\"broken clouds\",\"icon\":\"04n\"}],\"clouds\":{\"all\":60},\"wind\":{\"speed\":3.25,\"deg\":287.822},\"sys\":{\"pod\":\"n\"},\"dt_txt\":\"2019-03-27 18:00:00\"},{\"dt\":1553713200,\"main\":{\"temp\":271.59,\"temp_min\":271.1,\"temp_max\":271.59,\"pressure\":1018.335,\"sea_level\":1018.335,\"grnd_level\":997.403,\"humidity\":100,\"temp_kf\":0.49},\"weather\":[{\"id\":800,\"main\":\"Clear\",\"description\":\"clear sky\",\"icon\":\"02n\"}],\"clouds\":{\"all\":2},\"wind\":{\"speed\":3.4,\"deg\":294.075},\"sys\":{\"pod\":\"n\"},\"dt_txt\":\"2019-03-27 19:00:00\"},{\"dt\":1553716800,\"main\":{\"temp\":271.15,\"temp_min\":270.907,\"temp_max\":271.15,\"pressure\":1018.794,\"sea_level\":1018.794,\"grnd_level\":997.864,\"humidity\":100,\"temp_kf\":0.24},\"weather\":[{\"id\":800,\"main\":\"Clear\",\"description\":\"clear sky\",\"icon\":\"01n\"}],\"clouds\":{\"all\":1},\"wind\":{\"speed\":3.47,\"deg\":300.189},\"sys\":{\"pod\":\"n\"},\"dt_txt\":\"2019-03-27 20:00:00\"},{\"dt\":1553720400,\"main\":{\"temp\":270.722,\"temp_min\":270.722,\"temp_max\":270.722,\"pressure\":1019.211,\"sea_level\":1019.211,\"grnd_level\":998.29,\"humidity\":100,\"temp_kf\":0},\"weather\":[{\"id\":800,\"main\":\"Clear\",\"description\":\"clear sky\",\"icon\":\"01n\"}],\"clouds\":{\"all\":1},\"wind\":{\"speed\":3.55,\"deg\":305.558},\"sys\":{\"pod\":\"n\"},\"dt_txt\":\"2019-03-27 21:00:00\"},{\"dt\":1553724000,\"main\":{\"temp\":270.63,\"temp_min\":270.63,\"temp_max\":270.63,\"pressure\":1019.58,\"sea_level\":1019.58,\"grnd_level\":998.674,\"humidity\":100,\"temp_kf\":0},\"weather\":[{\"id\":800,\"main\":\"Clear\",\"description\":\"clear sky\",\"icon\":\"01n\"}],\"clouds\":{\"all\":1},\"wind\":{\"speed\":3.59,\"deg\":309.126},\"sys\":{\"pod\":\"n\"},\"dt_txt\":\"2019-03-27 22:00:00\"},{\"dt\":1553727600,\"main\":{\"temp\":270.421,\"temp_min\":270.421,\"temp_max\":270.421,\"pressure\":1019.849,\"sea_level\":1019.849,\"grnd_level\":998.886,\"humidity\":100,\"temp_kf\":0},\"weather\":[{\"id\":800,\"main\":\"Clear\",\"description\":\"clear sky\",\"icon\":\"01n\"}],\"clouds\":{\"all\":0},\"wind\":{\"speed\":3.67,\"deg\":307.204},\"sys\":{\"pod\":\"n\"},\"dt_txt\":\"2019-03-27 23:00:00\"},{\"dt\":1553731200,\"main\":{\"temp\":270.201,\"temp_min\":270.201,\"temp_max\":270.201,\"pressure\":1020.021,\"sea_level\":1020.021,\"grnd_level\":998.983,\"humidity\":100,\"temp_kf\":0},\"weather\":[{\"id\":800,\"main\":\"Clear\",\"description\":\"clear sky\",\"icon\":\"02n\"}],\"clouds\":{\"all\":7},\"wind\":{\"speed\":3.94,\"deg\":304.735},\"sys\":{\"pod\":\"n\"},\"dt_txt\":\"2019-03-28 00:00:00\"},{\"dt\":1553734800,\"main\":{\"temp\":269.942,\"temp_min\":269.942,\"temp_max\":269.942,\"pressure\":1020.24,\"sea_level\":1020.24,\"grnd_level\":999.091,\"humidity\":100,\"temp_kf\":0},\"weather\":[{\"id\":803,\"main\":\"Clouds\",\"description\":\"broken clouds\",\"icon\":\"04n\"}],\"clouds\":{\"all\":66},\"wind\":{\"speed\":4.24,\"deg\":306.38},\"sys\":{\"pod\":\"n\"},\"dt_txt\":\"2019-03-28 01:00:00\"},{\"dt\":1553738400,\"main\":{\"temp\":269.768,\"temp_min\":269.768,\"temp_max\":269.768,\"pressure\":1020.634,\"sea_level\":1020.634,\"grnd_level\":999.451,\"humidity\":100,\"temp_kf\":0},\"weather\":[{\"id\":803,\"main\":\"Clouds\",\"description\":\"broken clouds\",\"icon\":\"04n\"}],\"clouds\":{\"all\":67},\"wind\":{\"speed\":4.63,\"deg\":313.941},\"sys\":{\"pod\":\"n\"},\"dt_txt\":\"2019-03-28 02:00:00\"},{\"dt\":1553742000,\"main\":{\"temp\":270.054,\"temp_min\":270.054,\"temp_max\":270.054,\"pressure\":1021.2,\"sea_level\":1021.2,\"grnd_level\":1000.078,\"humidity\":100,\"temp_kf\":0},\"weather\":[{\"id\":803,\"main\":\"Clouds\",\"description\":\"broken clouds\",\"icon\":\"04n\"}],\"clouds\":{\"all\":78},\"wind\":{\"speed\":5.05,\"deg\":323.001},\"sys\":{\"pod\":\"n\"},\"dt_txt\":\"2019-03-28 03:00:00\"},{\"dt\":1553745600,\"main\":{\"temp\":270.255,\"temp_min\":270.255,\"temp_max\":270.255,\"pressure\":1021.887,\"sea_level\":1021.887,\"grnd_level\":1000.825,\"humidity\":100,\"temp_kf\":0},\"weather\":[{\"id\":803,\"main\":\"Clouds\",\"description\":\"broken clouds\",\"icon\":\"04d\"}],\"clouds\":{\"all\":83},\"wind\":{\"speed\":4.77,\"deg\":325.587},\"sys\":{\"pod\":\"d\"},\"dt_txt\":\"2019-03-28 04:00:00\"},{\"dt\":1553749200,\"main\":{\"temp\":270.544,\"temp_min\":270.544,\"temp_max\":270.544,\"pressure\":1022.26,\"sea_level\":1022.26,\"grnd_level\":1001.249,\"humidity\":100,\"temp_kf\":0},\"weather\":[{\"id\":804,\"main\":\"Clouds\",\"description\":\"overcast clouds\",\"icon\":\"04d\"}],\"clouds\":{\"all\":86},\"wind\":{\"speed\":4.6,\"deg\":325.37},\"sys\":{\"pod\":\"d\"},\"dt_txt\":\"2019-03-28 05:00:00\"},{\"dt\":1553752800,\"main\":{\"temp\":270.867,\"temp_min\":270.867,\"temp_max\":270.867,\"pressure\":1022.629,\"sea_level\":1022.629,\"grnd_level\":1001.705,\"humidity\":100,\"temp_kf\":0},\"weather\":[{\"id\":804,\"main\":\"Clouds\",\"description\":\"overcast clouds\",\"icon\":\"04d\"}],\"clouds\":{\"all\":86},\"wind\":{\"speed\":4.72,\"deg\":327.239},\"sys\":{\"pod\":\"d\"},\"dt_txt\":\"2019-03-28 06:00:00\"},{\"dt\":1553756400,\"main\":{\"temp\":271.3,\"temp_min\":271.3,\"temp_max\":271.3,\"pressure\":1023.002,\"sea_level\":1023.002,\"grnd_level\":1002.215,\"humidity\":100,\"temp_kf\":0},\"weather\":[{\"id\":804,\"main\":\"Clouds\",\"description\":\"overcast clouds\",\"icon\":\"04d\"}],\"clouds\":{\"all\":96},\"wind\":{\"speed\":4.78,\"deg\":329.474},\"sys\":{\"pod\":\"d\"},\"dt_txt\":\"2019-03-28 07:00:00\"},{\"dt\":1553760000,\"main\":{\"temp\":271.8,\"temp_min\":271.8,\"temp_max\":271.8,\"pressure\":1023.327,\"sea_level\":1023.327,\"grnd_level\":1002.643,\"humidity\":100,\"temp_kf\":0},\"weather\":[{\"id\":804,\"main\":\"Clouds\",\"description\":\"overcast clouds\",\"icon\":\"04d\"}],\"clouds\":{\"all\":95},\"wind\":{\"speed\":4.79,\"deg\":331.284},\"sys\":{\"pod\":\"d\"},\"dt_txt\":\"2019-03-28 08:00:00\"},{\"dt\":1553763600,\"main\":{\"temp\":272.6,\"temp_min\":272.6,\"temp_max\":272.6,\"pressure\":1023.522,\"sea_level\":1023.522,\"grnd_level\":1002.861,\"humidity\":100,\"temp_kf\":0},\"weather\":[{\"id\":804,\"main\":\"Clouds\",\"description\":\"overcast clouds\",\"icon\":\"04d\"}],\"clouds\":{\"all\":94},\"wind\":{\"speed\":4.85,\"deg\":331.928},\"sys\":{\"pod\":\"d\"},\"dt_txt\":\"2019-03-28 09:00:00\"},{\"dt\":1553767200,\"main\":{\"temp\":273.2,\"temp_min\":273.2,\"temp_max\":273.2,\"pressure\":1023.577,\"sea_level\":1023.577,\"grnd_level\":1002.923,\"humidity\":100,\"temp_kf\":0},\"weather\":[{\"id\":804,\"main\":\"Clouds\",\"description\":\"overcast clouds\",\"icon\":\"04d\"}],\"clouds\":{\"all\":94},\"wind\":{\"speed\":4.79,\"deg\":332.483},\"sys\":{\"pod\":\"d\"},\"dt_txt\":\"2019-03-28 10:00:00\"},{\"dt\":1553770800,\"main\":{\"temp\":273.733,\"temp_min\":273.733,\"temp_max\":273.733,\"pressure\":1023.539,\"sea_level\":1023.539,\"grnd_level\":1002.905,\"humidity\":100,\"temp_kf\":0},\"weather\":[{\"id\":804,\"main\":\"Clouds\",\"description\":\"overcast clouds\",\"icon\":\"04d\"}],\"clouds\":{\"all\":94},\"wind\":{\"speed\":4.74,\"deg\":332.007},\"sys\":{\"pod\":\"d\"},\"dt_txt\":\"2019-03-28 11:00:00\"},{\"dt\":1553774400,\"main\":{\"temp\":274.088,\"temp_min\":274.088,\"temp_max\":274.088,\"pressure\":1023.439,\"sea_level\":1023.439,\"grnd_level\":1002.827,\"humidity\":100,\"temp_kf\":0},\"weather\":[{\"id\":804,\"main\":\"Clouds\",\"description\":\"overcast clouds\",\"icon\":\"04d\"}],\"clouds\":{\"all\":94},\"wind\":{\"speed\":4.67,\"deg\":330.692},\"sys\":{\"pod\":\"d\"},\"dt_txt\":\"2019-03-28 12:00:00\"},{\"dt\":1553778000,\"main\":{\"temp\":274.3,\"temp_min\":274.3,\"temp_max\":274.3,\"pressure\":1023.462,\"sea_level\":1023.462,\"grnd_level\":1002.794,\"humidity\":100,\"temp_kf\":0},\"weather\":[{\"id\":804,\"main\":\"Clouds\",\"description\":\"overcast clouds\",\"icon\":\"04d\"}],\"clouds\":{\"all\":85},\"wind\":{\"speed\":4.34,\"deg\":330.72},\"sys\":{\"pod\":\"d\"},\"dt_txt\":\"2019-03-28 13:00:00\"},{\"dt\":1553781600,\"main\":{\"temp\":274.221,\"temp_min\":274.221,\"temp_max\":274.221,\"pressure\":1023.597,\"sea_level\":1023.597,\"grnd_level\":1002.933,\"humidity\":100,\"temp_kf\":0},\"weather\":[{\"id\":803,\"main\":\"Clouds\",\"description\":\"broken clouds\",\"icon\":\"04d\"}],\"clouds\":{\"all\":65},\"wind\":{\"speed\":3.85,\"deg\":328.604},\"sys\":{\"pod\":\"d\"},\"dt_txt\":\"2019-03-28 14:00:00\"},{\"dt\":1553785200,\"main\":{\"temp\":273.5,\"temp_min\":273.5,\"temp_max\":273.5,\"pressure\":1023.736,\"sea_level\":1023.736,\"grnd_level\":1003.062,\"humidity\":100,\"temp_kf\":0},\"weather\":[{\"id\":803,\"main\":\"Clouds\",\"description\":\"broken clouds\",\"icon\":\"04d\"}],\"clouds\":{\"all\":74},\"wind\":{\"speed\":2.52,\"deg\":320.741},\"sys\":{\"pod\":\"d\"},\"dt_txt\":\"2019-03-28 15:00:00\"},{\"dt\":1553788800,\"main\":{\"temp\":272.231,\"temp_min\":272.231,\"temp_max\":272.231,\"pressure\":1023.865,\"sea_level\":1023.865,\"grnd_level\":1003.222,\"humidity\":100,\"temp_kf\":0},\"weather\":[{\"id\":803,\"main\":\"Clouds\",\"description\":\"broken clouds\",\"icon\":\"04n\"}],\"clouds\":{\"all\":57},\"wind\":{\"speed\":2.22,\"deg\":311.882},\"sys\":{\"pod\":\"n\"},\"dt_txt\":\"2019-03-28 16:00:00\"},{\"dt\":1553792400,\"main\":{\"temp\":271.795,\"temp_min\":271.795,\"temp_max\":271.795,\"pressure\":1024.036,\"sea_level\":1024.036,\"grnd_level\":1003.379,\"humidity\":100,\"temp_kf\":0},\"weather\":[{\"id\":803,\"main\":\"Clouds\",\"description\":\"broken clouds\",\"icon\":\"04n\"}],\"clouds\":{\"all\":57},\"wind\":{\"speed\":2.03,\"deg\":304.168},\"sys\":{\"pod\":\"n\"},\"dt_txt\":\"2019-03-28 17:00:00\"},{\"dt\":1553796000,\"main\":{\"temp\":271.649,\"temp_min\":271.649,\"temp_max\":271.649,\"pressure\":1024.147,\"sea_level\":1024.147,\"grnd_level\":1003.468,\"humidity\":100,\"temp_kf\":0},\"weather\":[{\"id\":803,\"main\":\"Clouds\",\"description\":\"broken clouds\",\"icon\":\"04n\"}],\"clouds\":{\"all\":63},\"wind\":{\"speed\":1.99,\"deg\":296.025},\"sys\":{\"pod\":\"n\"},\"dt_txt\":\"2019-03-28 18:00:00\"},{\"dt\":1553799600,\"main\":{\"temp\":271.7,\"temp_min\":271.7,\"temp_max\":271.7,\"pressure\":1024.107,\"sea_level\":1024.107,\"grnd_level\":1003.522,\"humidity\":100,\"temp_kf\":0},\"weather\":[{\"id\":804,\"main\":\"Clouds\",\"description\":\"overcast clouds\",\"icon\":\"04n\"}],\"clouds\":{\"all\":100},\"wind\":{\"speed\":2.23,\"deg\":289.63},\"sys\":{\"pod\":\"n\"},\"dt_txt\":\"2019-03-28 19:00:00\"},{\"dt\":1553803200,\"main\":{\"temp\":271.9,\"temp_min\":271.9,\"temp_max\":271.9,\"pressure\":1023.891,\"sea_level\":1023.891,\"grnd_level\":1003.246,\"humidity\":100,\"temp_kf\":0},\"weather\":[{\"id\":804,\"main\":\"Clouds\",\"description\":\"overcast clouds\",\"icon\":\"04n\"}],\"clouds\":{\"all\":100},\"wind\":{\"speed\":2.2,\"deg\":281.821},\"sys\":{\"pod\":\"n\"},\"dt_txt\":\"2019-03-28 20:00:00\"},{\"dt\":1553806800,\"main\":{\"temp\":271.974,\"temp_min\":271.974,\"temp_max\":271.974,\"pressure\":1023.761,\"sea_level\":1023.761,\"grnd_level\":1003.012,\"humidity\":100,\"temp_kf\":0},\"weather\":[{\"id\":804,\"main\":\"Clouds\",\"description\":\"overcast clouds\",\"icon\":\"04n\"}],\"clouds\":{\"all\":100},\"wind\":{\"speed\":2.15,\"deg\":274.927},\"sys\":{\"pod\":\"n\"},\"dt_txt\":\"2019-03-28 21:00:00\"},{\"dt\":1553810400,\"main\":{\"temp\":272.326,\"temp_min\":272.326,\"temp_max\":272.326,\"pressure\":1023.737,\"sea_level\":1023.737,\"grnd_level\":1003.014,\"humidity\":100,\"temp_kf\":0},\"weather\":[{\"id\":600,\"main\":\"Snow\",\"description\":\"light snow\",\"icon\":\"13n\"}],\"clouds\":{\"all\":100},\"wind\":{\"speed\":2.25,\"deg\":277.655},\"snow\":{\"1h\":0.063},\"sys\":{\"pod\":\"n\"},\"dt_txt\":\"2019-03-28 22:00:00\"},{\"dt\":1553814000,\"main\":{\"temp\":272.3,\"temp_min\":272.3,\"temp_max\":272.3,\"pressure\":1023.548,\"sea_level\":1023.548,\"grnd_level\":1002.701,\"humidity\":100,\"temp_kf\":0},\"weather\":[{\"id\":804,\"main\":\"Clouds\",\"description\":\"overcast clouds\",\"icon\":\"04n\"}],\"clouds\":{\"all\":100},\"wind\":{\"speed\":2.2,\"deg\":273.617},\"snow\":{},\"sys\":{\"pod\":\"n\"},\"dt_txt\":\"2019-03-28 23:00:00\"},{\"dt\":1553817600,\"main\":{\"temp\":271.7,\"temp_min\":271.7,\"temp_max\":271.7,\"pressure\":1023.206,\"sea_level\":1023.206,\"grnd_level\":1002.39,\"humidity\":100,\"temp_kf\":0},\"weather\":[{\"id\":804,\"main\":\"Clouds\",\"description\":\"overcast clouds\",\"icon\":\"04n\"}],\"clouds\":{\"all\":100},\"wind\":{\"speed\":2.28,\"deg\":276.773},\"snow\":{},\"sys\":{\"pod\":\"n\"},\"dt_txt\":\"2019-03-29 00:00:00\"},{\"dt\":1553821200,\"main\":{\"temp\":271.9,\"temp_min\":271.9,\"temp_max\":271.9,\"pressure\":1022.834,\"sea_level\":1022.834,\"grnd_level\":1002.104,\"humidity\":100,\"temp_kf\":0},\"weather\":[{\"id\":804,\"main\":\"Clouds\",\"description\":\"overcast clouds\",\"icon\":\"04n\"}],\"clouds\":{\"all\":100},\"wind\":{\"speed\":2.18,\"deg\":282.503},\"sys\":{\"pod\":\"n\"},\"dt_txt\":\"2019-03-29 01:00:00\"},{\"dt\":1553824800,\"main\":{\"temp\":271.939,\"temp_min\":271.939,\"temp_max\":271.939,\"pressure\":1022.495,\"sea_level\":1022.495,\"grnd_level\":1001.799,\"humidity\":100,\"temp_kf\":0},\"weather\":[{\"id\":804,\"main\":\"Clouds\",\"description\":\"overcast clouds\",\"icon\":\"04n\"}],\"clouds\":{\"all\":100},\"wind\":{\"speed\":1.98,\"deg\":276.512},\"sys\":{\"pod\":\"n\"},\"dt_txt\":\"2019-03-29 02:00:00\"},{\"dt\":1553828400,\"main\":{\"temp\":271.765,\"temp_min\":271.765,\"temp_max\":271.765,\"pressure\":1022.26,\"sea_level\":1022.26,\"grnd_level\":1001.596,\"humidity\":100,\"temp_kf\":0},\"weather\":[{\"id\":804,\"main\":\"Clouds\",\"description\":\"overcast clouds\",\"icon\":\"04n\"}],\"clouds\":{\"all\":100},\"wind\":{\"speed\":1.94,\"deg\":268.702},\"sys\":{\"pod\":\"n\"},\"dt_txt\":\"2019-03-29 03:00:00\"},{\"dt\":1553832000,\"main\":{\"temp\":272.078,\"temp_min\":272.078,\"temp_max\":272.078,\"pressure\":1022.008,\"sea_level\":1022.008,\"grnd_level\":1001.44,\"humidity\":100,\"temp_kf\":0},\"weather\":[{\"id\":804,\"main\":\"Clouds\",\"description\":\"overcast clouds\",\"icon\":\"04d\"}],\"clouds\":{\"all\":100},\"wind\":{\"speed\":2.08,\"deg\":265.156},\"sys\":{\"pod\":\"d\"},\"dt_txt\":\"2019-03-29 04:00:00\"},{\"dt\":1553835600,\"main\":{\"temp\":272.882,\"temp_min\":272.882,\"temp_max\":272.882,\"pressure\":1021.719,\"sea_level\":1021.719,\"grnd_level\":1001.251,\"humidity\":100,\"temp_kf\":0},\"weather\":[{\"id\":804,\"main\":\"Clouds\",\"description\":\"overcast clouds\",\"icon\":\"04d\"}],\"clouds\":{\"all\":100},\"wind\":{\"speed\":2.3,\"deg\":263.445},\"sys\":{\"pod\":\"d\"},\"dt_txt\":\"2019-03-29 05:00:00\"},{\"dt\":1553839200,\"main\":{\"temp\":273.525,\"temp_min\":273.525,\"temp_max\":273.525,\"pressure\":1021.434,\"sea_level\":1021.434,\"grnd_level\":1001.049,\"humidity\":100,\"temp_kf\":0},\"weather\":[{\"id\":804,\"main\":\"Clouds\",\"description\":\"overcast clouds\",\"icon\":\"04d\"}],\"clouds\":{\"all\":100},\"wind\":{\"speed\":2.31,\"deg\":257.458},\"sys\":{\"pod\":\"d\"},\"dt_txt\":\"2019-03-29 06:00:00\"},{\"dt\":1553842800,\"main\":{\"temp\":274,\"temp_min\":274,\"temp_max\":274,\"pressure\":1021.167,\"sea_level\":1021.167,\"grnd_level\":1000.808,\"humidity\":100,\"temp_kf\":0},\"weather\":[{\"id\":600,\"main\":\"Snow\",\"description\":\"light snow\",\"icon\":\"13d\"}],\"clouds\":{\"all\":100},\"wind\":{\"speed\":2.25,\"deg\":246.007},\"snow\":{\"1h\":0.125},\"sys\":{\"pod\":\"d\"},\"dt_txt\":\"2019-03-29 07:00:00\"},{\"dt\":1553846400,\"main\":{\"temp\":274.474,\"temp_min\":274.474,\"temp_max\":274.474,\"pressure\":1020.836,\"sea_level\":1020.836,\"grnd_level\":1000.485,\"humidity\":100,\"temp_kf\":0},\"weather\":[{\"id\":600,\"main\":\"Snow\",\"description\":\"light snow\",\"icon\":\"13d\"}],\"clouds\":{\"all\":100},\"wind\":{\"speed\":2.42,\"deg\":240.812},\"snow\":{\"1h\":0.125},\"sys\":{\"pod\":\"d\"},\"dt_txt\":\"2019-03-29 08:00:00\"},{\"dt\":1553850000,\"main\":{\"temp\":275.451,\"temp_min\":275.451,\"temp_max\":275.451,\"pressure\":1020.481,\"sea_level\":1020.481,\"grnd_level\":1000.151,\"humidity\":100,\"temp_kf\":0},\"weather\":[{\"id\":804,\"main\":\"Clouds\",\"description\":\"overcast clouds\",\"icon\":\"04d\"}],\"clouds\":{\"all\":99},\"wind\":{\"speed\":2.76,\"deg\":244.039},\"snow\":{},\"sys\":{\"pod\":\"d\"},\"dt_txt\":\"2019-03-29 09:00:00\"},{\"dt\":1553853600,\"main\":{\"temp\":276.225,\"temp_min\":276.225,\"temp_max\":276.225,\"pressure\":1020.127,\"sea_level\":1020.127,\"grnd_level\":999.749,\"humidity\":100,\"temp_kf\":0},\"weather\":[{\"id\":804,\"main\":\"Clouds\",\"description\":\"overcast clouds\",\"icon\":\"04d\"}],\"clouds\":{\"all\":95},\"wind\":{\"speed\":2.93,\"deg\":246.819},\"snow\":{},\"sys\":{\"pod\":\"d\"},\"dt_txt\":\"2019-03-29 10:00:00\"},{\"dt\":1553857200,\"main\":{\"temp\":276.635,\"temp_min\":276.635,\"temp_max\":276.635,\"pressure\":1019.752,\"sea_level\":1019.752,\"grnd_level\":999.387,\"humidity\":100,\"temp_kf\":0},\"weather\":[{\"id\":804,\"main\":\"Clouds\",\"description\":\"overcast clouds\",\"icon\":\"04d\"}],\"clouds\":{\"all\":93},\"wind\":{\"speed\":2.99,\"deg\":253.222},\"rain\":{},\"sys\":{\"pod\":\"d\"},\"dt_txt\":\"2019-03-29 11:00:00\"},{\"dt\":1553860800,\"main\":{\"temp\":276.588,\"temp_min\":276.588,\"temp_max\":276.588,\"pressure\":1019.321,\"sea_level\":1019.321,\"grnd_level\":998.972,\"humidity\":100,\"temp_kf\":0},\"weather\":[{\"id\":804,\"main\":\"Clouds\",\"description\":\"overcast clouds\",\"icon\":\"04d\"}],\"clouds\":{\"all\":94},\"wind\":{\"speed\":2.64,\"deg\":255.679},\"rain\":{},\"sys\":{\"pod\":\"d\"},\"dt_txt\":\"2019-03-29 12:00:00\"},{\"dt\":1553864400,\"main\":{\"temp\":276.351,\"temp_min\":276.351,\"temp_max\":276.351,\"pressure\":1018.913,\"sea_level\":1018.913,\"grnd_level\":998.612,\"humidity\":100,\"temp_kf\":0},\"weather\":[{\"id\":804,\"main\":\"Clouds\",\"description\":\"overcast clouds\",\"icon\":\"04d\"}],\"clouds\":{\"all\":96},\"wind\":{\"speed\":2.03,\"deg\":249.394},\"sys\":{\"pod\":\"d\"},\"dt_txt\":\"2019-03-29 13:00:00\"},{\"dt\":1553868000,\"main\":{\"temp\":275.845,\"temp_min\":275.845,\"temp_max\":275.845,\"pressure\":1018.448,\"sea_level\":1018.448,\"grnd_level\":998.222,\"humidity\":100,\"temp_kf\":0},\"weather\":[{\"id\":804,\"main\":\"Clouds\",\"description\":\"overcast clouds\",\"icon\":\"04d\"}],\"clouds\":{\"all\":89},\"wind\":{\"speed\":1.96,\"deg\":241.21},\"sys\":{\"pod\":\"d\"},\"dt_txt\":\"2019-03-29 14:00:00\"},{\"dt\":1553871600,\"main\":{\"temp\":275.174,\"temp_min\":275.174,\"temp_max\":275.174,\"pressure\":1018.157,\"sea_level\":1018.157,\"grnd_level\":998.031,\"humidity\":100,\"temp_kf\":0},\"weather\":[{\"id\":804,\"main\":\"Clouds\",\"description\":\"overcast clouds\",\"icon\":\"04d\"}],\"clouds\":{\"all\":89},\"wind\":{\"speed\":2.1,\"deg\":239.814},\"sys\":{\"pod\":\"d\"},\"dt_txt\":\"2019-03-29 15:00:00\"},{\"dt\":1553875200,\"main\":{\"temp\":274.625,\"temp_min\":274.625,\"temp_max\":274.625,\"pressure\":1018.082,\"sea_level\":1018.082,\"grnd_level\":998.044,\"humidity\":100,\"temp_kf\":0},\"weather\":[{\"id\":804,\"main\":\"Clouds\",\"description\":\"overcast clouds\",\"icon\":\"04d\"}],\"clouds\":{\"all\":91},\"wind\":{\"speed\":2.12,\"deg\":238.953},\"sys\":{\"pod\":\"d\"},\"dt_txt\":\"2019-03-29 16:00:00\"},{\"dt\":1553878800,\"main\":{\"temp\":274.5,\"temp_min\":274.5,\"temp_max\":274.5,\"pressure\":1018.174,\"sea_level\":1018.174,\"grnd_level\":998.023,\"humidity\":100,\"temp_kf\":0},\"weather\":[{\"id\":804,\"main\":\"Clouds\",\"description\":\"overcast clouds\",\"icon\":\"04n\"}],\"clouds\":{\"all\":92},\"wind\":{\"speed\":2.02,\"deg\":224.759},\"sys\":{\"pod\":\"n\"},\"dt_txt\":\"2019-03-29 17:00:00\"},{\"dt\":1553882400,\"main\":{\"temp\":274.545,\"temp_min\":274.545,\"temp_max\":274.545,\"pressure\":1018.077,\"sea_level\":1018.077,\"grnd_level\":997.801,\"humidity\":100,\"temp_kf\":0},\"weather\":[{\"id\":804,\"main\":\"Clouds\",\"description\":\"overcast clouds\",\"icon\":\"04n\"}],\"clouds\":{\"all\":92},\"wind\":{\"speed\":2.11,\"deg\":210.061},\"sys\":{\"pod\":\"n\"},\"dt_txt\":\"2019-03-29 18:00:00\"},{\"dt\":1553886000,\"main\":{\"temp\":274.549,\"temp_min\":274.549,\"temp_max\":274.549,\"pressure\":1017.715,\"sea_level\":1017.715,\"grnd_level\":997.403,\"humidity\":100,\"temp_kf\":0},\"weather\":[{\"id\":804,\"main\":\"Clouds\",\"description\":\"overcast clouds\",\"icon\":\"04n\"}],\"clouds\":{\"all\":95},\"wind\":{\"speed\":2.25,\"deg\":206.588},\"sys\":{\"pod\":\"n\"},\"dt_txt\":\"2019-03-29 19:00:00\"},{\"dt\":1553889600,\"main\":{\"temp\":274.6,\"temp_min\":274.6,\"temp_max\":274.6,\"pressure\":1017.301,\"sea_level\":1017.301,\"grnd_level\":996.986,\"humidity\":100,\"temp_kf\":0},\"weather\":[{\"id\":804,\"main\":\"Clouds\",\"description\":\"overcast clouds\",\"icon\":\"04n\"}],\"clouds\":{\"all\":97},\"wind\":{\"speed\":2.62,\"deg\":209.522},\"sys\":{\"pod\":\"n\"},\"dt_txt\":\"2019-03-29 20:00:00\"},{\"dt\":1553893200,\"main\":{\"temp\":274.464,\"temp_min\":274.464,\"temp_max\":274.464,\"pressure\":1016.928,\"sea_level\":1016.928,\"grnd_level\":996.589,\"humidity\":100,\"temp_kf\":0},\"weather\":[{\"id\":804,\"main\":\"Clouds\",\"description\":\"overcast clouds\",\"icon\":\"04n\"}],\"clouds\":{\"all\":97},\"wind\":{\"speed\":3.11,\"deg\":210.986},\"sys\":{\"pod\":\"n\"},\"dt_txt\":\"2019-03-29 21:00:00\"},{\"dt\":1553896800,\"main\":{\"temp\":273.996,\"temp_min\":273.996,\"temp_max\":273.996,\"pressure\":1016.55,\"sea_level\":1016.55,\"grnd_level\":996.183,\"humidity\":100,\"temp_kf\":0},\"weather\":[{\"id\":804,\"main\":\"Clouds\",\"description\":\"overcast clouds\",\"icon\":\"04n\"}],\"clouds\":{\"all\":94},\"wind\":{\"speed\":3.28,\"deg\":211.535},\"sys\":{\"pod\":\"n\"},\"dt_txt\":\"2019-03-29 22:00:00\"},{\"dt\":1553900400,\"main\":{\"temp\":273.653,\"temp_min\":273.653,\"temp_max\":273.653,\"pressure\":1016.137,\"sea_level\":1016.137,\"grnd_level\":995.823,\"humidity\":100,\"temp_kf\":0},\"weather\":[{\"id\":803,\"main\":\"Clouds\",\"description\":\"broken clouds\",\"icon\":\"04n\"}],\"clouds\":{\"all\":82},\"wind\":{\"speed\":3.29,\"deg\":213.579},\"sys\":{\"pod\":\"n\"},\"dt_txt\":\"2019-03-29 23:00:00\"},{\"dt\":1553904000,\"main\":{\"temp\":273.451,\"temp_min\":273.451,\"temp_max\":273.451,\"pressure\":1015.574,\"sea_level\":1015.574,\"grnd_level\":995.131,\"humidity\":100,\"temp_kf\":0},\"weather\":[{\"id\":803,\"main\":\"Clouds\",\"description\":\"broken clouds\",\"icon\":\"04n\"}],\"clouds\":{\"all\":68},\"wind\":{\"speed\":3.36,\"deg\":214.711},\"sys\":{\"pod\":\"n\"},\"dt_txt\":\"2019-03-30 00:00:00\"},{\"dt\":1553907600,\"main\":{\"temp\":273.35,\"temp_min\":273.35,\"temp_max\":273.35,\"pressure\":1015.025,\"sea_level\":1015.025,\"grnd_level\":994.618,\"humidity\":100,\"temp_kf\":0},\"weather\":[{\"id\":800,\"main\":\"Clear\",\"description\":\"clear sky\",\"icon\":\"01n\"}],\"clouds\":{\"all\":1},\"wind\":{\"speed\":3.24,\"deg\":222.036},\"sys\":{\"pod\":\"n\"},\"dt_txt\":\"2019-03-30 01:00:00\"},{\"dt\":1553911200,\"main\":{\"temp\":273.319,\"temp_min\":273.319,\"temp_max\":273.319,\"pressure\":1014.506,\"sea_level\":1014.506,\"grnd_level\":994.086,\"humidity\":100,\"temp_kf\":0},\"weather\":[{\"id\":800,\"main\":\"Clear\",\"description\":\"clear sky\",\"icon\":\"01n\"}],\"clouds\":{\"all\":1},\"wind\":{\"speed\":3.16,\"deg\":226.127},\"sys\":{\"pod\":\"n\"},\"dt_txt\":\"2019-03-30 02:00:00\"},{\"dt\":1553914800,\"main\":{\"temp\":273.34,\"temp_min\":273.34,\"temp_max\":273.34,\"pressure\":1014.118,\"sea_level\":1014.118,\"grnd_level\":993.712,\"humidity\":100,\"temp_kf\":0},\"weather\":[{\"id\":800,\"main\":\"Clear\",\"description\":\"clear sky\",\"icon\":\"01n\"}],\"clouds\":{\"all\":1},\"wind\":{\"speed\":3.14,\"deg\":233.422},\"sys\":{\"pod\":\"n\"},\"dt_txt\":\"2019-03-30 03:00:00\"},{\"dt\":1553918400,\"main\":{\"temp\":273.707,\"temp_min\":273.707,\"temp_max\":273.707,\"pressure\":1013.947,\"sea_level\":1013.947,\"grnd_level\":993.522,\"humidity\":100,\"temp_kf\":0},\"weather\":[{\"id\":800,\"main\":\"Clear\",\"description\":\"clear sky\",\"icon\":\"01d\"}],\"clouds\":{\"all\":1},\"wind\":{\"speed\":3.29,\"deg\":244.245},\"sys\":{\"pod\":\"d\"},\"dt_txt\":\"2019-03-30 04:00:00\"},{\"dt\":1553922000,\"main\":{\"temp\":274.795,\"temp_min\":274.795,\"temp_max\":274.795,\"pressure\":1013.873,\"sea_level\":1013.873,\"grnd_level\":993.6,\"humidity\":100,\"temp_kf\":0},\"weather\":[{\"id\":800,\"main\":\"Clear\",\"description\":\"clear sky\",\"icon\":\"01d\"}],\"clouds\":{\"all\":1},\"wind\":{\"speed\":3.57,\"deg\":260.303},\"sys\":{\"pod\":\"d\"},\"dt_txt\":\"2019-03-30 05:00:00\"},{\"dt\":1553925600,\"main\":{\"temp\":275.777,\"temp_min\":275.777,\"temp_max\":275.777,\"pressure\":1013.782,\"sea_level\":1013.782,\"grnd_level\":993.761,\"humidity\":100,\"temp_kf\":0},\"weather\":[{\"id\":801,\"main\":\"Clouds\",\"description\":\"few clouds\",\"icon\":\"02d\"}],\"clouds\":{\"all\":16},\"wind\":{\"speed\":3.61,\"deg\":270.571},\"sys\":{\"pod\":\"d\"},\"dt_txt\":\"2019-03-30 06:00:00\"},{\"dt\":1553929200,\"main\":{\"temp\":275.819,\"temp_min\":275.819,\"temp_max\":275.819,\"pressure\":1013.7,\"sea_level\":1013.7,\"grnd_level\":993.637,\"humidity\":100,\"temp_kf\":0},\"weather\":[{\"id\":500,\"main\":\"Rain\",\"description\":\"light rain\",\"icon\":\"10d\"}],\"clouds\":{\"all\":99},\"wind\":{\"speed\":3.44,\"deg\":264.201},\"rain\":{\"1h\":0.062},\"sys\":{\"pod\":\"d\"},\"dt_txt\":\"2019-03-30 07:00:00\"},{\"dt\":1553932800,\"main\":{\"temp\":275.977,\"temp_min\":275.977,\"temp_max\":275.977,\"pressure\":1013.518,\"sea_level\":1013.518,\"grnd_level\":993.373,\"humidity\":100,\"temp_kf\":0},\"weather\":[{\"id\":804,\"main\":\"Clouds\",\"description\":\"overcast clouds\",\"icon\":\"04d\"}],\"clouds\":{\"all\":100},\"wind\":{\"speed\":3.5,\"deg\":258.7},\"rain\":{},\"sys\":{\"pod\":\"d\"},\"dt_txt\":\"2019-03-30 08:00:00\"},{\"dt\":1553936400,\"main\":{\"temp\":276.604,\"temp_min\":276.604,\"temp_max\":276.604,\"pressure\":1013.255,\"sea_level\":1013.255,\"grnd_level\":993.063,\"humidity\":100,\"temp_kf\":0},\"weather\":[{\"id\":500,\"main\":\"Rain\",\"description\":\"light rain\",\"icon\":\"10d\"}],\"clouds\":{\"all\":100},\"wind\":{\"speed\":3.41,\"deg\":256.131},\"rain\":{\"1h\":0.063},\"sys\":{\"pod\":\"d\"},\"dt_txt\":\"2019-03-30 09:00:00\"},{\"dt\":1553940000,\"main\":{\"temp\":277.804,\"temp_min\":277.804,\"temp_max\":277.804,\"pressure\":1012.961,\"sea_level\":1012.961,\"grnd_level\":992.7,\"humidity\":100,\"temp_kf\":0},\"weather\":[{\"id\":804,\"main\":\"Clouds\",\"description\":\"overcast clouds\",\"icon\":\"04d\"}],\"clouds\":{\"all\":100},\"wind\":{\"speed\":3.98,\"deg\":262.425},\"rain\":{},\"sys\":{\"pod\":\"d\"},\"dt_txt\":\"2019-03-30 10:00:00\"},{\"dt\":1553943600,\"main\":{\"temp\":277.804,\"temp_min\":277.804,\"temp_max\":277.804,\"pressure\":1012.739,\"sea_level\":1012.739,\"grnd_level\":992.55,\"humidity\":100,\"temp_kf\":0},\"weather\":[{\"id\":804,\"main\":\"Clouds\",\"description\":\"overcast clouds\",\"icon\":\"04d\"}],\"clouds\":{\"all\":100},\"wind\":{\"speed\":4.22,\"deg\":266.821},\"rain\":{},\"sys\":{\"pod\":\"d\"},\"dt_txt\":\"2019-03-30 11:00:00\"},{\"dt\":1553947200,\"main\":{\"temp\":277.805,\"temp_min\":277.805,\"temp_max\":277.805,\"pressure\":1012.455,\"sea_level\":1012.455,\"grnd_level\":992.511,\"humidity\":100,\"temp_kf\":0},\"weather\":[{\"id\":500,\"main\":\"Rain\",\"description\":\"light rain\",\"icon\":\"10d\"}],\"clouds\":{\"all\":99},\"wind\":{\"speed\":4.29,\"deg\":271.709},\"rain\":{\"1h\":0.063},\"sys\":{\"pod\":\"d\"},\"dt_txt\":\"2019-03-30 12:00:00\"},{\"dt\":1553950800,\"main\":{\"temp\":277.631,\"temp_min\":277.631,\"temp_max\":277.631,\"pressure\":1012.288,\"sea_level\":1012.288,\"grnd_level\":992.464,\"humidity\":100,\"temp_kf\":0},\"weather\":[{\"id\":804,\"main\":\"Clouds\",\"description\":\"overcast clouds\",\"icon\":\"04d\"}],\"clouds\":{\"all\":100},\"wind\":{\"speed\":4.03,\"deg\":271.664},\"sys\":{\"pod\":\"d\"},\"dt_txt\":\"2019-03-30 13:00:00\"},{\"dt\":1553954400,\"main\":{\"temp\":277.448,\"temp_min\":277.448,\"temp_max\":277.448,\"pressure\":1012.378,\"sea_level\":1012.378,\"grnd_level\":992.699,\"humidity\":100,\"temp_kf\":0},\"weather\":[{\"id\":804,\"main\":\"Clouds\",\"description\":\"overcast clouds\",\"icon\":\"04d\"}],\"clouds\":{\"all\":100},\"wind\":{\"speed\":3.74,\"deg\":270.291},\"sys\":{\"pod\":\"d\"},\"dt_txt\":\"2019-03-30 14:00:00\"},{\"dt\":1553958000,\"main\":{\"temp\":277.1,\"temp_min\":277.1,\"temp_max\":277.1,\"pressure\":1012.714,\"sea_level\":1012.714,\"grnd_level\":992.953,\"humidity\":100,\"temp_kf\":0},\"weather\":[{\"id\":804,\"main\":\"Clouds\",\"description\":\"overcast clouds\",\"icon\":\"04d\"}],\"clouds\":{\"all\":98},\"wind\":{\"speed\":2.78,\"deg\":262.279},\"sys\":{\"pod\":\"d\"},\"dt_txt\":\"2019-03-30 15:00:00\"},{\"dt\":1553961600,\"main\":{\"temp\":276.152,\"temp_min\":276.152,\"temp_max\":276.152,\"pressure\":1013.119,\"sea_level\":1013.119,\"grnd_level\":993.009,\"humidity\":100,\"temp_kf\":0},\"weather\":[{\"id\":804,\"main\":\"Clouds\",\"description\":\"overcast clouds\",\"icon\":\"04d\"}],\"clouds\":{\"all\":89},\"wind\":{\"speed\":2.18,\"deg\":239.343},\"sys\":{\"pod\":\"d\"},\"dt_txt\":\"2019-03-30 16:00:00\"},{\"dt\":1553965200,\"main\":{\"temp\":275.7,\"temp_min\":275.7,\"temp_max\":275.7,\"pressure\":1013.589,\"sea_level\":1013.589,\"grnd_level\":993.402,\"humidity\":100,\"temp_kf\":0},\"weather\":[{\"id\":804,\"main\":\"Clouds\",\"description\":\"overcast clouds\",\"icon\":\"04n\"}],\"clouds\":{\"all\":85},\"wind\":{\"speed\":2.57,\"deg\":235.698},\"sys\":{\"pod\":\"n\"},\"dt_txt\":\"2019-03-30 17:00:00\"},{\"dt\":1553968800,\"main\":{\"temp\":275.721,\"temp_min\":275.721,\"temp_max\":275.721,\"pressure\":1013.822,\"sea_level\":1013.822,\"grnd_level\":993.592,\"humidity\":100,\"temp_kf\":0},\"weather\":[{\"id\":803,\"main\":\"Clouds\",\"description\":\"broken clouds\",\"icon\":\"04n\"}],\"clouds\":{\"all\":82},\"wind\":{\"speed\":2.8,\"deg\":243.718},\"sys\":{\"pod\":\"n\"},\"dt_txt\":\"2019-03-30 18:00:00\"},{\"dt\":1553972400,\"main\":{\"temp\":275.707,\"temp_min\":275.707,\"temp_max\":275.707,\"pressure\":1013.862,\"sea_level\":1013.862,\"grnd_level\":993.665,\"humidity\":100,\"temp_kf\":0},\"weather\":[{\"id\":803,\"main\":\"Clouds\",\"description\":\"broken clouds\",\"icon\":\"04n\"}],\"clouds\":{\"all\":70},\"wind\":{\"speed\":2.89,\"deg\":254},\"sys\":{\"pod\":\"n\"},\"dt_txt\":\"2019-03-30 19:00:00\"},{\"dt\":1553976000,\"main\":{\"temp\":275.581,\"temp_min\":275.581,\"temp_max\":275.581,\"pressure\":1013.807,\"sea_level\":1013.807,\"grnd_level\":993.639,\"humidity\":100,\"temp_kf\":0},\"weather\":[{\"id\":803,\"main\":\"Clouds\",\"description\":\"broken clouds\",\"icon\":\"04n\"}],\"clouds\":{\"all\":69},\"wind\":{\"speed\":2.91,\"deg\":258.86},\"sys\":{\"pod\":\"n\"},\"dt_txt\":\"2019-03-30 20:00:00\"},{\"dt\":1553979600,\"main\":{\"temp\":275.331,\"temp_min\":275.331,\"temp_max\":275.331,\"pressure\":1013.801,\"sea_level\":1013.801,\"grnd_level\":993.655,\"humidity\":100,\"temp_kf\":0},\"weather\":[{\"id\":803,\"main\":\"Clouds\",\"description\":\"broken clouds\",\"icon\":\"04n\"}],\"clouds\":{\"all\":67},\"wind\":{\"speed\":2.82,\"deg\":261.149},\"sys\":{\"pod\":\"n\"},\"dt_txt\":\"2019-03-30 21:00:00\"},{\"dt\":1553983200,\"main\":{\"temp\":274.931,\"temp_min\":274.931,\"temp_max\":274.931,\"pressure\":1013.864,\"sea_level\":1013.864,\"grnd_level\":993.69,\"humidity\":100,\"temp_kf\":0},\"weather\":[{\"id\":803,\"main\":\"Clouds\",\"description\":\"broken clouds\",\"icon\":\"04n\"}],\"clouds\":{\"all\":64},\"wind\":{\"speed\":2.66,\"deg\":260.435},\"sys\":{\"pod\":\"n\"},\"dt_txt\":\"2019-03-30 22:00:00\"},{\"dt\":1553986800,\"main\":{\"temp\":274.755,\"temp_min\":274.755,\"temp_max\":274.755,\"pressure\":1013.837,\"sea_level\":1013.837,\"grnd_level\":993.657,\"humidity\":100,\"temp_kf\":0},\"weather\":[{\"id\":803,\"main\":\"Clouds\",\"description\":\"broken clouds\",\"icon\":\"04n\"}],\"clouds\":{\"all\":63},\"wind\":{\"speed\":2.62,\"deg\":254.637},\"sys\":{\"pod\":\"n\"},\"dt_txt\":\"2019-03-30 23:00:00\"},{\"dt\":1553990400,\"main\":{\"temp\":274.585,\"temp_min\":274.585,\"temp_max\":274.585,\"pressure\":1013.846,\"sea_level\":1013.846,\"grnd_level\":993.692,\"humidity\":100,\"temp_kf\":0},\"weather\":[{\"id\":803,\"main\":\"Clouds\",\"description\":\"broken clouds\",\"icon\":\"04n\"}],\"clouds\":{\"all\":62},\"wind\":{\"speed\":2.65,\"deg\":245.748},\"sys\":{\"pod\":\"n\"},\"dt_txt\":\"2019-03-31 00:00:00\"},{\"dt\":1553994000,\"main\":{\"temp\":274.389,\"temp_min\":274.389,\"temp_max\":274.389,\"pressure\":1013.843,\"sea_level\":1013.843,\"grnd_level\":993.659,\"humidity\":100,\"temp_kf\":0},\"weather\":[{\"id\":803,\"main\":\"Clouds\",\"description\":\"broken clouds\",\"icon\":\"04n\"}],\"clouds\":{\"all\":60},\"wind\":{\"speed\":2.62,\"deg\":240.513},\"sys\":{\"pod\":\"n\"},\"dt_txt\":\"2019-03-31 01:00:00\"},{\"dt\":1553997600,\"main\":{\"temp\":274.265,\"temp_min\":274.265,\"temp_max\":274.265,\"pressure\":1013.755,\"sea_level\":1013.755,\"grnd_level\":993.532,\"humidity\":100,\"temp_kf\":0},\"weather\":[{\"id\":803,\"main\":\"Clouds\",\"description\":\"broken clouds\",\"icon\":\"04n\"}],\"clouds\":{\"all\":67},\"wind\":{\"speed\":2.57,\"deg\":238.267},\"sys\":{\"pod\":\"n\"},\"dt_txt\":\"2019-03-31 02:00:00\"},{\"dt\":1554001200,\"main\":{\"temp\":274.202,\"temp_min\":274.202,\"temp_max\":274.202,\"pressure\":1013.723,\"sea_level\":1013.723,\"grnd_level\":993.454,\"humidity\":100,\"temp_kf\":0},\"weather\":[{\"id\":803,\"main\":\"Clouds\",\"description\":\"broken clouds\",\"icon\":\"04n\"}],\"clouds\":{\"all\":72},\"wind\":{\"speed\":2.49,\"deg\":237.211},\"sys\":{\"pod\":\"n\"},\"dt_txt\":\"2019-03-31 03:00:00\"},{\"dt\":1554004800,\"main\":{\"temp\":274.433,\"temp_min\":274.433,\"temp_max\":274.433,\"pressure\":1013.712,\"sea_level\":1013.712,\"grnd_level\":993.422,\"humidity\":100,\"temp_kf\":0},\"weather\":[{\"id\":803,\"main\":\"Clouds\",\"description\":\"broken clouds\",\"icon\":\"04d\"}],\"clouds\":{\"all\":74},\"wind\":{\"speed\":2.42,\"deg\":234.88},\"sys\":{\"pod\":\"d\"},\"dt_txt\":\"2019-03-31 04:00:00\"},{\"dt\":1554008400,\"main\":{\"temp\":275.3,\"temp_min\":275.3,\"temp_max\":275.3,\"pressure\":1013.555,\"sea_level\":1013.555,\"grnd_level\":993.358,\"humidity\":100,\"temp_kf\":0},\"weather\":[{\"id\":803,\"main\":\"Clouds\",\"description\":\"broken clouds\",\"icon\":\"04d\"}],\"clouds\":{\"all\":79},\"wind\":{\"speed\":2.47,\"deg\":228.786},\"sys\":{\"pod\":\"d\"},\"dt_txt\":\"2019-03-31 05:00:00\"},{\"dt\":1554012000,\"main\":{\"temp\":276.752,\"temp_min\":276.752,\"temp_max\":276.752,\"pressure\":1013.28,\"sea_level\":1013.28,\"grnd_level\":993.192,\"humidity\":100,\"temp_kf\":0},\"weather\":[{\"id\":803,\"main\":\"Clouds\",\"description\":\"broken clouds\",\"icon\":\"04d\"}],\"clouds\":{\"all\":83},\"wind\":{\"speed\":2.82,\"deg\":223.432},\"sys\":{\"pod\":\"d\"},\"dt_txt\":\"2019-03-31 06:00:00\"},{\"dt\":1554015600,\"main\":{\"temp\":278.277,\"temp_min\":278.277,\"temp_max\":278.277,\"pressure\":1013.087,\"sea_level\":1013.087,\"grnd_level\":992.961,\"humidity\":100,\"temp_kf\":0},\"weather\":[{\"id\":804,\"main\":\"Clouds\",\"description\":\"overcast clouds\",\"icon\":\"04d\"}],\"clouds\":{\"all\":100},\"wind\":{\"speed\":3.19,\"deg\":218.663},\"sys\":{\"pod\":\"d\"},\"dt_txt\":\"2019-03-31 07:00:00\"},{\"dt\":1554019200,\"main\":{\"temp\":279.833,\"temp_min\":279.833,\"temp_max\":279.833,\"pressure\":1012.831,\"sea_level\":1012.831,\"grnd_level\":992.742,\"humidity\":100,\"temp_kf\":0},\"weather\":[{\"id\":804,\"main\":\"Clouds\",\"description\":\"overcast clouds\",\"icon\":\"04d\"}],\"clouds\":{\"all\":100},\"wind\":{\"speed\":3.54,\"deg\":217.859},\"sys\":{\"pod\":\"d\"},\"dt_txt\":\"2019-03-31 08:00:00\"},{\"dt\":1554022800,\"main\":{\"temp\":281.306,\"temp_min\":281.306,\"temp_max\":281.306,\"pressure\":1012.452,\"sea_level\":1012.452,\"grnd_level\":992.5,\"humidity\":100,\"temp_kf\":0},\"weather\":[{\"id\":804,\"main\":\"Clouds\",\"description\":\"overcast clouds\",\"icon\":\"04d\"}],\"clouds\":{\"all\":100},\"wind\":{\"speed\":4.02,\"deg\":222.601},\"sys\":{\"pod\":\"d\"},\"dt_txt\":\"2019-03-31 09:00:00\"},{\"dt\":1554026400,\"main\":{\"temp\":282.568,\"temp_min\":282.568,\"temp_max\":282.568,\"pressure\":1012.038,\"sea_level\":1012.038,\"grnd_level\":992.133,\"humidity\":100,\"temp_kf\":0},\"weather\":[{\"id\":804,\"main\":\"Clouds\",\"description\":\"overcast clouds\",\"icon\":\"04d\"}],\"clouds\":{\"all\":100},\"wind\":{\"speed\":4.48,\"deg\":228.197},\"sys\":{\"pod\":\"d\"},\"dt_txt\":\"2019-03-31 10:00:00\"},{\"dt\":1554030000,\"main\":{\"temp\":283.3,\"temp_min\":283.3,\"temp_max\":283.3,\"pressure\":1011.796,\"sea_level\":1011.796,\"grnd_level\":991.829,\"humidity\":100,\"temp_kf\":0},\"weather\":[{\"id\":804,\"main\":\"Clouds\",\"description\":\"overcast clouds\",\"icon\":\"04d\"}],\"clouds\":{\"all\":91},\"wind\":{\"speed\":4.72,\"deg\":229.969},\"sys\":{\"pod\":\"d\"},\"dt_txt\":\"2019-03-31 11:00:00\"},{\"dt\":1554033600,\"main\":{\"temp\":283.683,\"temp_min\":283.683,\"temp_max\":283.683,\"pressure\":1011.418,\"sea_level\":1011.418,\"grnd_level\":991.409,\"humidity\":100,\"temp_kf\":0},\"weather\":[{\"id\":803,\"main\":\"Clouds\",\"description\":\"broken clouds\",\"icon\":\"04d\"}],\"clouds\":{\"all\":83},\"wind\":{\"speed\":4.76,\"deg\":231.009},\"sys\":{\"pod\":\"d\"},\"dt_txt\":\"2019-03-31 12:00:00\"},{\"dt\":1554037200,\"main\":{\"temp\":283.821,\"temp_min\":283.821,\"temp_max\":283.821,\"pressure\":1011.044,\"sea_level\":1011.044,\"grnd_level\":991.069,\"humidity\":100,\"temp_kf\":0},\"weather\":[{\"id\":802,\"main\":\"Clouds\",\"description\":\"scattered clouds\",\"icon\":\"03d\"}],\"clouds\":{\"all\":48},\"wind\":{\"speed\":4.64,\"deg\":232.76},\"sys\":{\"pod\":\"d\"},\"dt_txt\":\"2019-03-31 13:00:00\"},{\"dt\":1554040800,\"main\":{\"temp\":283.735,\"temp_min\":283.735,\"temp_max\":283.735,\"pressure\":1010.863,\"sea_level\":1010.863,\"grnd_level\":990.762,\"humidity\":100,\"temp_kf\":0},\"weather\":[{\"id\":802,\"main\":\"Clouds\",\"description\":\"scattered clouds\",\"icon\":\"03d\"}],\"clouds\":{\"all\":49},\"wind\":{\"speed\":4.19,\"deg\":229.135},\"sys\":{\"pod\":\"d\"},\"dt_txt\":\"2019-03-31 14:00:00\"},{\"dt\":1554044400,\"main\":{\"temp\":282.8,\"temp_min\":282.8,\"temp_max\":282.8,\"pressure\":1010.924,\"sea_level\":1010.924,\"grnd_level\":990.638,\"humidity\":100,\"temp_kf\":0},\"weather\":[{\"id\":802,\"main\":\"Clouds\",\"description\":\"scattered clouds\",\"icon\":\"03d\"}],\"clouds\":{\"all\":50},\"wind\":{\"speed\":3.63,\"deg\":216.715},\"sys\":{\"pod\":\"d\"},\"dt_txt\":\"2019-03-31 15:00:00\"},{\"dt\":1554048000,\"main\":{\"temp\":282.095,\"temp_min\":282.095,\"temp_max\":282.095,\"pressure\":1011.143,\"sea_level\":1011.143,\"grnd_level\":990.871,\"humidity\":100,\"temp_kf\":0},\"weather\":[{\"id\":500,\"main\":\"Rain\",\"description\":\"light rain\",\"icon\":\"10d\"}],\"clouds\":{\"all\":61},\"wind\":{\"speed\":4.29,\"deg\":221.046},\"rain\":{\"1h\":0.063},\"sys\":{\"pod\":\"d\"},\"dt_txt\":\"2019-03-31 16:00:00\"},{\"dt\":1554051600,\"main\":{\"temp\":281.5,\"temp_min\":281.5,\"temp_max\":281.5,\"pressure\":1011.332,\"sea_level\":1011.332,\"grnd_level\":991.048,\"humidity\":100,\"temp_kf\":0},\"weather\":[{\"id\":803,\"main\":\"Clouds\",\"description\":\"broken clouds\",\"icon\":\"04n\"}],\"clouds\":{\"all\":63},\"wind\":{\"speed\":4.61,\"deg\":226.055},\"rain\":{},\"sys\":{\"pod\":\"n\"},\"dt_txt\":\"2019-03-31 17:00:00\"}],\"city\":{\"id\":524901,\"name\":\"Moscow\",\"coord\":{\"lat\":55.7522,\"lon\":37.6156},\"country\":\"RU\"}}'"
      ]
     },
     "execution_count": 42,
     "metadata": {},
     "output_type": "execute_result"
    }
   ],
   "source": [
    "response.text"
   ]
  },
  {
   "cell_type": "code",
   "execution_count": null,
   "metadata": {},
   "outputs": [],
   "source": []
  },
  {
   "cell_type": "code",
   "execution_count": 45,
   "metadata": {},
   "outputs": [],
   "source": [
    "data_dict = json.loads(response.text)"
   ]
  },
  {
   "cell_type": "code",
   "execution_count": 49,
   "metadata": {},
   "outputs": [],
   "source": [
    "def oprint(a, b, c, greet=\"hi\"):\n",
    "    print(greet)\n",
    "    print(a)\n",
    "    print(b)\n",
    "    print(c)\n",
    "    "
   ]
  },
  {
   "cell_type": "code",
   "execution_count": 57,
   "metadata": {},
   "outputs": [
    {
     "name": "stdout",
     "output_type": "stream",
     "text": [
      "hi\n",
      "12\n",
      "1\n",
      "2\n"
     ]
    }
   ],
   "source": [
    "oprint(12, b=1, c=2)"
   ]
  },
  {
   "cell_type": "code",
   "execution_count": null,
   "metadata": {},
   "outputs": [],
   "source": [
    "pd.DataFrame()"
   ]
  },
  {
   "cell_type": "code",
   "execution_count": 48,
   "metadata": {},
   "outputs": [
    {
     "name": "stdout",
     "output_type": "stream",
     "text": [
      "{'city': {'coord': {'lat': 55.7522, 'lon': 37.6156},\n",
      "          'country': 'RU',\n",
      "          'id': 524901,\n",
      "          'name': 'Moscow'},\n",
      " 'cnt': 96,\n",
      " 'cod': '200',\n",
      " 'list': [{'clouds': {'all': 60},\n",
      "           'dt': 1553709600,\n",
      "           'dt_txt': '2019-03-27 18:00:00',\n",
      "           'main': {'grnd_level': 997.153,\n",
      "                    'humidity': 100,\n",
      "                    'pressure': 1018.01,\n",
      "                    'sea_level': 1018.01,\n",
      "                    'temp': 272.09,\n",
      "                    'temp_kf': 0.73,\n",
      "                    'temp_max': 272.09,\n",
      "                    'temp_min': 271.358},\n",
      "           'sys': {'pod': 'n'},\n",
      "           'weather': [{'description': 'broken clouds',\n",
      "                        'icon': '04n',\n",
      "                        'id': 803,\n",
      "                        'main': 'Clouds'}],\n",
      "           'wind': {'deg': 287.822, 'speed': 3.25}},\n",
      "          {'clouds': {'all': 2},\n",
      "           'dt': 1553713200,\n",
      "           'dt_txt': '2019-03-27 19:00:00',\n",
      "           'main': {'grnd_level': 997.403,\n",
      "                    'humidity': 100,\n",
      "                    'pressure': 1018.335,\n",
      "                    'sea_level': 1018.335,\n",
      "                    'temp': 271.59,\n",
      "                    'temp_kf': 0.49,\n",
      "                    'temp_max': 271.59,\n",
      "                    'temp_min': 271.1},\n",
      "           'sys': {'pod': 'n'},\n",
      "           'weather': [{'description': 'clear sky',\n",
      "                        'icon': '02n',\n",
      "                        'id': 800,\n",
      "                        'main': 'Clear'}],\n",
      "           'wind': {'deg': 294.075, 'speed': 3.4}},\n",
      "          {'clouds': {'all': 1},\n",
      "           'dt': 1553716800,\n",
      "           'dt_txt': '2019-03-27 20:00:00',\n",
      "           'main': {'grnd_level': 997.864,\n",
      "                    'humidity': 100,\n",
      "                    'pressure': 1018.794,\n",
      "                    'sea_level': 1018.794,\n",
      "                    'temp': 271.15,\n",
      "                    'temp_kf': 0.24,\n",
      "                    'temp_max': 271.15,\n",
      "                    'temp_min': 270.907},\n",
      "           'sys': {'pod': 'n'},\n",
      "           'weather': [{'description': 'clear sky',\n",
      "                        'icon': '01n',\n",
      "                        'id': 800,\n",
      "                        'main': 'Clear'}],\n",
      "           'wind': {'deg': 300.189, 'speed': 3.47}},\n",
      "          {'clouds': {'all': 1},\n",
      "           'dt': 1553720400,\n",
      "           'dt_txt': '2019-03-27 21:00:00',\n",
      "           'main': {'grnd_level': 998.29,\n",
      "                    'humidity': 100,\n",
      "                    'pressure': 1019.211,\n",
      "                    'sea_level': 1019.211,\n",
      "                    'temp': 270.722,\n",
      "                    'temp_kf': 0,\n",
      "                    'temp_max': 270.722,\n",
      "                    'temp_min': 270.722},\n",
      "           'sys': {'pod': 'n'},\n",
      "           'weather': [{'description': 'clear sky',\n",
      "                        'icon': '01n',\n",
      "                        'id': 800,\n",
      "                        'main': 'Clear'}],\n",
      "           'wind': {'deg': 305.558, 'speed': 3.55}},\n",
      "          {'clouds': {'all': 1},\n",
      "           'dt': 1553724000,\n",
      "           'dt_txt': '2019-03-27 22:00:00',\n",
      "           'main': {'grnd_level': 998.674,\n",
      "                    'humidity': 100,\n",
      "                    'pressure': 1019.58,\n",
      "                    'sea_level': 1019.58,\n",
      "                    'temp': 270.63,\n",
      "                    'temp_kf': 0,\n",
      "                    'temp_max': 270.63,\n",
      "                    'temp_min': 270.63},\n",
      "           'sys': {'pod': 'n'},\n",
      "           'weather': [{'description': 'clear sky',\n",
      "                        'icon': '01n',\n",
      "                        'id': 800,\n",
      "                        'main': 'Clear'}],\n",
      "           'wind': {'deg': 309.126, 'speed': 3.59}},\n",
      "          {'clouds': {'all': 0},\n",
      "           'dt': 1553727600,\n",
      "           'dt_txt': '2019-03-27 23:00:00',\n",
      "           'main': {'grnd_level': 998.886,\n",
      "                    'humidity': 100,\n",
      "                    'pressure': 1019.849,\n",
      "                    'sea_level': 1019.849,\n",
      "                    'temp': 270.421,\n",
      "                    'temp_kf': 0,\n",
      "                    'temp_max': 270.421,\n",
      "                    'temp_min': 270.421},\n",
      "           'sys': {'pod': 'n'},\n",
      "           'weather': [{'description': 'clear sky',\n",
      "                        'icon': '01n',\n",
      "                        'id': 800,\n",
      "                        'main': 'Clear'}],\n",
      "           'wind': {'deg': 307.204, 'speed': 3.67}},\n",
      "          {'clouds': {'all': 7},\n",
      "           'dt': 1553731200,\n",
      "           'dt_txt': '2019-03-28 00:00:00',\n",
      "           'main': {'grnd_level': 998.983,\n",
      "                    'humidity': 100,\n",
      "                    'pressure': 1020.021,\n",
      "                    'sea_level': 1020.021,\n",
      "                    'temp': 270.201,\n",
      "                    'temp_kf': 0,\n",
      "                    'temp_max': 270.201,\n",
      "                    'temp_min': 270.201},\n",
      "           'sys': {'pod': 'n'},\n",
      "           'weather': [{'description': 'clear sky',\n",
      "                        'icon': '02n',\n",
      "                        'id': 800,\n",
      "                        'main': 'Clear'}],\n",
      "           'wind': {'deg': 304.735, 'speed': 3.94}},\n",
      "          {'clouds': {'all': 66},\n",
      "           'dt': 1553734800,\n",
      "           'dt_txt': '2019-03-28 01:00:00',\n",
      "           'main': {'grnd_level': 999.091,\n",
      "                    'humidity': 100,\n",
      "                    'pressure': 1020.24,\n",
      "                    'sea_level': 1020.24,\n",
      "                    'temp': 269.942,\n",
      "                    'temp_kf': 0,\n",
      "                    'temp_max': 269.942,\n",
      "                    'temp_min': 269.942},\n",
      "           'sys': {'pod': 'n'},\n",
      "           'weather': [{'description': 'broken clouds',\n",
      "                        'icon': '04n',\n",
      "                        'id': 803,\n",
      "                        'main': 'Clouds'}],\n",
      "           'wind': {'deg': 306.38, 'speed': 4.24}},\n",
      "          {'clouds': {'all': 67},\n",
      "           'dt': 1553738400,\n",
      "           'dt_txt': '2019-03-28 02:00:00',\n",
      "           'main': {'grnd_level': 999.451,\n",
      "                    'humidity': 100,\n",
      "                    'pressure': 1020.634,\n",
      "                    'sea_level': 1020.634,\n",
      "                    'temp': 269.768,\n",
      "                    'temp_kf': 0,\n",
      "                    'temp_max': 269.768,\n",
      "                    'temp_min': 269.768},\n",
      "           'sys': {'pod': 'n'},\n",
      "           'weather': [{'description': 'broken clouds',\n",
      "                        'icon': '04n',\n",
      "                        'id': 803,\n",
      "                        'main': 'Clouds'}],\n",
      "           'wind': {'deg': 313.941, 'speed': 4.63}},\n",
      "          {'clouds': {'all': 78},\n",
      "           'dt': 1553742000,\n",
      "           'dt_txt': '2019-03-28 03:00:00',\n",
      "           'main': {'grnd_level': 1000.078,\n",
      "                    'humidity': 100,\n",
      "                    'pressure': 1021.2,\n",
      "                    'sea_level': 1021.2,\n",
      "                    'temp': 270.054,\n",
      "                    'temp_kf': 0,\n",
      "                    'temp_max': 270.054,\n",
      "                    'temp_min': 270.054},\n",
      "           'sys': {'pod': 'n'},\n",
      "           'weather': [{'description': 'broken clouds',\n",
      "                        'icon': '04n',\n",
      "                        'id': 803,\n",
      "                        'main': 'Clouds'}],\n",
      "           'wind': {'deg': 323.001, 'speed': 5.05}},\n",
      "          {'clouds': {'all': 83},\n",
      "           'dt': 1553745600,\n",
      "           'dt_txt': '2019-03-28 04:00:00',\n",
      "           'main': {'grnd_level': 1000.825,\n",
      "                    'humidity': 100,\n",
      "                    'pressure': 1021.887,\n",
      "                    'sea_level': 1021.887,\n",
      "                    'temp': 270.255,\n",
      "                    'temp_kf': 0,\n",
      "                    'temp_max': 270.255,\n",
      "                    'temp_min': 270.255},\n",
      "           'sys': {'pod': 'd'},\n",
      "           'weather': [{'description': 'broken clouds',\n",
      "                        'icon': '04d',\n",
      "                        'id': 803,\n",
      "                        'main': 'Clouds'}],\n",
      "           'wind': {'deg': 325.587, 'speed': 4.77}},\n",
      "          {'clouds': {'all': 86},\n",
      "           'dt': 1553749200,\n",
      "           'dt_txt': '2019-03-28 05:00:00',\n",
      "           'main': {'grnd_level': 1001.249,\n",
      "                    'humidity': 100,\n",
      "                    'pressure': 1022.26,\n",
      "                    'sea_level': 1022.26,\n",
      "                    'temp': 270.544,\n",
      "                    'temp_kf': 0,\n",
      "                    'temp_max': 270.544,\n",
      "                    'temp_min': 270.544},\n",
      "           'sys': {'pod': 'd'},\n",
      "           'weather': [{'description': 'overcast clouds',\n",
      "                        'icon': '04d',\n",
      "                        'id': 804,\n",
      "                        'main': 'Clouds'}],\n",
      "           'wind': {'deg': 325.37, 'speed': 4.6}},\n",
      "          {'clouds': {'all': 86},\n",
      "           'dt': 1553752800,\n",
      "           'dt_txt': '2019-03-28 06:00:00',\n",
      "           'main': {'grnd_level': 1001.705,\n",
      "                    'humidity': 100,\n",
      "                    'pressure': 1022.629,\n",
      "                    'sea_level': 1022.629,\n",
      "                    'temp': 270.867,\n",
      "                    'temp_kf': 0,\n",
      "                    'temp_max': 270.867,\n",
      "                    'temp_min': 270.867},\n",
      "           'sys': {'pod': 'd'},\n",
      "           'weather': [{'description': 'overcast clouds',\n",
      "                        'icon': '04d',\n",
      "                        'id': 804,\n",
      "                        'main': 'Clouds'}],\n",
      "           'wind': {'deg': 327.239, 'speed': 4.72}},\n",
      "          {'clouds': {'all': 96},\n",
      "           'dt': 1553756400,\n",
      "           'dt_txt': '2019-03-28 07:00:00',\n",
      "           'main': {'grnd_level': 1002.215,\n",
      "                    'humidity': 100,\n",
      "                    'pressure': 1023.002,\n",
      "                    'sea_level': 1023.002,\n",
      "                    'temp': 271.3,\n",
      "                    'temp_kf': 0,\n",
      "                    'temp_max': 271.3,\n",
      "                    'temp_min': 271.3},\n",
      "           'sys': {'pod': 'd'},\n",
      "           'weather': [{'description': 'overcast clouds',\n",
      "                        'icon': '04d',\n",
      "                        'id': 804,\n",
      "                        'main': 'Clouds'}],\n",
      "           'wind': {'deg': 329.474, 'speed': 4.78}},\n",
      "          {'clouds': {'all': 95},\n",
      "           'dt': 1553760000,\n",
      "           'dt_txt': '2019-03-28 08:00:00',\n",
      "           'main': {'grnd_level': 1002.643,\n",
      "                    'humidity': 100,\n",
      "                    'pressure': 1023.327,\n",
      "                    'sea_level': 1023.327,\n",
      "                    'temp': 271.8,\n",
      "                    'temp_kf': 0,\n",
      "                    'temp_max': 271.8,\n",
      "                    'temp_min': 271.8},\n",
      "           'sys': {'pod': 'd'},\n",
      "           'weather': [{'description': 'overcast clouds',\n",
      "                        'icon': '04d',\n",
      "                        'id': 804,\n",
      "                        'main': 'Clouds'}],\n",
      "           'wind': {'deg': 331.284, 'speed': 4.79}},\n",
      "          {'clouds': {'all': 94},\n",
      "           'dt': 1553763600,\n",
      "           'dt_txt': '2019-03-28 09:00:00',\n",
      "           'main': {'grnd_level': 1002.861,\n",
      "                    'humidity': 100,\n",
      "                    'pressure': 1023.522,\n",
      "                    'sea_level': 1023.522,\n",
      "                    'temp': 272.6,\n",
      "                    'temp_kf': 0,\n",
      "                    'temp_max': 272.6,\n",
      "                    'temp_min': 272.6},\n",
      "           'sys': {'pod': 'd'},\n",
      "           'weather': [{'description': 'overcast clouds',\n",
      "                        'icon': '04d',\n",
      "                        'id': 804,\n",
      "                        'main': 'Clouds'}],\n",
      "           'wind': {'deg': 331.928, 'speed': 4.85}},\n",
      "          {'clouds': {'all': 94},\n",
      "           'dt': 1553767200,\n",
      "           'dt_txt': '2019-03-28 10:00:00',\n",
      "           'main': {'grnd_level': 1002.923,\n",
      "                    'humidity': 100,\n",
      "                    'pressure': 1023.577,\n",
      "                    'sea_level': 1023.577,\n",
      "                    'temp': 273.2,\n",
      "                    'temp_kf': 0,\n",
      "                    'temp_max': 273.2,\n",
      "                    'temp_min': 273.2},\n",
      "           'sys': {'pod': 'd'},\n",
      "           'weather': [{'description': 'overcast clouds',\n",
      "                        'icon': '04d',\n",
      "                        'id': 804,\n",
      "                        'main': 'Clouds'}],\n",
      "           'wind': {'deg': 332.483, 'speed': 4.79}},\n",
      "          {'clouds': {'all': 94},\n",
      "           'dt': 1553770800,\n",
      "           'dt_txt': '2019-03-28 11:00:00',\n",
      "           'main': {'grnd_level': 1002.905,\n",
      "                    'humidity': 100,\n",
      "                    'pressure': 1023.539,\n",
      "                    'sea_level': 1023.539,\n",
      "                    'temp': 273.733,\n",
      "                    'temp_kf': 0,\n",
      "                    'temp_max': 273.733,\n",
      "                    'temp_min': 273.733},\n",
      "           'sys': {'pod': 'd'},\n",
      "           'weather': [{'description': 'overcast clouds',\n",
      "                        'icon': '04d',\n",
      "                        'id': 804,\n",
      "                        'main': 'Clouds'}],\n",
      "           'wind': {'deg': 332.007, 'speed': 4.74}},\n",
      "          {'clouds': {'all': 94},\n",
      "           'dt': 1553774400,\n",
      "           'dt_txt': '2019-03-28 12:00:00',\n",
      "           'main': {'grnd_level': 1002.827,\n",
      "                    'humidity': 100,\n",
      "                    'pressure': 1023.439,\n",
      "                    'sea_level': 1023.439,\n",
      "                    'temp': 274.088,\n",
      "                    'temp_kf': 0,\n",
      "                    'temp_max': 274.088,\n",
      "                    'temp_min': 274.088},\n",
      "           'sys': {'pod': 'd'},\n",
      "           'weather': [{'description': 'overcast clouds',\n",
      "                        'icon': '04d',\n",
      "                        'id': 804,\n",
      "                        'main': 'Clouds'}],\n",
      "           'wind': {'deg': 330.692, 'speed': 4.67}},\n",
      "          {'clouds': {'all': 85},\n",
      "           'dt': 1553778000,\n",
      "           'dt_txt': '2019-03-28 13:00:00',\n",
      "           'main': {'grnd_level': 1002.794,\n",
      "                    'humidity': 100,\n",
      "                    'pressure': 1023.462,\n",
      "                    'sea_level': 1023.462,\n",
      "                    'temp': 274.3,\n",
      "                    'temp_kf': 0,\n",
      "                    'temp_max': 274.3,\n",
      "                    'temp_min': 274.3},\n",
      "           'sys': {'pod': 'd'},\n",
      "           'weather': [{'description': 'overcast clouds',\n",
      "                        'icon': '04d',\n",
      "                        'id': 804,\n",
      "                        'main': 'Clouds'}],\n",
      "           'wind': {'deg': 330.72, 'speed': 4.34}},\n",
      "          {'clouds': {'all': 65},\n",
      "           'dt': 1553781600,\n",
      "           'dt_txt': '2019-03-28 14:00:00',\n",
      "           'main': {'grnd_level': 1002.933,\n",
      "                    'humidity': 100,\n",
      "                    'pressure': 1023.597,\n",
      "                    'sea_level': 1023.597,\n",
      "                    'temp': 274.221,\n",
      "                    'temp_kf': 0,\n",
      "                    'temp_max': 274.221,\n",
      "                    'temp_min': 274.221},\n",
      "           'sys': {'pod': 'd'},\n",
      "           'weather': [{'description': 'broken clouds',\n",
      "                        'icon': '04d',\n",
      "                        'id': 803,\n",
      "                        'main': 'Clouds'}],\n",
      "           'wind': {'deg': 328.604, 'speed': 3.85}},\n",
      "          {'clouds': {'all': 74},\n",
      "           'dt': 1553785200,\n",
      "           'dt_txt': '2019-03-28 15:00:00',\n",
      "           'main': {'grnd_level': 1003.062,\n",
      "                    'humidity': 100,\n",
      "                    'pressure': 1023.736,\n",
      "                    'sea_level': 1023.736,\n",
      "                    'temp': 273.5,\n",
      "                    'temp_kf': 0,\n",
      "                    'temp_max': 273.5,\n",
      "                    'temp_min': 273.5},\n",
      "           'sys': {'pod': 'd'},\n",
      "           'weather': [{'description': 'broken clouds',\n",
      "                        'icon': '04d',\n",
      "                        'id': 803,\n",
      "                        'main': 'Clouds'}],\n",
      "           'wind': {'deg': 320.741, 'speed': 2.52}},\n",
      "          {'clouds': {'all': 57},\n",
      "           'dt': 1553788800,\n",
      "           'dt_txt': '2019-03-28 16:00:00',\n",
      "           'main': {'grnd_level': 1003.222,\n",
      "                    'humidity': 100,\n",
      "                    'pressure': 1023.865,\n",
      "                    'sea_level': 1023.865,\n",
      "                    'temp': 272.231,\n",
      "                    'temp_kf': 0,\n",
      "                    'temp_max': 272.231,\n",
      "                    'temp_min': 272.231},\n",
      "           'sys': {'pod': 'n'},\n",
      "           'weather': [{'description': 'broken clouds',\n",
      "                        'icon': '04n',\n",
      "                        'id': 803,\n",
      "                        'main': 'Clouds'}],\n",
      "           'wind': {'deg': 311.882, 'speed': 2.22}},\n",
      "          {'clouds': {'all': 57},\n",
      "           'dt': 1553792400,\n",
      "           'dt_txt': '2019-03-28 17:00:00',\n",
      "           'main': {'grnd_level': 1003.379,\n",
      "                    'humidity': 100,\n",
      "                    'pressure': 1024.036,\n",
      "                    'sea_level': 1024.036,\n",
      "                    'temp': 271.795,\n",
      "                    'temp_kf': 0,\n",
      "                    'temp_max': 271.795,\n",
      "                    'temp_min': 271.795},\n",
      "           'sys': {'pod': 'n'},\n",
      "           'weather': [{'description': 'broken clouds',\n",
      "                        'icon': '04n',\n",
      "                        'id': 803,\n",
      "                        'main': 'Clouds'}],\n",
      "           'wind': {'deg': 304.168, 'speed': 2.03}},\n",
      "          {'clouds': {'all': 63},\n",
      "           'dt': 1553796000,\n",
      "           'dt_txt': '2019-03-28 18:00:00',\n",
      "           'main': {'grnd_level': 1003.468,\n",
      "                    'humidity': 100,\n",
      "                    'pressure': 1024.147,\n",
      "                    'sea_level': 1024.147,\n",
      "                    'temp': 271.649,\n",
      "                    'temp_kf': 0,\n",
      "                    'temp_max': 271.649,\n",
      "                    'temp_min': 271.649},\n",
      "           'sys': {'pod': 'n'},\n",
      "           'weather': [{'description': 'broken clouds',\n",
      "                        'icon': '04n',\n",
      "                        'id': 803,\n",
      "                        'main': 'Clouds'}],\n",
      "           'wind': {'deg': 296.025, 'speed': 1.99}},\n",
      "          {'clouds': {'all': 100},\n",
      "           'dt': 1553799600,\n",
      "           'dt_txt': '2019-03-28 19:00:00',\n",
      "           'main': {'grnd_level': 1003.522,\n",
      "                    'humidity': 100,\n",
      "                    'pressure': 1024.107,\n",
      "                    'sea_level': 1024.107,\n",
      "                    'temp': 271.7,\n",
      "                    'temp_kf': 0,\n",
      "                    'temp_max': 271.7,\n",
      "                    'temp_min': 271.7},\n",
      "           'sys': {'pod': 'n'},\n",
      "           'weather': [{'description': 'overcast clouds',\n",
      "                        'icon': '04n',\n",
      "                        'id': 804,\n",
      "                        'main': 'Clouds'}],\n",
      "           'wind': {'deg': 289.63, 'speed': 2.23}},\n",
      "          {'clouds': {'all': 100},\n",
      "           'dt': 1553803200,\n",
      "           'dt_txt': '2019-03-28 20:00:00',\n",
      "           'main': {'grnd_level': 1003.246,\n",
      "                    'humidity': 100,\n",
      "                    'pressure': 1023.891,\n",
      "                    'sea_level': 1023.891,\n",
      "                    'temp': 271.9,\n",
      "                    'temp_kf': 0,\n",
      "                    'temp_max': 271.9,\n",
      "                    'temp_min': 271.9},\n",
      "           'sys': {'pod': 'n'},\n",
      "           'weather': [{'description': 'overcast clouds',\n",
      "                        'icon': '04n',\n",
      "                        'id': 804,\n",
      "                        'main': 'Clouds'}],\n",
      "           'wind': {'deg': 281.821, 'speed': 2.2}},\n",
      "          {'clouds': {'all': 100},\n",
      "           'dt': 1553806800,\n",
      "           'dt_txt': '2019-03-28 21:00:00',\n",
      "           'main': {'grnd_level': 1003.012,\n",
      "                    'humidity': 100,\n",
      "                    'pressure': 1023.761,\n",
      "                    'sea_level': 1023.761,\n",
      "                    'temp': 271.974,\n",
      "                    'temp_kf': 0,\n",
      "                    'temp_max': 271.974,\n",
      "                    'temp_min': 271.974},\n",
      "           'sys': {'pod': 'n'},\n",
      "           'weather': [{'description': 'overcast clouds',\n",
      "                        'icon': '04n',\n",
      "                        'id': 804,\n",
      "                        'main': 'Clouds'}],\n",
      "           'wind': {'deg': 274.927, 'speed': 2.15}},\n",
      "          {'clouds': {'all': 100},\n",
      "           'dt': 1553810400,\n",
      "           'dt_txt': '2019-03-28 22:00:00',\n",
      "           'main': {'grnd_level': 1003.014,\n",
      "                    'humidity': 100,\n",
      "                    'pressure': 1023.737,\n",
      "                    'sea_level': 1023.737,\n",
      "                    'temp': 272.326,\n",
      "                    'temp_kf': 0,\n",
      "                    'temp_max': 272.326,\n",
      "                    'temp_min': 272.326},\n",
      "           'snow': {'1h': 0.063},\n",
      "           'sys': {'pod': 'n'},\n",
      "           'weather': [{'description': 'light snow',\n",
      "                        'icon': '13n',\n",
      "                        'id': 600,\n",
      "                        'main': 'Snow'}],\n",
      "           'wind': {'deg': 277.655, 'speed': 2.25}},\n",
      "          {'clouds': {'all': 100},\n",
      "           'dt': 1553814000,\n",
      "           'dt_txt': '2019-03-28 23:00:00',\n",
      "           'main': {'grnd_level': 1002.701,\n",
      "                    'humidity': 100,\n",
      "                    'pressure': 1023.548,\n",
      "                    'sea_level': 1023.548,\n",
      "                    'temp': 272.3,\n",
      "                    'temp_kf': 0,\n",
      "                    'temp_max': 272.3,\n",
      "                    'temp_min': 272.3},\n",
      "           'snow': {},\n",
      "           'sys': {'pod': 'n'},\n",
      "           'weather': [{'description': 'overcast clouds',\n",
      "                        'icon': '04n',\n",
      "                        'id': 804,\n",
      "                        'main': 'Clouds'}],\n",
      "           'wind': {'deg': 273.617, 'speed': 2.2}},\n",
      "          {'clouds': {'all': 100},\n",
      "           'dt': 1553817600,\n",
      "           'dt_txt': '2019-03-29 00:00:00',\n",
      "           'main': {'grnd_level': 1002.39,\n",
      "                    'humidity': 100,\n",
      "                    'pressure': 1023.206,\n",
      "                    'sea_level': 1023.206,\n",
      "                    'temp': 271.7,\n",
      "                    'temp_kf': 0,\n",
      "                    'temp_max': 271.7,\n",
      "                    'temp_min': 271.7},\n",
      "           'snow': {},\n",
      "           'sys': {'pod': 'n'},\n",
      "           'weather': [{'description': 'overcast clouds',\n",
      "                        'icon': '04n',\n",
      "                        'id': 804,\n",
      "                        'main': 'Clouds'}],\n",
      "           'wind': {'deg': 276.773, 'speed': 2.28}},\n",
      "          {'clouds': {'all': 100},\n",
      "           'dt': 1553821200,\n",
      "           'dt_txt': '2019-03-29 01:00:00',\n",
      "           'main': {'grnd_level': 1002.104,\n",
      "                    'humidity': 100,\n",
      "                    'pressure': 1022.834,\n",
      "                    'sea_level': 1022.834,\n",
      "                    'temp': 271.9,\n",
      "                    'temp_kf': 0,\n",
      "                    'temp_max': 271.9,\n",
      "                    'temp_min': 271.9},\n",
      "           'sys': {'pod': 'n'},\n",
      "           'weather': [{'description': 'overcast clouds',\n",
      "                        'icon': '04n',\n",
      "                        'id': 804,\n",
      "                        'main': 'Clouds'}],\n",
      "           'wind': {'deg': 282.503, 'speed': 2.18}},\n",
      "          {'clouds': {'all': 100},\n",
      "           'dt': 1553824800,\n",
      "           'dt_txt': '2019-03-29 02:00:00',\n",
      "           'main': {'grnd_level': 1001.799,\n",
      "                    'humidity': 100,\n",
      "                    'pressure': 1022.495,\n",
      "                    'sea_level': 1022.495,\n",
      "                    'temp': 271.939,\n",
      "                    'temp_kf': 0,\n",
      "                    'temp_max': 271.939,\n",
      "                    'temp_min': 271.939},\n",
      "           'sys': {'pod': 'n'},\n",
      "           'weather': [{'description': 'overcast clouds',\n",
      "                        'icon': '04n',\n",
      "                        'id': 804,\n",
      "                        'main': 'Clouds'}],\n",
      "           'wind': {'deg': 276.512, 'speed': 1.98}},\n",
      "          {'clouds': {'all': 100},\n",
      "           'dt': 1553828400,\n",
      "           'dt_txt': '2019-03-29 03:00:00',\n",
      "           'main': {'grnd_level': 1001.596,\n",
      "                    'humidity': 100,\n",
      "                    'pressure': 1022.26,\n",
      "                    'sea_level': 1022.26,\n",
      "                    'temp': 271.765,\n",
      "                    'temp_kf': 0,\n",
      "                    'temp_max': 271.765,\n",
      "                    'temp_min': 271.765},\n",
      "           'sys': {'pod': 'n'},\n",
      "           'weather': [{'description': 'overcast clouds',\n",
      "                        'icon': '04n',\n",
      "                        'id': 804,\n",
      "                        'main': 'Clouds'}],\n",
      "           'wind': {'deg': 268.702, 'speed': 1.94}},\n",
      "          {'clouds': {'all': 100},\n",
      "           'dt': 1553832000,\n",
      "           'dt_txt': '2019-03-29 04:00:00',\n",
      "           'main': {'grnd_level': 1001.44,\n",
      "                    'humidity': 100,\n",
      "                    'pressure': 1022.008,\n",
      "                    'sea_level': 1022.008,\n",
      "                    'temp': 272.078,\n",
      "                    'temp_kf': 0,\n",
      "                    'temp_max': 272.078,\n",
      "                    'temp_min': 272.078},\n",
      "           'sys': {'pod': 'd'},\n",
      "           'weather': [{'description': 'overcast clouds',\n",
      "                        'icon': '04d',\n",
      "                        'id': 804,\n",
      "                        'main': 'Clouds'}],\n",
      "           'wind': {'deg': 265.156, 'speed': 2.08}},\n",
      "          {'clouds': {'all': 100},\n",
      "           'dt': 1553835600,\n",
      "           'dt_txt': '2019-03-29 05:00:00',\n",
      "           'main': {'grnd_level': 1001.251,\n",
      "                    'humidity': 100,\n",
      "                    'pressure': 1021.719,\n",
      "                    'sea_level': 1021.719,\n",
      "                    'temp': 272.882,\n",
      "                    'temp_kf': 0,\n",
      "                    'temp_max': 272.882,\n",
      "                    'temp_min': 272.882},\n",
      "           'sys': {'pod': 'd'},\n",
      "           'weather': [{'description': 'overcast clouds',\n",
      "                        'icon': '04d',\n",
      "                        'id': 804,\n",
      "                        'main': 'Clouds'}],\n",
      "           'wind': {'deg': 263.445, 'speed': 2.3}},\n",
      "          {'clouds': {'all': 100},\n",
      "           'dt': 1553839200,\n",
      "           'dt_txt': '2019-03-29 06:00:00',\n",
      "           'main': {'grnd_level': 1001.049,\n",
      "                    'humidity': 100,\n",
      "                    'pressure': 1021.434,\n",
      "                    'sea_level': 1021.434,\n",
      "                    'temp': 273.525,\n",
      "                    'temp_kf': 0,\n",
      "                    'temp_max': 273.525,\n",
      "                    'temp_min': 273.525},\n",
      "           'sys': {'pod': 'd'},\n",
      "           'weather': [{'description': 'overcast clouds',\n",
      "                        'icon': '04d',\n",
      "                        'id': 804,\n",
      "                        'main': 'Clouds'}],\n",
      "           'wind': {'deg': 257.458, 'speed': 2.31}},\n",
      "          {'clouds': {'all': 100},\n",
      "           'dt': 1553842800,\n",
      "           'dt_txt': '2019-03-29 07:00:00',\n",
      "           'main': {'grnd_level': 1000.808,\n",
      "                    'humidity': 100,\n",
      "                    'pressure': 1021.167,\n",
      "                    'sea_level': 1021.167,\n",
      "                    'temp': 274,\n",
      "                    'temp_kf': 0,\n",
      "                    'temp_max': 274,\n",
      "                    'temp_min': 274},\n",
      "           'snow': {'1h': 0.125},\n",
      "           'sys': {'pod': 'd'},\n",
      "           'weather': [{'description': 'light snow',\n",
      "                        'icon': '13d',\n",
      "                        'id': 600,\n",
      "                        'main': 'Snow'}],\n",
      "           'wind': {'deg': 246.007, 'speed': 2.25}},\n",
      "          {'clouds': {'all': 100},\n",
      "           'dt': 1553846400,\n",
      "           'dt_txt': '2019-03-29 08:00:00',\n",
      "           'main': {'grnd_level': 1000.485,\n",
      "                    'humidity': 100,\n",
      "                    'pressure': 1020.836,\n",
      "                    'sea_level': 1020.836,\n",
      "                    'temp': 274.474,\n",
      "                    'temp_kf': 0,\n",
      "                    'temp_max': 274.474,\n",
      "                    'temp_min': 274.474},\n",
      "           'snow': {'1h': 0.125},\n",
      "           'sys': {'pod': 'd'},\n",
      "           'weather': [{'description': 'light snow',\n",
      "                        'icon': '13d',\n",
      "                        'id': 600,\n",
      "                        'main': 'Snow'}],\n",
      "           'wind': {'deg': 240.812, 'speed': 2.42}},\n",
      "          {'clouds': {'all': 99},\n",
      "           'dt': 1553850000,\n",
      "           'dt_txt': '2019-03-29 09:00:00',\n",
      "           'main': {'grnd_level': 1000.151,\n",
      "                    'humidity': 100,\n",
      "                    'pressure': 1020.481,\n",
      "                    'sea_level': 1020.481,\n",
      "                    'temp': 275.451,\n",
      "                    'temp_kf': 0,\n",
      "                    'temp_max': 275.451,\n",
      "                    'temp_min': 275.451},\n",
      "           'snow': {},\n",
      "           'sys': {'pod': 'd'},\n",
      "           'weather': [{'description': 'overcast clouds',\n",
      "                        'icon': '04d',\n",
      "                        'id': 804,\n",
      "                        'main': 'Clouds'}],\n",
      "           'wind': {'deg': 244.039, 'speed': 2.76}},\n",
      "          {'clouds': {'all': 95},\n",
      "           'dt': 1553853600,\n",
      "           'dt_txt': '2019-03-29 10:00:00',\n",
      "           'main': {'grnd_level': 999.749,\n",
      "                    'humidity': 100,\n",
      "                    'pressure': 1020.127,\n",
      "                    'sea_level': 1020.127,\n",
      "                    'temp': 276.225,\n",
      "                    'temp_kf': 0,\n",
      "                    'temp_max': 276.225,\n",
      "                    'temp_min': 276.225},\n",
      "           'snow': {},\n",
      "           'sys': {'pod': 'd'},\n",
      "           'weather': [{'description': 'overcast clouds',\n",
      "                        'icon': '04d',\n",
      "                        'id': 804,\n",
      "                        'main': 'Clouds'}],\n",
      "           'wind': {'deg': 246.819, 'speed': 2.93}},\n",
      "          {'clouds': {'all': 93},\n",
      "           'dt': 1553857200,\n",
      "           'dt_txt': '2019-03-29 11:00:00',\n",
      "           'main': {'grnd_level': 999.387,\n",
      "                    'humidity': 100,\n",
      "                    'pressure': 1019.752,\n",
      "                    'sea_level': 1019.752,\n",
      "                    'temp': 276.635,\n",
      "                    'temp_kf': 0,\n",
      "                    'temp_max': 276.635,\n",
      "                    'temp_min': 276.635},\n",
      "           'rain': {},\n",
      "           'sys': {'pod': 'd'},\n",
      "           'weather': [{'description': 'overcast clouds',\n",
      "                        'icon': '04d',\n",
      "                        'id': 804,\n",
      "                        'main': 'Clouds'}],\n",
      "           'wind': {'deg': 253.222, 'speed': 2.99}},\n",
      "          {'clouds': {'all': 94},\n",
      "           'dt': 1553860800,\n",
      "           'dt_txt': '2019-03-29 12:00:00',\n",
      "           'main': {'grnd_level': 998.972,\n",
      "                    'humidity': 100,\n",
      "                    'pressure': 1019.321,\n",
      "                    'sea_level': 1019.321,\n",
      "                    'temp': 276.588,\n",
      "                    'temp_kf': 0,\n",
      "                    'temp_max': 276.588,\n",
      "                    'temp_min': 276.588},\n",
      "           'rain': {},\n",
      "           'sys': {'pod': 'd'},\n",
      "           'weather': [{'description': 'overcast clouds',\n",
      "                        'icon': '04d',\n",
      "                        'id': 804,\n",
      "                        'main': 'Clouds'}],\n",
      "           'wind': {'deg': 255.679, 'speed': 2.64}},\n",
      "          {'clouds': {'all': 96},\n",
      "           'dt': 1553864400,\n",
      "           'dt_txt': '2019-03-29 13:00:00',\n",
      "           'main': {'grnd_level': 998.612,\n",
      "                    'humidity': 100,\n",
      "                    'pressure': 1018.913,\n",
      "                    'sea_level': 1018.913,\n",
      "                    'temp': 276.351,\n",
      "                    'temp_kf': 0,\n",
      "                    'temp_max': 276.351,\n",
      "                    'temp_min': 276.351},\n",
      "           'sys': {'pod': 'd'},\n",
      "           'weather': [{'description': 'overcast clouds',\n",
      "                        'icon': '04d',\n",
      "                        'id': 804,\n",
      "                        'main': 'Clouds'}],\n",
      "           'wind': {'deg': 249.394, 'speed': 2.03}},\n",
      "          {'clouds': {'all': 89},\n",
      "           'dt': 1553868000,\n",
      "           'dt_txt': '2019-03-29 14:00:00',\n",
      "           'main': {'grnd_level': 998.222,\n",
      "                    'humidity': 100,\n",
      "                    'pressure': 1018.448,\n",
      "                    'sea_level': 1018.448,\n",
      "                    'temp': 275.845,\n",
      "                    'temp_kf': 0,\n",
      "                    'temp_max': 275.845,\n",
      "                    'temp_min': 275.845},\n",
      "           'sys': {'pod': 'd'},\n",
      "           'weather': [{'description': 'overcast clouds',\n",
      "                        'icon': '04d',\n",
      "                        'id': 804,\n",
      "                        'main': 'Clouds'}],\n",
      "           'wind': {'deg': 241.21, 'speed': 1.96}},\n",
      "          {'clouds': {'all': 89},\n",
      "           'dt': 1553871600,\n",
      "           'dt_txt': '2019-03-29 15:00:00',\n",
      "           'main': {'grnd_level': 998.031,\n",
      "                    'humidity': 100,\n",
      "                    'pressure': 1018.157,\n",
      "                    'sea_level': 1018.157,\n",
      "                    'temp': 275.174,\n",
      "                    'temp_kf': 0,\n",
      "                    'temp_max': 275.174,\n",
      "                    'temp_min': 275.174},\n",
      "           'sys': {'pod': 'd'},\n",
      "           'weather': [{'description': 'overcast clouds',\n",
      "                        'icon': '04d',\n",
      "                        'id': 804,\n",
      "                        'main': 'Clouds'}],\n",
      "           'wind': {'deg': 239.814, 'speed': 2.1}},\n",
      "          {'clouds': {'all': 91},\n",
      "           'dt': 1553875200,\n",
      "           'dt_txt': '2019-03-29 16:00:00',\n",
      "           'main': {'grnd_level': 998.044,\n",
      "                    'humidity': 100,\n",
      "                    'pressure': 1018.082,\n",
      "                    'sea_level': 1018.082,\n",
      "                    'temp': 274.625,\n"
     ]
    },
    {
     "name": "stdout",
     "output_type": "stream",
     "text": [
      "                    'temp_kf': 0,\n",
      "                    'temp_max': 274.625,\n",
      "                    'temp_min': 274.625},\n",
      "           'sys': {'pod': 'd'},\n",
      "           'weather': [{'description': 'overcast clouds',\n",
      "                        'icon': '04d',\n",
      "                        'id': 804,\n",
      "                        'main': 'Clouds'}],\n",
      "           'wind': {'deg': 238.953, 'speed': 2.12}},\n",
      "          {'clouds': {'all': 92},\n",
      "           'dt': 1553878800,\n",
      "           'dt_txt': '2019-03-29 17:00:00',\n",
      "           'main': {'grnd_level': 998.023,\n",
      "                    'humidity': 100,\n",
      "                    'pressure': 1018.174,\n",
      "                    'sea_level': 1018.174,\n",
      "                    'temp': 274.5,\n",
      "                    'temp_kf': 0,\n",
      "                    'temp_max': 274.5,\n",
      "                    'temp_min': 274.5},\n",
      "           'sys': {'pod': 'n'},\n",
      "           'weather': [{'description': 'overcast clouds',\n",
      "                        'icon': '04n',\n",
      "                        'id': 804,\n",
      "                        'main': 'Clouds'}],\n",
      "           'wind': {'deg': 224.759, 'speed': 2.02}},\n",
      "          {'clouds': {'all': 92},\n",
      "           'dt': 1553882400,\n",
      "           'dt_txt': '2019-03-29 18:00:00',\n",
      "           'main': {'grnd_level': 997.801,\n",
      "                    'humidity': 100,\n",
      "                    'pressure': 1018.077,\n",
      "                    'sea_level': 1018.077,\n",
      "                    'temp': 274.545,\n",
      "                    'temp_kf': 0,\n",
      "                    'temp_max': 274.545,\n",
      "                    'temp_min': 274.545},\n",
      "           'sys': {'pod': 'n'},\n",
      "           'weather': [{'description': 'overcast clouds',\n",
      "                        'icon': '04n',\n",
      "                        'id': 804,\n",
      "                        'main': 'Clouds'}],\n",
      "           'wind': {'deg': 210.061, 'speed': 2.11}},\n",
      "          {'clouds': {'all': 95},\n",
      "           'dt': 1553886000,\n",
      "           'dt_txt': '2019-03-29 19:00:00',\n",
      "           'main': {'grnd_level': 997.403,\n",
      "                    'humidity': 100,\n",
      "                    'pressure': 1017.715,\n",
      "                    'sea_level': 1017.715,\n",
      "                    'temp': 274.549,\n",
      "                    'temp_kf': 0,\n",
      "                    'temp_max': 274.549,\n",
      "                    'temp_min': 274.549},\n",
      "           'sys': {'pod': 'n'},\n",
      "           'weather': [{'description': 'overcast clouds',\n",
      "                        'icon': '04n',\n",
      "                        'id': 804,\n",
      "                        'main': 'Clouds'}],\n",
      "           'wind': {'deg': 206.588, 'speed': 2.25}},\n",
      "          {'clouds': {'all': 97},\n",
      "           'dt': 1553889600,\n",
      "           'dt_txt': '2019-03-29 20:00:00',\n",
      "           'main': {'grnd_level': 996.986,\n",
      "                    'humidity': 100,\n",
      "                    'pressure': 1017.301,\n",
      "                    'sea_level': 1017.301,\n",
      "                    'temp': 274.6,\n",
      "                    'temp_kf': 0,\n",
      "                    'temp_max': 274.6,\n",
      "                    'temp_min': 274.6},\n",
      "           'sys': {'pod': 'n'},\n",
      "           'weather': [{'description': 'overcast clouds',\n",
      "                        'icon': '04n',\n",
      "                        'id': 804,\n",
      "                        'main': 'Clouds'}],\n",
      "           'wind': {'deg': 209.522, 'speed': 2.62}},\n",
      "          {'clouds': {'all': 97},\n",
      "           'dt': 1553893200,\n",
      "           'dt_txt': '2019-03-29 21:00:00',\n",
      "           'main': {'grnd_level': 996.589,\n",
      "                    'humidity': 100,\n",
      "                    'pressure': 1016.928,\n",
      "                    'sea_level': 1016.928,\n",
      "                    'temp': 274.464,\n",
      "                    'temp_kf': 0,\n",
      "                    'temp_max': 274.464,\n",
      "                    'temp_min': 274.464},\n",
      "           'sys': {'pod': 'n'},\n",
      "           'weather': [{'description': 'overcast clouds',\n",
      "                        'icon': '04n',\n",
      "                        'id': 804,\n",
      "                        'main': 'Clouds'}],\n",
      "           'wind': {'deg': 210.986, 'speed': 3.11}},\n",
      "          {'clouds': {'all': 94},\n",
      "           'dt': 1553896800,\n",
      "           'dt_txt': '2019-03-29 22:00:00',\n",
      "           'main': {'grnd_level': 996.183,\n",
      "                    'humidity': 100,\n",
      "                    'pressure': 1016.55,\n",
      "                    'sea_level': 1016.55,\n",
      "                    'temp': 273.996,\n",
      "                    'temp_kf': 0,\n",
      "                    'temp_max': 273.996,\n",
      "                    'temp_min': 273.996},\n",
      "           'sys': {'pod': 'n'},\n",
      "           'weather': [{'description': 'overcast clouds',\n",
      "                        'icon': '04n',\n",
      "                        'id': 804,\n",
      "                        'main': 'Clouds'}],\n",
      "           'wind': {'deg': 211.535, 'speed': 3.28}},\n",
      "          {'clouds': {'all': 82},\n",
      "           'dt': 1553900400,\n",
      "           'dt_txt': '2019-03-29 23:00:00',\n",
      "           'main': {'grnd_level': 995.823,\n",
      "                    'humidity': 100,\n",
      "                    'pressure': 1016.137,\n",
      "                    'sea_level': 1016.137,\n",
      "                    'temp': 273.653,\n",
      "                    'temp_kf': 0,\n",
      "                    'temp_max': 273.653,\n",
      "                    'temp_min': 273.653},\n",
      "           'sys': {'pod': 'n'},\n",
      "           'weather': [{'description': 'broken clouds',\n",
      "                        'icon': '04n',\n",
      "                        'id': 803,\n",
      "                        'main': 'Clouds'}],\n",
      "           'wind': {'deg': 213.579, 'speed': 3.29}},\n",
      "          {'clouds': {'all': 68},\n",
      "           'dt': 1553904000,\n",
      "           'dt_txt': '2019-03-30 00:00:00',\n",
      "           'main': {'grnd_level': 995.131,\n",
      "                    'humidity': 100,\n",
      "                    'pressure': 1015.574,\n",
      "                    'sea_level': 1015.574,\n",
      "                    'temp': 273.451,\n",
      "                    'temp_kf': 0,\n",
      "                    'temp_max': 273.451,\n",
      "                    'temp_min': 273.451},\n",
      "           'sys': {'pod': 'n'},\n",
      "           'weather': [{'description': 'broken clouds',\n",
      "                        'icon': '04n',\n",
      "                        'id': 803,\n",
      "                        'main': 'Clouds'}],\n",
      "           'wind': {'deg': 214.711, 'speed': 3.36}},\n",
      "          {'clouds': {'all': 1},\n",
      "           'dt': 1553907600,\n",
      "           'dt_txt': '2019-03-30 01:00:00',\n",
      "           'main': {'grnd_level': 994.618,\n",
      "                    'humidity': 100,\n",
      "                    'pressure': 1015.025,\n",
      "                    'sea_level': 1015.025,\n",
      "                    'temp': 273.35,\n",
      "                    'temp_kf': 0,\n",
      "                    'temp_max': 273.35,\n",
      "                    'temp_min': 273.35},\n",
      "           'sys': {'pod': 'n'},\n",
      "           'weather': [{'description': 'clear sky',\n",
      "                        'icon': '01n',\n",
      "                        'id': 800,\n",
      "                        'main': 'Clear'}],\n",
      "           'wind': {'deg': 222.036, 'speed': 3.24}},\n",
      "          {'clouds': {'all': 1},\n",
      "           'dt': 1553911200,\n",
      "           'dt_txt': '2019-03-30 02:00:00',\n",
      "           'main': {'grnd_level': 994.086,\n",
      "                    'humidity': 100,\n",
      "                    'pressure': 1014.506,\n",
      "                    'sea_level': 1014.506,\n",
      "                    'temp': 273.319,\n",
      "                    'temp_kf': 0,\n",
      "                    'temp_max': 273.319,\n",
      "                    'temp_min': 273.319},\n",
      "           'sys': {'pod': 'n'},\n",
      "           'weather': [{'description': 'clear sky',\n",
      "                        'icon': '01n',\n",
      "                        'id': 800,\n",
      "                        'main': 'Clear'}],\n",
      "           'wind': {'deg': 226.127, 'speed': 3.16}},\n",
      "          {'clouds': {'all': 1},\n",
      "           'dt': 1553914800,\n",
      "           'dt_txt': '2019-03-30 03:00:00',\n",
      "           'main': {'grnd_level': 993.712,\n",
      "                    'humidity': 100,\n",
      "                    'pressure': 1014.118,\n",
      "                    'sea_level': 1014.118,\n",
      "                    'temp': 273.34,\n",
      "                    'temp_kf': 0,\n",
      "                    'temp_max': 273.34,\n",
      "                    'temp_min': 273.34},\n",
      "           'sys': {'pod': 'n'},\n",
      "           'weather': [{'description': 'clear sky',\n",
      "                        'icon': '01n',\n",
      "                        'id': 800,\n",
      "                        'main': 'Clear'}],\n",
      "           'wind': {'deg': 233.422, 'speed': 3.14}},\n",
      "          {'clouds': {'all': 1},\n",
      "           'dt': 1553918400,\n",
      "           'dt_txt': '2019-03-30 04:00:00',\n",
      "           'main': {'grnd_level': 993.522,\n",
      "                    'humidity': 100,\n",
      "                    'pressure': 1013.947,\n",
      "                    'sea_level': 1013.947,\n",
      "                    'temp': 273.707,\n",
      "                    'temp_kf': 0,\n",
      "                    'temp_max': 273.707,\n",
      "                    'temp_min': 273.707},\n",
      "           'sys': {'pod': 'd'},\n",
      "           'weather': [{'description': 'clear sky',\n",
      "                        'icon': '01d',\n",
      "                        'id': 800,\n",
      "                        'main': 'Clear'}],\n",
      "           'wind': {'deg': 244.245, 'speed': 3.29}},\n",
      "          {'clouds': {'all': 1},\n",
      "           'dt': 1553922000,\n",
      "           'dt_txt': '2019-03-30 05:00:00',\n",
      "           'main': {'grnd_level': 993.6,\n",
      "                    'humidity': 100,\n",
      "                    'pressure': 1013.873,\n",
      "                    'sea_level': 1013.873,\n",
      "                    'temp': 274.795,\n",
      "                    'temp_kf': 0,\n",
      "                    'temp_max': 274.795,\n",
      "                    'temp_min': 274.795},\n",
      "           'sys': {'pod': 'd'},\n",
      "           'weather': [{'description': 'clear sky',\n",
      "                        'icon': '01d',\n",
      "                        'id': 800,\n",
      "                        'main': 'Clear'}],\n",
      "           'wind': {'deg': 260.303, 'speed': 3.57}},\n",
      "          {'clouds': {'all': 16},\n",
      "           'dt': 1553925600,\n",
      "           'dt_txt': '2019-03-30 06:00:00',\n",
      "           'main': {'grnd_level': 993.761,\n",
      "                    'humidity': 100,\n",
      "                    'pressure': 1013.782,\n",
      "                    'sea_level': 1013.782,\n",
      "                    'temp': 275.777,\n",
      "                    'temp_kf': 0,\n",
      "                    'temp_max': 275.777,\n",
      "                    'temp_min': 275.777},\n",
      "           'sys': {'pod': 'd'},\n",
      "           'weather': [{'description': 'few clouds',\n",
      "                        'icon': '02d',\n",
      "                        'id': 801,\n",
      "                        'main': 'Clouds'}],\n",
      "           'wind': {'deg': 270.571, 'speed': 3.61}},\n",
      "          {'clouds': {'all': 99},\n",
      "           'dt': 1553929200,\n",
      "           'dt_txt': '2019-03-30 07:00:00',\n",
      "           'main': {'grnd_level': 993.637,\n",
      "                    'humidity': 100,\n",
      "                    'pressure': 1013.7,\n",
      "                    'sea_level': 1013.7,\n",
      "                    'temp': 275.819,\n",
      "                    'temp_kf': 0,\n",
      "                    'temp_max': 275.819,\n",
      "                    'temp_min': 275.819},\n",
      "           'rain': {'1h': 0.062},\n",
      "           'sys': {'pod': 'd'},\n",
      "           'weather': [{'description': 'light rain',\n",
      "                        'icon': '10d',\n",
      "                        'id': 500,\n",
      "                        'main': 'Rain'}],\n",
      "           'wind': {'deg': 264.201, 'speed': 3.44}},\n",
      "          {'clouds': {'all': 100},\n",
      "           'dt': 1553932800,\n",
      "           'dt_txt': '2019-03-30 08:00:00',\n",
      "           'main': {'grnd_level': 993.373,\n",
      "                    'humidity': 100,\n",
      "                    'pressure': 1013.518,\n",
      "                    'sea_level': 1013.518,\n",
      "                    'temp': 275.977,\n",
      "                    'temp_kf': 0,\n",
      "                    'temp_max': 275.977,\n",
      "                    'temp_min': 275.977},\n",
      "           'rain': {},\n",
      "           'sys': {'pod': 'd'},\n",
      "           'weather': [{'description': 'overcast clouds',\n",
      "                        'icon': '04d',\n",
      "                        'id': 804,\n",
      "                        'main': 'Clouds'}],\n",
      "           'wind': {'deg': 258.7, 'speed': 3.5}},\n",
      "          {'clouds': {'all': 100},\n",
      "           'dt': 1553936400,\n",
      "           'dt_txt': '2019-03-30 09:00:00',\n",
      "           'main': {'grnd_level': 993.063,\n",
      "                    'humidity': 100,\n",
      "                    'pressure': 1013.255,\n",
      "                    'sea_level': 1013.255,\n",
      "                    'temp': 276.604,\n",
      "                    'temp_kf': 0,\n",
      "                    'temp_max': 276.604,\n",
      "                    'temp_min': 276.604},\n",
      "           'rain': {'1h': 0.063},\n",
      "           'sys': {'pod': 'd'},\n",
      "           'weather': [{'description': 'light rain',\n",
      "                        'icon': '10d',\n",
      "                        'id': 500,\n",
      "                        'main': 'Rain'}],\n",
      "           'wind': {'deg': 256.131, 'speed': 3.41}},\n",
      "          {'clouds': {'all': 100},\n",
      "           'dt': 1553940000,\n",
      "           'dt_txt': '2019-03-30 10:00:00',\n",
      "           'main': {'grnd_level': 992.7,\n",
      "                    'humidity': 100,\n",
      "                    'pressure': 1012.961,\n",
      "                    'sea_level': 1012.961,\n",
      "                    'temp': 277.804,\n",
      "                    'temp_kf': 0,\n",
      "                    'temp_max': 277.804,\n",
      "                    'temp_min': 277.804},\n",
      "           'rain': {},\n",
      "           'sys': {'pod': 'd'},\n",
      "           'weather': [{'description': 'overcast clouds',\n",
      "                        'icon': '04d',\n",
      "                        'id': 804,\n",
      "                        'main': 'Clouds'}],\n",
      "           'wind': {'deg': 262.425, 'speed': 3.98}},\n",
      "          {'clouds': {'all': 100},\n",
      "           'dt': 1553943600,\n",
      "           'dt_txt': '2019-03-30 11:00:00',\n",
      "           'main': {'grnd_level': 992.55,\n",
      "                    'humidity': 100,\n",
      "                    'pressure': 1012.739,\n",
      "                    'sea_level': 1012.739,\n",
      "                    'temp': 277.804,\n",
      "                    'temp_kf': 0,\n",
      "                    'temp_max': 277.804,\n",
      "                    'temp_min': 277.804},\n",
      "           'rain': {},\n",
      "           'sys': {'pod': 'd'},\n",
      "           'weather': [{'description': 'overcast clouds',\n",
      "                        'icon': '04d',\n",
      "                        'id': 804,\n",
      "                        'main': 'Clouds'}],\n",
      "           'wind': {'deg': 266.821, 'speed': 4.22}},\n",
      "          {'clouds': {'all': 99},\n",
      "           'dt': 1553947200,\n",
      "           'dt_txt': '2019-03-30 12:00:00',\n",
      "           'main': {'grnd_level': 992.511,\n",
      "                    'humidity': 100,\n",
      "                    'pressure': 1012.455,\n",
      "                    'sea_level': 1012.455,\n",
      "                    'temp': 277.805,\n",
      "                    'temp_kf': 0,\n",
      "                    'temp_max': 277.805,\n",
      "                    'temp_min': 277.805},\n",
      "           'rain': {'1h': 0.063},\n",
      "           'sys': {'pod': 'd'},\n",
      "           'weather': [{'description': 'light rain',\n",
      "                        'icon': '10d',\n",
      "                        'id': 500,\n",
      "                        'main': 'Rain'}],\n",
      "           'wind': {'deg': 271.709, 'speed': 4.29}},\n",
      "          {'clouds': {'all': 100},\n",
      "           'dt': 1553950800,\n",
      "           'dt_txt': '2019-03-30 13:00:00',\n",
      "           'main': {'grnd_level': 992.464,\n",
      "                    'humidity': 100,\n",
      "                    'pressure': 1012.288,\n",
      "                    'sea_level': 1012.288,\n",
      "                    'temp': 277.631,\n",
      "                    'temp_kf': 0,\n",
      "                    'temp_max': 277.631,\n",
      "                    'temp_min': 277.631},\n",
      "           'sys': {'pod': 'd'},\n",
      "           'weather': [{'description': 'overcast clouds',\n",
      "                        'icon': '04d',\n",
      "                        'id': 804,\n",
      "                        'main': 'Clouds'}],\n",
      "           'wind': {'deg': 271.664, 'speed': 4.03}},\n",
      "          {'clouds': {'all': 100},\n",
      "           'dt': 1553954400,\n",
      "           'dt_txt': '2019-03-30 14:00:00',\n",
      "           'main': {'grnd_level': 992.699,\n",
      "                    'humidity': 100,\n",
      "                    'pressure': 1012.378,\n",
      "                    'sea_level': 1012.378,\n",
      "                    'temp': 277.448,\n",
      "                    'temp_kf': 0,\n",
      "                    'temp_max': 277.448,\n",
      "                    'temp_min': 277.448},\n",
      "           'sys': {'pod': 'd'},\n",
      "           'weather': [{'description': 'overcast clouds',\n",
      "                        'icon': '04d',\n",
      "                        'id': 804,\n",
      "                        'main': 'Clouds'}],\n",
      "           'wind': {'deg': 270.291, 'speed': 3.74}},\n",
      "          {'clouds': {'all': 98},\n",
      "           'dt': 1553958000,\n",
      "           'dt_txt': '2019-03-30 15:00:00',\n",
      "           'main': {'grnd_level': 992.953,\n",
      "                    'humidity': 100,\n",
      "                    'pressure': 1012.714,\n",
      "                    'sea_level': 1012.714,\n",
      "                    'temp': 277.1,\n",
      "                    'temp_kf': 0,\n",
      "                    'temp_max': 277.1,\n",
      "                    'temp_min': 277.1},\n",
      "           'sys': {'pod': 'd'},\n",
      "           'weather': [{'description': 'overcast clouds',\n",
      "                        'icon': '04d',\n",
      "                        'id': 804,\n",
      "                        'main': 'Clouds'}],\n",
      "           'wind': {'deg': 262.279, 'speed': 2.78}},\n",
      "          {'clouds': {'all': 89},\n",
      "           'dt': 1553961600,\n",
      "           'dt_txt': '2019-03-30 16:00:00',\n",
      "           'main': {'grnd_level': 993.009,\n",
      "                    'humidity': 100,\n",
      "                    'pressure': 1013.119,\n",
      "                    'sea_level': 1013.119,\n",
      "                    'temp': 276.152,\n",
      "                    'temp_kf': 0,\n",
      "                    'temp_max': 276.152,\n",
      "                    'temp_min': 276.152},\n",
      "           'sys': {'pod': 'd'},\n",
      "           'weather': [{'description': 'overcast clouds',\n",
      "                        'icon': '04d',\n",
      "                        'id': 804,\n",
      "                        'main': 'Clouds'}],\n",
      "           'wind': {'deg': 239.343, 'speed': 2.18}},\n",
      "          {'clouds': {'all': 85},\n",
      "           'dt': 1553965200,\n",
      "           'dt_txt': '2019-03-30 17:00:00',\n",
      "           'main': {'grnd_level': 993.402,\n",
      "                    'humidity': 100,\n",
      "                    'pressure': 1013.589,\n",
      "                    'sea_level': 1013.589,\n",
      "                    'temp': 275.7,\n",
      "                    'temp_kf': 0,\n",
      "                    'temp_max': 275.7,\n",
      "                    'temp_min': 275.7},\n",
      "           'sys': {'pod': 'n'},\n",
      "           'weather': [{'description': 'overcast clouds',\n",
      "                        'icon': '04n',\n",
      "                        'id': 804,\n",
      "                        'main': 'Clouds'}],\n",
      "           'wind': {'deg': 235.698, 'speed': 2.57}},\n",
      "          {'clouds': {'all': 82},\n",
      "           'dt': 1553968800,\n",
      "           'dt_txt': '2019-03-30 18:00:00',\n",
      "           'main': {'grnd_level': 993.592,\n",
      "                    'humidity': 100,\n",
      "                    'pressure': 1013.822,\n",
      "                    'sea_level': 1013.822,\n",
      "                    'temp': 275.721,\n",
      "                    'temp_kf': 0,\n",
      "                    'temp_max': 275.721,\n",
      "                    'temp_min': 275.721},\n",
      "           'sys': {'pod': 'n'},\n",
      "           'weather': [{'description': 'broken clouds',\n",
      "                        'icon': '04n',\n",
      "                        'id': 803,\n",
      "                        'main': 'Clouds'}],\n",
      "           'wind': {'deg': 243.718, 'speed': 2.8}},\n",
      "          {'clouds': {'all': 70},\n",
      "           'dt': 1553972400,\n",
      "           'dt_txt': '2019-03-30 19:00:00',\n",
      "           'main': {'grnd_level': 993.665,\n",
      "                    'humidity': 100,\n",
      "                    'pressure': 1013.862,\n",
      "                    'sea_level': 1013.862,\n",
      "                    'temp': 275.707,\n",
      "                    'temp_kf': 0,\n",
      "                    'temp_max': 275.707,\n",
      "                    'temp_min': 275.707},\n",
      "           'sys': {'pod': 'n'},\n",
      "           'weather': [{'description': 'broken clouds',\n",
      "                        'icon': '04n',\n",
      "                        'id': 803,\n",
      "                        'main': 'Clouds'}],\n",
      "           'wind': {'deg': 254, 'speed': 2.89}},\n",
      "          {'clouds': {'all': 69},\n",
      "           'dt': 1553976000,\n",
      "           'dt_txt': '2019-03-30 20:00:00',\n",
      "           'main': {'grnd_level': 993.639,\n",
      "                    'humidity': 100,\n",
      "                    'pressure': 1013.807,\n",
      "                    'sea_level': 1013.807,\n",
      "                    'temp': 275.581,\n",
      "                    'temp_kf': 0,\n",
      "                    'temp_max': 275.581,\n",
      "                    'temp_min': 275.581},\n",
      "           'sys': {'pod': 'n'},\n",
      "           'weather': [{'description': 'broken clouds',\n",
      "                        'icon': '04n',\n",
      "                        'id': 803,\n",
      "                        'main': 'Clouds'}],\n",
      "           'wind': {'deg': 258.86, 'speed': 2.91}},\n",
      "          {'clouds': {'all': 67},\n",
      "           'dt': 1553979600,\n",
      "           'dt_txt': '2019-03-30 21:00:00',\n",
      "           'main': {'grnd_level': 993.655,\n",
      "                    'humidity': 100,\n",
      "                    'pressure': 1013.801,\n",
      "                    'sea_level': 1013.801,\n",
      "                    'temp': 275.331,\n",
      "                    'temp_kf': 0,\n",
      "                    'temp_max': 275.331,\n",
      "                    'temp_min': 275.331},\n",
      "           'sys': {'pod': 'n'},\n",
      "           'weather': [{'description': 'broken clouds',\n",
      "                        'icon': '04n',\n",
      "                        'id': 803,\n",
      "                        'main': 'Clouds'}],\n",
      "           'wind': {'deg': 261.149, 'speed': 2.82}},\n",
      "          {'clouds': {'all': 64},\n",
      "           'dt': 1553983200,\n",
      "           'dt_txt': '2019-03-30 22:00:00',\n",
      "           'main': {'grnd_level': 993.69,\n",
      "                    'humidity': 100,\n",
      "                    'pressure': 1013.864,\n",
      "                    'sea_level': 1013.864,\n",
      "                    'temp': 274.931,\n",
      "                    'temp_kf': 0,\n",
      "                    'temp_max': 274.931,\n",
      "                    'temp_min': 274.931},\n",
      "           'sys': {'pod': 'n'},\n",
      "           'weather': [{'description': 'broken clouds',\n",
      "                        'icon': '04n',\n",
      "                        'id': 803,\n",
      "                        'main': 'Clouds'}],\n",
      "           'wind': {'deg': 260.435, 'speed': 2.66}},\n",
      "          {'clouds': {'all': 63},\n",
      "           'dt': 1553986800,\n",
      "           'dt_txt': '2019-03-30 23:00:00',\n",
      "           'main': {'grnd_level': 993.657,\n",
      "                    'humidity': 100,\n",
      "                    'pressure': 1013.837,\n",
      "                    'sea_level': 1013.837,\n",
      "                    'temp': 274.755,\n",
      "                    'temp_kf': 0,\n",
      "                    'temp_max': 274.755,\n",
      "                    'temp_min': 274.755},\n",
      "           'sys': {'pod': 'n'},\n",
      "           'weather': [{'description': 'broken clouds',\n",
      "                        'icon': '04n',\n",
      "                        'id': 803,\n",
      "                        'main': 'Clouds'}],\n",
      "           'wind': {'deg': 254.637, 'speed': 2.62}},\n",
      "          {'clouds': {'all': 62},\n",
      "           'dt': 1553990400,\n",
      "           'dt_txt': '2019-03-31 00:00:00',\n",
      "           'main': {'grnd_level': 993.692,\n",
      "                    'humidity': 100,\n",
      "                    'pressure': 1013.846,\n",
      "                    'sea_level': 1013.846,\n",
      "                    'temp': 274.585,\n",
      "                    'temp_kf': 0,\n",
      "                    'temp_max': 274.585,\n",
      "                    'temp_min': 274.585},\n",
      "           'sys': {'pod': 'n'},\n",
      "           'weather': [{'description': 'broken clouds',\n",
      "                        'icon': '04n',\n",
      "                        'id': 803,\n",
      "                        'main': 'Clouds'}],\n",
      "           'wind': {'deg': 245.748, 'speed': 2.65}},\n",
      "          {'clouds': {'all': 60},\n",
      "           'dt': 1553994000,\n",
      "           'dt_txt': '2019-03-31 01:00:00',\n",
      "           'main': {'grnd_level': 993.659,\n",
      "                    'humidity': 100,\n",
      "                    'pressure': 1013.843,\n",
      "                    'sea_level': 1013.843,\n",
      "                    'temp': 274.389,\n",
      "                    'temp_kf': 0,\n",
      "                    'temp_max': 274.389,\n",
      "                    'temp_min': 274.389},\n",
      "           'sys': {'pod': 'n'},\n",
      "           'weather': [{'description': 'broken clouds',\n",
      "                        'icon': '04n',\n",
      "                        'id': 803,\n",
      "                        'main': 'Clouds'}],\n",
      "           'wind': {'deg': 240.513, 'speed': 2.62}},\n",
      "          {'clouds': {'all': 67},\n",
      "           'dt': 1553997600,\n",
      "           'dt_txt': '2019-03-31 02:00:00',\n",
      "           'main': {'grnd_level': 993.532,\n",
      "                    'humidity': 100,\n",
      "                    'pressure': 1013.755,\n",
      "                    'sea_level': 1013.755,\n",
      "                    'temp': 274.265,\n",
      "                    'temp_kf': 0,\n",
      "                    'temp_max': 274.265,\n",
      "                    'temp_min': 274.265},\n",
      "           'sys': {'pod': 'n'},\n",
      "           'weather': [{'description': 'broken clouds',\n",
      "                        'icon': '04n',\n",
      "                        'id': 803,\n",
      "                        'main': 'Clouds'}],\n",
      "           'wind': {'deg': 238.267, 'speed': 2.57}},\n",
      "          {'clouds': {'all': 72},\n",
      "           'dt': 1554001200,\n",
      "           'dt_txt': '2019-03-31 03:00:00',\n",
      "           'main': {'grnd_level': 993.454,\n",
      "                    'humidity': 100,\n",
      "                    'pressure': 1013.723,\n",
      "                    'sea_level': 1013.723,\n",
      "                    'temp': 274.202,\n",
      "                    'temp_kf': 0,\n",
      "                    'temp_max': 274.202,\n",
      "                    'temp_min': 274.202},\n",
      "           'sys': {'pod': 'n'},\n",
      "           'weather': [{'description': 'broken clouds',\n",
      "                        'icon': '04n',\n",
      "                        'id': 803,\n",
      "                        'main': 'Clouds'}],\n",
      "           'wind': {'deg': 237.211, 'speed': 2.49}},\n",
      "          {'clouds': {'all': 74},\n",
      "           'dt': 1554004800,\n",
      "           'dt_txt': '2019-03-31 04:00:00',\n",
      "           'main': {'grnd_level': 993.422,\n",
      "                    'humidity': 100,\n",
      "                    'pressure': 1013.712,\n",
      "                    'sea_level': 1013.712,\n",
      "                    'temp': 274.433,\n",
      "                    'temp_kf': 0,\n",
      "                    'temp_max': 274.433,\n",
      "                    'temp_min': 274.433},\n",
      "           'sys': {'pod': 'd'},\n",
      "           'weather': [{'description': 'broken clouds',\n",
      "                        'icon': '04d',\n",
      "                        'id': 803,\n",
      "                        'main': 'Clouds'}],\n",
      "           'wind': {'deg': 234.88, 'speed': 2.42}},\n",
      "          {'clouds': {'all': 79},\n",
      "           'dt': 1554008400,\n",
      "           'dt_txt': '2019-03-31 05:00:00',\n",
      "           'main': {'grnd_level': 993.358,\n",
      "                    'humidity': 100,\n",
      "                    'pressure': 1013.555,\n",
      "                    'sea_level': 1013.555,\n",
      "                    'temp': 275.3,\n",
      "                    'temp_kf': 0,\n",
      "                    'temp_max': 275.3,\n",
      "                    'temp_min': 275.3},\n",
      "           'sys': {'pod': 'd'},\n",
      "           'weather': [{'description': 'broken clouds',\n",
      "                        'icon': '04d',\n",
      "                        'id': 803,\n",
      "                        'main': 'Clouds'}],\n",
      "           'wind': {'deg': 228.786, 'speed': 2.47}},\n",
      "          {'clouds': {'all': 83},\n",
      "           'dt': 1554012000,\n",
      "           'dt_txt': '2019-03-31 06:00:00',\n",
      "           'main': {'grnd_level': 993.192,\n",
      "                    'humidity': 100,\n",
      "                    'pressure': 1013.28,\n",
      "                    'sea_level': 1013.28,\n",
      "                    'temp': 276.752,\n",
      "                    'temp_kf': 0,\n",
      "                    'temp_max': 276.752,\n",
      "                    'temp_min': 276.752},\n",
      "           'sys': {'pod': 'd'},\n",
      "           'weather': [{'description': 'broken clouds',\n",
      "                        'icon': '04d',\n",
      "                        'id': 803,\n",
      "                        'main': 'Clouds'}],\n",
      "           'wind': {'deg': 223.432, 'speed': 2.82}},\n",
      "          {'clouds': {'all': 100},\n",
      "           'dt': 1554015600,\n",
      "           'dt_txt': '2019-03-31 07:00:00',\n",
      "           'main': {'grnd_level': 992.961,\n",
      "                    'humidity': 100,\n",
      "                    'pressure': 1013.087,\n",
      "                    'sea_level': 1013.087,\n",
      "                    'temp': 278.277,\n",
      "                    'temp_kf': 0,\n",
      "                    'temp_max': 278.277,\n",
      "                    'temp_min': 278.277},\n",
      "           'sys': {'pod': 'd'},\n",
      "           'weather': [{'description': 'overcast clouds',\n",
      "                        'icon': '04d',\n",
      "                        'id': 804,\n",
      "                        'main': 'Clouds'}],\n",
      "           'wind': {'deg': 218.663, 'speed': 3.19}},\n",
      "          {'clouds': {'all': 100},\n",
      "           'dt': 1554019200,\n",
      "           'dt_txt': '2019-03-31 08:00:00',\n",
      "           'main': {'grnd_level': 992.742,\n",
      "                    'humidity': 100,\n",
      "                    'pressure': 1012.831,\n",
      "                    'sea_level': 1012.831,\n",
      "                    'temp': 279.833,\n",
      "                    'temp_kf': 0,\n",
      "                    'temp_max': 279.833,\n",
      "                    'temp_min': 279.833},\n",
      "           'sys': {'pod': 'd'},\n",
      "           'weather': [{'description': 'overcast clouds',\n",
      "                        'icon': '04d',\n",
      "                        'id': 804,\n",
      "                        'main': 'Clouds'}],\n",
      "           'wind': {'deg': 217.859, 'speed': 3.54}},\n",
      "          {'clouds': {'all': 100},\n",
      "           'dt': 1554022800,\n",
      "           'dt_txt': '2019-03-31 09:00:00',\n",
      "           'main': {'grnd_level': 992.5,\n",
      "                    'humidity': 100,\n",
      "                    'pressure': 1012.452,\n",
      "                    'sea_level': 1012.452,\n",
      "                    'temp': 281.306,\n",
      "                    'temp_kf': 0,\n",
      "                    'temp_max': 281.306,\n",
      "                    'temp_min': 281.306},\n",
      "           'sys': {'pod': 'd'},\n",
      "           'weather': [{'description': 'overcast clouds',\n",
      "                        'icon': '04d',\n",
      "                        'id': 804,\n",
      "                        'main': 'Clouds'}],\n",
      "           'wind': {'deg': 222.601, 'speed': 4.02}},\n",
      "          {'clouds': {'all': 100},\n",
      "           'dt': 1554026400,\n",
      "           'dt_txt': '2019-03-31 10:00:00',\n",
      "           'main': {'grnd_level': 992.133,\n",
      "                    'humidity': 100,\n",
      "                    'pressure': 1012.038,\n",
      "                    'sea_level': 1012.038,\n",
      "                    'temp': 282.568,\n",
      "                    'temp_kf': 0,\n",
      "                    'temp_max': 282.568,\n",
      "                    'temp_min': 282.568},\n",
      "           'sys': {'pod': 'd'},\n",
      "           'weather': [{'description': 'overcast clouds',\n",
      "                        'icon': '04d',\n",
      "                        'id': 804,\n",
      "                        'main': 'Clouds'}],\n",
      "           'wind': {'deg': 228.197, 'speed': 4.48}},\n",
      "          {'clouds': {'all': 91},\n",
      "           'dt': 1554030000,\n",
      "           'dt_txt': '2019-03-31 11:00:00',\n",
      "           'main': {'grnd_level': 991.829,\n",
      "                    'humidity': 100,\n",
      "                    'pressure': 1011.796,\n",
      "                    'sea_level': 1011.796,\n",
      "                    'temp': 283.3,\n",
      "                    'temp_kf': 0,\n",
      "                    'temp_max': 283.3,\n",
      "                    'temp_min': 283.3},\n",
      "           'sys': {'pod': 'd'},\n",
      "           'weather': [{'description': 'overcast clouds',\n",
      "                        'icon': '04d',\n",
      "                        'id': 804,\n",
      "                        'main': 'Clouds'}],\n",
      "           'wind': {'deg': 229.969, 'speed': 4.72}},\n",
      "          {'clouds': {'all': 83},\n",
      "           'dt': 1554033600,\n",
      "           'dt_txt': '2019-03-31 12:00:00',\n",
      "           'main': {'grnd_level': 991.409,\n",
      "                    'humidity': 100,\n",
      "                    'pressure': 1011.418,\n",
      "                    'sea_level': 1011.418,\n",
      "                    'temp': 283.683,\n",
      "                    'temp_kf': 0,\n",
      "                    'temp_max': 283.683,\n",
      "                    'temp_min': 283.683},\n",
      "           'sys': {'pod': 'd'},\n",
      "           'weather': [{'description': 'broken clouds',\n",
      "                        'icon': '04d',\n",
      "                        'id': 803,\n",
      "                        'main': 'Clouds'}],\n",
      "           'wind': {'deg': 231.009, 'speed': 4.76}},\n",
      "          {'clouds': {'all': 48},\n",
      "           'dt': 1554037200,\n",
      "           'dt_txt': '2019-03-31 13:00:00',\n",
      "           'main': {'grnd_level': 991.069,\n",
      "                    'humidity': 100,\n",
      "                    'pressure': 1011.044,\n",
      "                    'sea_level': 1011.044,\n",
      "                    'temp': 283.821,\n",
      "                    'temp_kf': 0,\n",
      "                    'temp_max': 283.821,\n",
      "                    'temp_min': 283.821},\n",
      "           'sys': {'pod': 'd'},\n",
      "           'weather': [{'description': 'scattered clouds',\n",
      "                        'icon': '03d',\n",
      "                        'id': 802,\n",
      "                        'main': 'Clouds'}],\n",
      "           'wind': {'deg': 232.76, 'speed': 4.64}},\n",
      "          {'clouds': {'all': 49},\n",
      "           'dt': 1554040800,\n",
      "           'dt_txt': '2019-03-31 14:00:00',\n",
      "           'main': {'grnd_level': 990.762,\n",
      "                    'humidity': 100,\n",
      "                    'pressure': 1010.863,\n",
      "                    'sea_level': 1010.863,\n",
      "                    'temp': 283.735,\n",
      "                    'temp_kf': 0,\n",
      "                    'temp_max': 283.735,\n",
      "                    'temp_min': 283.735},\n",
      "           'sys': {'pod': 'd'},\n",
      "           'weather': [{'description': 'scattered clouds',\n",
      "                        'icon': '03d',\n",
      "                        'id': 802,\n",
      "                        'main': 'Clouds'}],\n",
      "           'wind': {'deg': 229.135, 'speed': 4.19}},\n",
      "          {'clouds': {'all': 50},\n",
      "           'dt': 1554044400,\n",
      "           'dt_txt': '2019-03-31 15:00:00',\n",
      "           'main': {'grnd_level': 990.638,\n",
      "                    'humidity': 100,\n",
      "                    'pressure': 1010.924,\n",
      "                    'sea_level': 1010.924,\n",
      "                    'temp': 282.8,\n",
      "                    'temp_kf': 0,\n",
      "                    'temp_max': 282.8,\n",
      "                    'temp_min': 282.8},\n",
      "           'sys': {'pod': 'd'},\n",
      "           'weather': [{'description': 'scattered clouds',\n",
      "                        'icon': '03d',\n",
      "                        'id': 802,\n",
      "                        'main': 'Clouds'}],\n",
      "           'wind': {'deg': 216.715, 'speed': 3.63}},\n",
      "          {'clouds': {'all': 61},\n",
      "           'dt': 1554048000,\n",
      "           'dt_txt': '2019-03-31 16:00:00',\n",
      "           'main': {'grnd_level': 990.871,\n",
      "                    'humidity': 100,\n",
      "                    'pressure': 1011.143,\n",
      "                    'sea_level': 1011.143,\n",
      "                    'temp': 282.095,\n",
      "                    'temp_kf': 0,\n",
      "                    'temp_max': 282.095,\n",
      "                    'temp_min': 282.095},\n",
      "           'rain': {'1h': 0.063},\n",
      "           'sys': {'pod': 'd'},\n",
      "           'weather': [{'description': 'light rain',\n",
      "                        'icon': '10d',\n",
      "                        'id': 500,\n",
      "                        'main': 'Rain'}],\n",
      "           'wind': {'deg': 221.046, 'speed': 4.29}},\n",
      "          {'clouds': {'all': 63},\n",
      "           'dt': 1554051600,\n",
      "           'dt_txt': '2019-03-31 17:00:00',\n",
      "           'main': {'grnd_level': 991.048,\n",
      "                    'humidity': 100,\n",
      "                    'pressure': 1011.332,\n",
      "                    'sea_level': 1011.332,\n",
      "                    'temp': 281.5,\n"
     ]
    },
    {
     "name": "stdout",
     "output_type": "stream",
     "text": [
      "                    'temp_kf': 0,\n",
      "                    'temp_max': 281.5,\n",
      "                    'temp_min': 281.5},\n",
      "           'rain': {},\n",
      "           'sys': {'pod': 'n'},\n",
      "           'weather': [{'description': 'broken clouds',\n",
      "                        'icon': '04n',\n",
      "                        'id': 803,\n",
      "                        'main': 'Clouds'}],\n",
      "           'wind': {'deg': 226.055, 'speed': 4.61}}],\n",
      " 'message': 0.0204}\n"
     ]
    }
   ],
   "source": [
    "from pprint import pprint\n",
    "\n",
    "pprint(data_dict)"
   ]
  },
  {
   "cell_type": "code",
   "execution_count": 61,
   "metadata": {},
   "outputs": [],
   "source": [
    "import altair"
   ]
  },
  {
   "cell_type": "code",
   "execution_count": 60,
   "metadata": {},
   "outputs": [
    {
     "ename": "ModuleNotFoundError",
     "evalue": "No module named 'matplotlib'",
     "output_type": "error",
     "traceback": [
      "\u001b[1;31m---------------------------------------------------------------------------\u001b[0m",
      "\u001b[1;31mModuleNotFoundError\u001b[0m                       Traceback (most recent call last)",
      "\u001b[1;32m<ipython-input-60-51e788afe6f2>\u001b[0m in \u001b[0;36m<module>\u001b[1;34m\u001b[0m\n\u001b[0;32m      1\u001b[0m \u001b[1;32mimport\u001b[0m \u001b[0mnumpy\u001b[0m \u001b[1;32mas\u001b[0m \u001b[0mnp\u001b[0m\u001b[1;33m\u001b[0m\u001b[1;33m\u001b[0m\u001b[0m\n\u001b[0;32m      2\u001b[0m \u001b[1;32mimport\u001b[0m \u001b[0mpandas\u001b[0m \u001b[1;32mas\u001b[0m \u001b[0mpd\u001b[0m\u001b[1;33m\u001b[0m\u001b[1;33m\u001b[0m\u001b[0m\n\u001b[1;32m----> 3\u001b[1;33m \u001b[1;32mimport\u001b[0m \u001b[0mmatplotlib\u001b[0m\u001b[1;33m.\u001b[0m\u001b[0mpyplot\u001b[0m \u001b[1;32mas\u001b[0m \u001b[0mplt\u001b[0m\u001b[1;33m\u001b[0m\u001b[1;33m\u001b[0m\u001b[0m\n\u001b[0m\u001b[0;32m      4\u001b[0m \u001b[0mget_ipython\u001b[0m\u001b[1;33m(\u001b[0m\u001b[1;33m)\u001b[0m\u001b[1;33m.\u001b[0m\u001b[0mrun_line_magic\u001b[0m\u001b[1;33m(\u001b[0m\u001b[1;34m'matplotlib'\u001b[0m\u001b[1;33m,\u001b[0m \u001b[1;34m'inline'\u001b[0m\u001b[1;33m)\u001b[0m\u001b[1;33m\u001b[0m\u001b[1;33m\u001b[0m\u001b[0m\n",
      "\u001b[1;31mModuleNotFoundError\u001b[0m: No module named 'matplotlib'"
     ]
    },
    {
     "name": "stdout",
     "output_type": "stream",
     "text": [
      "> \u001b[1;32m<ipython-input-60-51e788afe6f2>\u001b[0m(3)\u001b[0;36m<module>\u001b[1;34m()\u001b[0m\n",
      "\u001b[1;32m      1 \u001b[1;33m\u001b[1;32mimport\u001b[0m \u001b[0mnumpy\u001b[0m \u001b[1;32mas\u001b[0m \u001b[0mnp\u001b[0m\u001b[1;33m\u001b[0m\u001b[1;33m\u001b[0m\u001b[0m\n",
      "\u001b[0m\u001b[1;32m      2 \u001b[1;33m\u001b[1;32mimport\u001b[0m \u001b[0mpandas\u001b[0m \u001b[1;32mas\u001b[0m \u001b[0mpd\u001b[0m\u001b[1;33m\u001b[0m\u001b[1;33m\u001b[0m\u001b[0m\n",
      "\u001b[0m\u001b[1;32m----> 3 \u001b[1;33m\u001b[1;32mimport\u001b[0m \u001b[0mmatplotlib\u001b[0m\u001b[1;33m.\u001b[0m\u001b[0mpyplot\u001b[0m \u001b[1;32mas\u001b[0m \u001b[0mplt\u001b[0m\u001b[1;33m\u001b[0m\u001b[1;33m\u001b[0m\u001b[0m\n",
      "\u001b[0m\u001b[1;32m      4 \u001b[1;33m\u001b[0mget_ipython\u001b[0m\u001b[1;33m(\u001b[0m\u001b[1;33m)\u001b[0m\u001b[1;33m.\u001b[0m\u001b[0mrun_line_magic\u001b[0m\u001b[1;33m(\u001b[0m\u001b[1;34m'matplotlib'\u001b[0m\u001b[1;33m,\u001b[0m \u001b[1;34m'inline'\u001b[0m\u001b[1;33m)\u001b[0m\u001b[1;33m\u001b[0m\u001b[1;33m\u001b[0m\u001b[0m\n",
      "\u001b[0m\n",
      "ipdb> c\n"
     ]
    }
   ],
   "source": [
    "import numpy as np\n",
    "import pandas as pd\n",
    "import matplotlib.pyplot as plt\n",
    "%matplotlib inline"
   ]
  },
  {
   "cell_type": "code",
   "execution_count": 58,
   "metadata": {},
   "outputs": [],
   "source": [
    "food = pd.read_csv(\n",
    "    \"https://github.com/glyg/formation_IFPEN/raw/master/data/openfoodfacts_short.csv\", sep=',')"
   ]
  },
  {
   "cell_type": "code",
   "execution_count": 59,
   "metadata": {},
   "outputs": [
    {
     "ename": "NameError",
     "evalue": "name 'plt' is not defined",
     "output_type": "error",
     "traceback": [
      "\u001b[1;31m---------------------------------------------------------------------------\u001b[0m",
      "\u001b[1;31mNameError\u001b[0m                                 Traceback (most recent call last)",
      "\u001b[1;32m<ipython-input-59-8d5b4e00f5d0>\u001b[0m in \u001b[0;36m<module>\u001b[1;34m\u001b[0m\n\u001b[1;32m----> 1\u001b[1;33m \u001b[0mfig\u001b[0m\u001b[1;33m,\u001b[0m \u001b[0max\u001b[0m \u001b[1;33m=\u001b[0m \u001b[0mplt\u001b[0m\u001b[1;33m.\u001b[0m\u001b[0msubplots\u001b[0m\u001b[1;33m(\u001b[0m\u001b[1;33m)\u001b[0m\u001b[1;33m\u001b[0m\u001b[1;33m\u001b[0m\u001b[0m\n\u001b[0m\u001b[0;32m      2\u001b[0m \u001b[1;33m\u001b[0m\u001b[0m\n\u001b[0;32m      3\u001b[0m ax.scatter(\n\u001b[0;32m      4\u001b[0m     \u001b[0mfood\u001b[0m\u001b[1;33m[\u001b[0m\u001b[1;34m'energy_100g'\u001b[0m\u001b[1;33m]\u001b[0m\u001b[1;33m,\u001b[0m\u001b[1;33m\u001b[0m\u001b[1;33m\u001b[0m\u001b[0m\n\u001b[0;32m      5\u001b[0m     \u001b[0mfood\u001b[0m\u001b[1;33m[\u001b[0m\u001b[1;34m'sugars_100g'\u001b[0m\u001b[1;33m]\u001b[0m\u001b[1;33m,\u001b[0m\u001b[1;33m\u001b[0m\u001b[1;33m\u001b[0m\u001b[0m\n",
      "\u001b[1;31mNameError\u001b[0m: name 'plt' is not defined"
     ]
    },
    {
     "name": "stdout",
     "output_type": "stream",
     "text": [
      "> \u001b[1;32m<ipython-input-59-8d5b4e00f5d0>\u001b[0m(1)\u001b[0;36m<module>\u001b[1;34m()\u001b[0m\n",
      "\u001b[1;32m----> 1 \u001b[1;33m\u001b[0mfig\u001b[0m\u001b[1;33m,\u001b[0m \u001b[0max\u001b[0m \u001b[1;33m=\u001b[0m \u001b[0mplt\u001b[0m\u001b[1;33m.\u001b[0m\u001b[0msubplots\u001b[0m\u001b[1;33m(\u001b[0m\u001b[1;33m)\u001b[0m\u001b[1;33m\u001b[0m\u001b[1;33m\u001b[0m\u001b[0m\n",
      "\u001b[0m\u001b[1;32m      2 \u001b[1;33m\u001b[1;33m\u001b[0m\u001b[0m\n",
      "\u001b[0m\u001b[1;32m      3 \u001b[1;33max.scatter(\n",
      "\u001b[0m\u001b[1;32m      4 \u001b[1;33m    \u001b[0mfood\u001b[0m\u001b[1;33m[\u001b[0m\u001b[1;34m'energy_100g'\u001b[0m\u001b[1;33m]\u001b[0m\u001b[1;33m,\u001b[0m\u001b[1;33m\u001b[0m\u001b[1;33m\u001b[0m\u001b[0m\n",
      "\u001b[0m\u001b[1;32m      5 \u001b[1;33m    \u001b[0mfood\u001b[0m\u001b[1;33m[\u001b[0m\u001b[1;34m'sugars_100g'\u001b[0m\u001b[1;33m]\u001b[0m\u001b[1;33m,\u001b[0m\u001b[1;33m\u001b[0m\u001b[1;33m\u001b[0m\u001b[0m\n",
      "\u001b[0m\n",
      "ipdb> c\n"
     ]
    }
   ],
   "source": [
    "fig, ax = plt.subplots()\n",
    "\n",
    "ax.scatter(\n",
    "    food['energy_100g'],\n",
    "    food['sugars_100g'],\n",
    "    s=food['carbohydrates_100g'],\n",
    "    c=food['fat_100g'].clip(0, 50),\n",
    "    cmap=\"viridis\",\n",
    "    alpha=0.2\n",
    ")\n",
    "ax.set_xlabel(\"Energy for 100 g\", fontsize=14)\n",
    "ax.set_ylabel(\"Sugar content for 100 g\", fontsize=14)\n",
    "#ax.set_xscale(\"log\")\n",
    "#ax.set_xlim(10, 10000)\n",
    "ax.set_xlim(0, 4000)\n",
    "ax.set_ylim(0, 100)\n",
    "\n",
    "fig.set_size_inches(6, 6)"
   ]
  },
  {
   "cell_type": "code",
   "execution_count": null,
   "metadata": {},
   "outputs": [],
   "source": []
  }
 ],
 "metadata": {
  "kernelspec": {
   "display_name": "Python 3",
   "language": "python",
   "name": "python3"
  },
  "language_info": {
   "codemirror_mode": {
    "name": "ipython",
    "version": 3
   },
   "file_extension": ".py",
   "mimetype": "text/x-python",
   "name": "python",
   "nbconvert_exporter": "python",
   "pygments_lexer": "ipython3",
   "version": "3.7.4"
  }
 },
 "nbformat": 4,
 "nbformat_minor": 2
}
