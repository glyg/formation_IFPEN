{
 "cells": [
  {
   "cell_type": "markdown",
   "metadata": {},
   "source": [
    "# Visualisation 3D et widgets"
   ]
  },
  {
   "cell_type": "code",
   "execution_count": 1,
   "metadata": {},
   "outputs": [],
   "source": [
    "import numpy as np\n",
    "import pandas as pd\n",
    "import matplotlib.pyplot as plt\n",
    "import ipyvolume as ipv\n",
    "import ipywidgets as widgets\n",
    "\n",
    "from matplotlib import cm\n",
    "\n",
    "%matplotlib inline\n"
   ]
  },
  {
   "cell_type": "code",
   "execution_count": 17,
   "metadata": {},
   "outputs": [],
   "source": [
    "class Dog:\n",
    "    def __init__(self, name, age, weight, size):\n",
    "        self.name = name\n",
    "        self.age = age\n",
    "        self.weight = weight\n",
    "        self.size = size\n",
    "        self.bmi = self.weight / (self.size/100)**2\n",
    "        \n",
    "    def bak(self):\n",
    "        print('whoa')\n",
    "#     @property   \n",
    "#     def bmi(self):\n",
    "#         return self.weight / (self.size/100)**2\n",
    "        \n",
    "    \n",
    "    "
   ]
  },
  {
   "cell_type": "code",
   "execution_count": 18,
   "metadata": {},
   "outputs": [],
   "source": [
    "medor = Dog(\"Médor\", 3, 6, 85)"
   ]
  },
  {
   "cell_type": "code",
   "execution_count": 21,
   "metadata": {},
   "outputs": [
    {
     "data": {
      "text/plain": [
       "6.920415224913495"
      ]
     },
     "execution_count": 21,
     "metadata": {},
     "output_type": "execute_result"
    }
   ],
   "source": [
    "medor.weight -= 1\n",
    "medor.bmi\n"
   ]
  },
  {
   "cell_type": "code",
   "execution_count": 3,
   "metadata": {},
   "outputs": [],
   "source": [
    "cmap = cm.get_cmap(\"Reds_r\")\n",
    "\n",
    "def normalize(data):\n",
    "    return (data - data.min()) / (data.max() - data.min())"
   ]
  },
  {
   "cell_type": "code",
   "execution_count": 22,
   "metadata": {},
   "outputs": [],
   "source": [
    "low = np.quantile(col_data.yC12H26, 0.9)\n",
    "high = np.quantile(col_data.yC12H26, 1)\n"
   ]
  },
  {
   "cell_type": "code",
   "execution_count": 24,
   "metadata": {},
   "outputs": [
    {
     "data": {
      "text/plain": [
       "0.28376532"
      ]
     },
     "execution_count": 24,
     "metadata": {},
     "output_type": "execute_result"
    }
   ],
   "source": [
    "col_data.yC12H26.max()"
   ]
  },
  {
   "cell_type": "code",
   "execution_count": 19,
   "metadata": {},
   "outputs": [],
   "source": [
    "data_f = col_data[(col_data.yC12H26 > low) & (col_data.yC12H26 < high)]"
   ]
  },
  {
   "cell_type": "code",
   "execution_count": 20,
   "metadata": {},
   "outputs": [
    {
     "data": {
      "text/plain": [
       "(38882, 5)"
      ]
     },
     "execution_count": 20,
     "metadata": {},
     "output_type": "execute_result"
    }
   ],
   "source": [
    "data_f.shape"
   ]
  },
  {
   "cell_type": "code",
   "execution_count": 23,
   "metadata": {},
   "outputs": [],
   "source": [
    "import ipywidgets as widgets\n",
    "from ipywidgets import interact"
   ]
  },
  {
   "cell_type": "markdown",
   "metadata": {},
   "source": [
    "$$\n",
    "\\sum_\\infty x_i\n",
    "$$"
   ]
  },
  {
   "cell_type": "code",
   "execution_count": 50,
   "metadata": {},
   "outputs": [
    {
     "data": {
      "text/plain": [
       "'π égale 3.141593 '"
      ]
     },
     "execution_count": 50,
     "metadata": {},
     "output_type": "execute_result"
    }
   ],
   "source": [
    "f\"2 +2 égale {2 + 2} \"\n",
    "f\"π égale {np.pi:6f} \"\n"
   ]
  },
  {
   "cell_type": "code",
   "execution_count": null,
   "metadata": {},
   "outputs": [],
   "source": [
    "Ψ"
   ]
  },
  {
   "cell_type": "code",
   "execution_count": 48,
   "metadata": {},
   "outputs": [
    {
     "data": {
      "application/vnd.jupyter.widget-view+json": {
       "model_id": "d155dd9f58ef4cb8a949ec7e4412c18c",
       "version_major": 2,
       "version_minor": 0
      },
      "text/plain": [
       "interactive(children=(IntSlider(value=10, description='x', max=30, min=-30), Output()), _dom_classes=('widget-…"
      ]
     },
     "metadata": {},
     "output_type": "display_data"
    }
   ],
   "source": [
    "def f(x):\n",
    "    return x\n",
    "\n",
    "interact(f, x=widgets.IntSlider(min=-30, max=30, step=1, value=10));\n"
   ]
  },
  {
   "cell_type": "code",
   "execution_count": 24,
   "metadata": {},
   "outputs": [
    {
     "data": {
      "application/vnd.jupyter.widget-view+json": {
       "model_id": "20abb3e4978d411c99a1b08db3fc2f9d",
       "version_major": 2,
       "version_minor": 0
      },
      "text/plain": [
       "IntSlider(value=0)"
      ]
     },
     "metadata": {},
     "output_type": "display_data"
    }
   ],
   "source": [
    "\n",
    "w = widgets.IntSlider()\n",
    "display(w)\n"
   ]
  },
  {
   "cell_type": "code",
   "execution_count": 55,
   "metadata": {},
   "outputs": [
    {
     "data": {
      "application/vnd.jupyter.widget-view+json": {
       "model_id": "330359e9585444deb760e8a7afe944d0",
       "version_major": 2,
       "version_minor": 0
      },
      "text/plain": [
       "Button(description='Click Me!', style=ButtonStyle())"
      ]
     },
     "metadata": {},
     "output_type": "display_data"
    },
    {
     "name": "stdout",
     "output_type": "stream",
     "text": [
      "Button clicked.\n"
     ]
    }
   ],
   "source": [
    "from IPython.display import display\n",
    "button = widgets.Button(description=\"Click Me!\")\n",
    "#output = widgets.Output()\n",
    "\n",
    "display(button)#, output)\n",
    "\n",
    "def on_button_clicked(btn):\n",
    "    #with output:\n",
    "    btn.description = \"I was clicked\"\n",
    "    print(\"Button clicked.\")\n",
    "\n",
    "button.on_click(on_button_clicked)"
   ]
  },
  {
   "cell_type": "code",
   "execution_count": 54,
   "metadata": {},
   "outputs": [
    {
     "data": {
      "text/plain": [
       "'Click Me!'"
      ]
     },
     "execution_count": 54,
     "metadata": {},
     "output_type": "execute_result"
    }
   ],
   "source": [
    "button.description"
   ]
  },
  {
   "cell_type": "code",
   "execution_count": null,
   "metadata": {},
   "outputs": [],
   "source": []
  },
  {
   "cell_type": "code",
   "execution_count": null,
   "metadata": {},
   "outputs": [],
   "source": []
  },
  {
   "cell_type": "code",
   "execution_count": null,
   "metadata": {},
   "outputs": [],
   "source": []
  },
  {
   "cell_type": "code",
   "execution_count": 47,
   "metadata": {},
   "outputs": [
    {
     "name": "stdout",
     "output_type": "stream",
     "text": [
      "50\n"
     ]
    }
   ],
   "source": [
    "print(w.value)"
   ]
  },
  {
   "cell_type": "code",
   "execution_count": 31,
   "metadata": {},
   "outputs": [],
   "source": [
    "interact?"
   ]
  },
  {
   "cell_type": "code",
   "execution_count": 31,
   "metadata": {},
   "outputs": [],
   "source": [
    "data = pd.read_csv(\n",
    "    \"ifpen_data/SOLUTION3D/ASCII_COLUMN_FILE/sprayA000015_+1.40019e-03.col\",\n",
    "    sep=\"\\s+\", header=1)\n",
    "data.head()\n",
    "data[[\"x\", \"y\", \"z\"]] *= 1e3"
   ]
  },
  {
   "cell_type": "code",
   "execution_count": 44,
   "metadata": {},
   "outputs": [],
   "source": [
    "def slicer(data, sliced_col, quantile=0.9, num_points=500):\n",
    "    thresh = np.quantile(data[sliced_col], quantile)\n",
    "    data_f = (data[data[sliced_col] > thresh]\n",
    "              .sort_values(sliced_col)\n",
    "              .iloc[:num_points]\n",
    "              .reset_index())\n",
    "    return data_f\n",
    "\n",
    "\n",
    "class Slicer3D(widgets.VBox):\n",
    "    \n",
    "    \n",
    "    def __init__(self, data, sliced_col, quantile=0.9, num_points=500):\n",
    "        \n",
    "        self.data = data\n",
    "        self.sliced_col = sliced_col\n",
    "        \n",
    "        self.data_f = slicer(\n",
    "            self.data,\n",
    "            self.sliced_col,\n",
    "            quantile=quantile,\n",
    "            num_points=num_points\n",
    "        )\n",
    "        ipv.clear()\n",
    "        self.scatter = ipv.scatter(\n",
    "            x=data_f.x.to_numpy(),\n",
    "            y=data_f.y.to_numpy(),\n",
    "            z=data_f.z.to_numpy(),\n",
    "            size=0.5,\n",
    "            color=\"r\")\n",
    "        self.fig = ipv.gcf()\n",
    "        ipv.squarelim()\n",
    "\n",
    "        self.quant_setter = widgets.FloatSlider(value=0.9, min=0.01, max=0.99, step=0.01)\n",
    "        self.quant_setter.observe(self.slice_callback)\n",
    "\n",
    "        self.np_setter = widgets.IntSlider(value=500, min=10, max=2000)\n",
    "        self.np_setter.observe(self.slice_callback)\n",
    "        #self.widget = widgets.VBox([self.fig, self.quant_setter, self.np_setter])\n",
    "        widgets.VBox.__init__(self, [self.fig, self.quant_setter, self.np_setter])\n",
    "    \n",
    "    \n",
    "    def slice_callback(self, w):\n",
    "\n",
    "        self.data_f = slicer(\n",
    "            self.data,\n",
    "            self.sliced_col,\n",
    "            quantile=self.quant_setter.value,\n",
    "            num_points=self.np_setter.value\n",
    "        )\n",
    "\n",
    "        for coord in \"xyz\":\n",
    "            setattr(self.scatter, coord, self.data_f[coord])\n",
    "\n"
   ]
  },
  {
   "cell_type": "code",
   "execution_count": 45,
   "metadata": {},
   "outputs": [
    {
     "name": "stdout",
     "output_type": "stream",
     "text": [
      "Automatic pdb calling has been turned OFF\n"
     ]
    }
   ],
   "source": [
    "%pdb"
   ]
  },
  {
   "cell_type": "code",
   "execution_count": 46,
   "metadata": {},
   "outputs": [
    {
     "data": {
      "application/vnd.jupyter.widget-view+json": {
       "model_id": "dd833189b24045b189b4d51902600f3a",
       "version_major": 2,
       "version_minor": 0
      },
      "text/plain": [
       "VBox(children=(Figure(camera_center=[0.0, 0.0, 0.0], height=500, matrix_projection=[0.0, 0.0, 0.0, 0.0, 0.0, 0…"
      ]
     },
     "metadata": {},
     "output_type": "display_data"
    }
   ],
   "source": [
    "slicer3D = Slicer3D(data, \"x\")\n",
    "slicer3D.widget"
   ]
  },
  {
   "cell_type": "code",
   "execution_count": 60,
   "metadata": {},
   "outputs": [
    {
     "data": {
      "text/plain": [
       "ipyvolume.widgets.Figure"
      ]
     },
     "execution_count": 60,
     "metadata": {},
     "output_type": "execute_result"
    }
   ],
   "source": [
    "type(fig)"
   ]
  },
  {
   "cell_type": "code",
   "execution_count": 77,
   "metadata": {},
   "outputs": [],
   "source": [
    "scatter.x = data_f.x.to_numpy()*1e3\n",
    "scatter.y = data_f.y.to_numpy()*1e3\n",
    "scatter.z = data_f.z.to_numpy()*1e3\n"
   ]
  },
  {
   "cell_type": "code",
   "execution_count": 79,
   "metadata": {},
   "outputs": [],
   "source": [
    "from IPython.display import HTML"
   ]
  },
  {
   "cell_type": "code",
   "execution_count": 87,
   "metadata": {},
   "outputs": [
    {
     "data": {
      "application/vnd.jupyter.widget-view+json": {
       "model_id": "b802d31cb44540448c94492148686f5b",
       "version_major": 2,
       "version_minor": 0
      },
      "text/plain": [
       "HTML(value='<table border=\"1\" class=\"dataframe\">\\n  <thead>\\n    <tr style=\"text-align: right;\">\\n      <th></…"
      ]
     },
     "metadata": {},
     "output_type": "display_data"
    }
   ],
   "source": [
    "html = widgets.HTML(col_data.head().to_html())\n",
    "display(html)"
   ]
  },
  {
   "cell_type": "code",
   "execution_count": null,
   "metadata": {},
   "outputs": [],
   "source": []
  },
  {
   "cell_type": "code",
   "execution_count": 90,
   "metadata": {},
   "outputs": [],
   "source": [
    "html.value = col_data.head().to_html()"
   ]
  },
  {
   "cell_type": "code",
   "execution_count": 85,
   "metadata": {},
   "outputs": [
    {
     "data": {
      "application/vnd.jupyter.widget-view+json": {
       "model_id": "cdd7ab729c3542808b41eb996b91ca24",
       "version_major": 2,
       "version_minor": 0
      },
      "text/plain": [
       "HBox(children=(HTML(value='<table border=\"1\" class=\"dataframe\">\\n  <thead>\\n    <tr style=\"text-align: right;\"…"
      ]
     },
     "metadata": {},
     "output_type": "display_data"
    }
   ],
   "source": [
    "widgets.HBox([widgets.HTML(col_data.head().to_html()),])"
   ]
  },
  {
   "cell_type": "code",
   "execution_count": 4,
   "metadata": {},
   "outputs": [],
   "source": [
    "bins = pd.DataFrame(columns=list(\"xyz\"))\n",
    "for c in 'xyz':\n",
    "\n",
    "    col_data['c'+c], bins[c] = pd.cut(col_data[c], 60, retbins=True)\n",
    "    "
   ]
  },
  {
   "cell_type": "code",
   "execution_count": 12,
   "metadata": {},
   "outputs": [],
   "source": [
    "gridded = col_data.groupby(['cx', 'cy', 'cz'])['yC12H26'].mean()"
   ]
  },
  {
   "cell_type": "code",
   "execution_count": 8,
   "metadata": {},
   "outputs": [
    {
     "data": {
      "text/plain": [
       "216000"
      ]
     },
     "execution_count": 8,
     "metadata": {},
     "output_type": "execute_result"
    }
   ],
   "source": [
    "60 * 60 * 60"
   ]
  },
  {
   "cell_type": "code",
   "execution_count": 13,
   "metadata": {},
   "outputs": [],
   "source": [
    "gridded_ = gridded.replace(np.nan, 0).to_numpy().reshape((60, 60, 60))"
   ]
  },
  {
   "cell_type": "code",
   "execution_count": 14,
   "metadata": {},
   "outputs": [
    {
     "data": {
      "text/plain": [
       "True"
      ]
     },
     "execution_count": 14,
     "metadata": {},
     "output_type": "execute_result"
    }
   ],
   "source": [
    "np.all(np.isfinite(gridded_))"
   ]
  },
  {
   "cell_type": "code",
   "execution_count": 16,
   "metadata": {},
   "outputs": [
    {
     "name": "stderr",
     "output_type": "stream",
     "text": [
      "/home/humancoders/miniconda3/envs/ifpen/lib/python3.7/site-packages/ipyvolume/serialize.py:81: RuntimeWarning: invalid value encountered in true_divide\n",
      "  gradient = gradient / np.sqrt(gradient[0]**2 + gradient[1]**2 + gradient[2]**2)\n"
     ]
    },
    {
     "data": {
      "application/vnd.jupyter.widget-view+json": {
       "model_id": "bf55e63006814b4a8a812fd636993410",
       "version_major": 2,
       "version_minor": 0
      },
      "text/plain": [
       "VBox(children=(VBox(children=(HBox(children=(Label(value='levels:'), FloatSlider(value=0.1, max=1.0, step=0.00…"
      ]
     },
     "metadata": {},
     "output_type": "display_data"
    }
   ],
   "source": [
    "ipv.clear()\n",
    "ipv.volshow(gridded_)\n",
    "ipv.show()"
   ]
  },
  {
   "cell_type": "code",
   "execution_count": 9,
   "metadata": {},
   "outputs": [
    {
     "data": {
      "text/plain": [
       "(432023, 5)"
      ]
     },
     "execution_count": 9,
     "metadata": {},
     "output_type": "execute_result"
    }
   ],
   "source": [
    "col_data.shape"
   ]
  },
  {
   "cell_type": "code",
   "execution_count": 93,
   "metadata": {},
   "outputs": [
    {
     "name": "stdout",
     "output_type": "stream",
     "text": [
      "Collecting package metadata (current_repodata.json): ...working... done\n",
      "Solving environment: ...working... done\n",
      "\n",
      "## Package Plan ##\n",
      "\n",
      "  environment location: C:\\Users\\hcodeur1\\.conda\\envs\\formation\n",
      "\n",
      "  added / updated specs:\n",
      "    - pytables\n",
      "\n",
      "\n",
      "The following packages will be downloaded:\n",
      "\n",
      "    package                    |            build\n",
      "    ---------------------------|-----------------\n",
      "    numexpr-2.7.0              |   py37hdce8814_0         130 KB\n",
      "    ------------------------------------------------------------\n",
      "                                           Total:         130 KB\n",
      "\n",
      "The following NEW packages will be INSTALLED:\n",
      "\n",
      "  blosc              pkgs/main/win-32::blosc-1.16.3-h7bd577a_0\n",
      "  lzo                pkgs/main/win-32::lzo-2.10-h00ab751_2\n",
      "  mock               pkgs/main/win-32::mock-3.0.5-py37_0\n",
      "  numexpr            pkgs/main/win-32::numexpr-2.7.0-py37hdce8814_0\n",
      "  pytables           pkgs/main/win-32::pytables-3.5.2-py37h1da0976_1\n",
      "  snappy             pkgs/main/win-32::snappy-1.1.7-h8327587_3\n",
      "\n",
      "The following packages will be UPDATED:\n",
      "\n",
      "  ca-certificates    conda-forge::ca-certificates-2018.4.1~ --> pkgs/main::ca-certificates-2019.8.28-0\n",
      "\n",
      "\n",
      "\n",
      "Downloading and Extracting Packages\n",
      "\n",
      "numexpr-2.7.0        | 130 KB    |            |   0% \n",
      "numexpr-2.7.0        | 130 KB    | ########## | 100% \n",
      "Preparing transaction: ...working... done\n",
      "Verifying transaction: ...working... done\n",
      "Executing transaction: ...working... done\n",
      "\n",
      "Note: you may need to restart the kernel to use updated packages.\n"
     ]
    },
    {
     "name": "stderr",
     "output_type": "stream",
     "text": [
      "\n",
      "\n",
      "==> WARNING: A newer version of conda exists. <==\n",
      "  current version: 4.7.10\n",
      "  latest version: 4.7.12\n",
      "\n",
      "Please update conda by running\n",
      "\n",
      "    $ conda update -n base -c defaults conda\n",
      "\n",
      "\n"
     ]
    }
   ],
   "source": [
    "%conda install pytables"
   ]
  },
  {
   "cell_type": "code",
   "execution_count": 125,
   "metadata": {
    "scrolled": true
   },
   "outputs": [],
   "source": [
    "\n",
    "\n",
    "food = pd.read_csv(\n",
    "    \"https://github.com/glyg/formation_IFPEN/raw/master/data/openfoodfacts_short.csv\", sep=',')\n",
    "\n",
    "with pd.HDFStore('test.h5', mode='w') as store:\n",
    "    store.append('spray', col_data, format='table')\n",
    "    store.append('food', food,  format='table', data_columns=['fat_100g', 'sugars_100g'])\n"
   ]
  },
  {
   "cell_type": "code",
   "execution_count": 114,
   "metadata": {},
   "outputs": [],
   "source": [
    "import os\n",
    "import sys\n",
    "\n",
    "os.isfile()"
   ]
  },
  {
   "cell_type": "code",
   "execution_count": 127,
   "metadata": {},
   "outputs": [],
   "source": [
    "with pd.HDFStore('test.h5') as store:\n",
    "    food_ = store.select('food', where='fat_100g > 10 & sugars_100g > 20')"
   ]
  },
  {
   "cell_type": "code",
   "execution_count": 128,
   "metadata": {},
   "outputs": [
    {
     "data": {
      "text/plain": [
       "10.1"
      ]
     },
     "execution_count": 128,
     "metadata": {},
     "output_type": "execute_result"
    }
   ],
   "source": [
    "food_['fat_100g'].min()"
   ]
  },
  {
   "cell_type": "code",
   "execution_count": 131,
   "metadata": {},
   "outputs": [
    {
     "data": {
      "text/plain": [
       "(9758, 9)"
      ]
     },
     "execution_count": 131,
     "metadata": {},
     "output_type": "execute_result"
    }
   ],
   "source": [
    "food.shape"
   ]
  },
  {
   "cell_type": "code",
   "execution_count": 130,
   "metadata": {},
   "outputs": [
    {
     "data": {
      "text/plain": [
       "(1326, 9)"
      ]
     },
     "execution_count": 130,
     "metadata": {},
     "output_type": "execute_result"
    }
   ],
   "source": [
    "food_.shape"
   ]
  },
  {
   "cell_type": "code",
   "execution_count": 129,
   "metadata": {},
   "outputs": [
    {
     "data": {
      "text/plain": [
       "20.1"
      ]
     },
     "execution_count": 129,
     "metadata": {},
     "output_type": "execute_result"
    }
   ],
   "source": [
    "food_['sugars_100g'].min()"
   ]
  },
  {
   "cell_type": "code",
   "execution_count": 120,
   "metadata": {},
   "outputs": [],
   "source": [
    "import os\n",
    "if os.path.isfile('test.h5'):\n",
    "    os.remove('test.h5')"
   ]
  },
  {
   "cell_type": "code",
   "execution_count": 27,
   "metadata": {},
   "outputs": [],
   "source": [
    "from scipy.io import loadmat\n",
    "import numpy as np\n",
    "import pandas as pd"
   ]
  },
  {
   "cell_type": "code",
   "execution_count": 31,
   "metadata": {},
   "outputs": [],
   "source": [
    "mat = loadmat(\n",
    "    \"original_mono_Result_20171206_103120.3793.mat\",\n",
    "    squeeze_me=True,\n",
    "    chars_as_strings=True,\n",
    "    struct_as_record=False\n",
    ")\n"
   ]
  },
  {
   "cell_type": "code",
   "execution_count": 32,
   "metadata": {},
   "outputs": [
    {
     "data": {
      "text/plain": [
       "dict_keys(['__header__', '__version__', '__globals__', 'DnsAng', 'DnsCmb', 'DnsCrb', 'DnsEss', 'DnsMtr', 'DnsCyl', 'CycMtr', 'CycMoy', 'GrdPnt', 'GrdMRP'])"
      ]
     },
     "execution_count": 32,
     "metadata": {},
     "output_type": "execute_result"
    }
   ],
   "source": [
    "mat.keys()"
   ]
  },
  {
   "cell_type": "code",
   "execution_count": 39,
   "metadata": {},
   "outputs": [],
   "source": [
    "dnsmtr = mat['CycMtr']"
   ]
  },
  {
   "cell_type": "code",
   "execution_count": 40,
   "metadata": {},
   "outputs": [
    {
     "data": {
      "text/plain": [
       "array([[4.54747351e-14, 1.00000000e-01, 2.00000000e-01, ...,\n",
       "        7.19700000e+02, 7.19800000e+02, 7.19900000e+02],\n",
       "       [4.54747351e-14, 1.00000000e-01, 2.00000000e-01, ...,\n",
       "        7.19700000e+02, 7.19800000e+02, 7.19900000e+02],\n",
       "       [4.54747351e-14, 1.00000000e-01, 2.00000000e-01, ...,\n",
       "        7.19700000e+02, 7.19800000e+02, 7.19900000e+02],\n",
       "       ...,\n",
       "       [4.54747351e-14, 1.00000000e-01, 2.00000000e-01, ...,\n",
       "        7.19700000e+02, 7.19800000e+02, 7.19900000e+02],\n",
       "       [4.54747351e-14, 1.00000000e-01, 2.00000000e-01, ...,\n",
       "        7.19700000e+02, 7.19800000e+02, 7.19900000e+02],\n",
       "       [4.54747351e-14, 1.00000000e-01, 2.00000000e-01, ...,\n",
       "        7.19700000e+02, 7.19800000e+02, 7.19900000e+02]])"
      ]
     },
     "execution_count": 40,
     "metadata": {},
     "output_type": "execute_result"
    }
   ],
   "source": [
    "dnsmtr.AngVlb"
   ]
  },
  {
   "cell_type": "code",
   "execution_count": 7,
   "metadata": {},
   "outputs": [
    {
     "data": {
      "text/plain": [
       "array(('Standard', 'Constant', -0.3209504770099776, -0.16357159227541765, 0.0722, 0.08588068669810509, 0.08588068669810509, 0.08588068669810509, 0.08588068669810509, 0.08588068669810509, 0.00035160883959229315, 0.00035160883959229315, 0.00035160883959229315, 0.00035160883959229315, 0.00035160883959229315, 0.00035160883959229315, 0, -0.0005, -0.0005, 0, 0.13219999999999998, 0.04294, 179.84262111526544, 539.8426211152654, 0, 360, 3.078714485328365, 2.0000159920378455, -0.003782148260211801, 15.680117381557789, 0, 0, 0.004094154962084755, 0.019479714104836184, 0, 0.0068653, 0.00628102, 0.000123457, 2.395136431497539e-05, 0.00037556020390726845, 0.00037556020390726845, 2.3951364314975467e-05, 2.3951364314975467e-05, 4),\n",
       "      dtype=[('szTypGmt', 'O'), ('szVlmRef', 'O'), ('ADsxPMB', 'O'), ('ADsxPMH', 'O'), ('AlsCyl', 'O'), ('CrsPst', 'O'), ('CrsPstAdm', 'O'), ('CrsPstCmb', 'O'), ('CrsPstCmp', 'O'), ('CrsPstEch', 'O'), ('CylAdm', 'O'), ('CylCmb', 'O'), ('CylCmp', 'O'), ('CylEch', 'O'), ('CylMtr', 'O'), ('CylUnt', 'O'), ('DsxPst', 'O'), ('DsxTtl', 'O'), ('DsxVlb', 'O'), ('HtrChs', 'O'), ('LgrBll', 'O'), ('LgrMnv', 'O'), ('PMBCmp', 'O'), ('PMBEch', 'O'), ('PMHAdm', 'O'), ('PMHCmb', 'O'), ('RptBllMnv', 'O'), ('RptCrsMnv', 'O'), ('RptDsxBll', 'O'), ('RptVlm', 'O'), ('RptVlmCmp', 'O'), ('RptVlmEch', 'O'), ('SctCyl', 'O'), ('SrfChmPMB', 'O'), ('SrfChmPMH', 'O'), ('SrfCls', 'O'), ('SrfPst', 'O'), ('VlmCst', 'O'), ('VlmMrt', 'O'), ('VlmPMBCmp', 'O'), ('VlmPMBEch', 'O'), ('VlmPMHAdm', 'O'), ('VlmPMHCmb', 'O'), ('wTypMtr', 'O')])"
      ]
     },
     "execution_count": 7,
     "metadata": {},
     "output_type": "execute_result"
    }
   ],
   "source": [
    "dnsmtr"
   ]
  },
  {
   "cell_type": "code",
   "execution_count": 184,
   "metadata": {},
   "outputs": [
    {
     "name": "stdout",
     "output_type": "stream",
     "text": [
      "Collecting mat4py\n",
      "  Downloading https://files.pythonhosted.org/packages/25/a2/ec3feb146f6af699d85cf35d719463f2e2fb0d55864dd6d1d48cf0c756cd/mat4py-0.4.2-py2.py3-none-any.whl\n",
      "Installing collected packages: mat4py\n",
      "Successfully installed mat4py-0.4.2\n",
      "Note: you may need to restart the kernel to use updated packages.\n"
     ]
    }
   ],
   "source": [
    "%pip install mat4py"
   ]
  },
  {
   "cell_type": "code",
   "execution_count": 190,
   "metadata": {},
   "outputs": [],
   "source": [
    "from mat4py import loadmat"
   ]
  },
  {
   "cell_type": "code",
   "execution_count": null,
   "metadata": {},
   "outputs": [],
   "source": []
  },
  {
   "cell_type": "code",
   "execution_count": 179,
   "metadata": {},
   "outputs": [
    {
     "ename": "ValueError",
     "evalue": "If using all scalar values, you must pass an index",
     "output_type": "error",
     "traceback": [
      "\u001b[1;31m---------------------------------------------------------------------------\u001b[0m",
      "\u001b[1;31mValueError\u001b[0m                                Traceback (most recent call last)",
      "\u001b[1;32m<ipython-input-179-1e77a3a4e908>\u001b[0m in \u001b[0;36m<module>\u001b[1;34m\u001b[0m\n\u001b[1;32m----> 1\u001b[1;33m \u001b[0mpd\u001b[0m\u001b[1;33m.\u001b[0m\u001b[0mDataFrame\u001b[0m\u001b[1;33m(\u001b[0m\u001b[0mdnsmtr\u001b[0m\u001b[1;33m)\u001b[0m\u001b[1;33m\u001b[0m\u001b[1;33m\u001b[0m\u001b[0m\n\u001b[0m",
      "\u001b[1;32m~\\.conda\\envs\\formation\\lib\\site-packages\\pandas\\core\\frame.py\u001b[0m in \u001b[0;36m__init__\u001b[1;34m(self, data, index, columns, dtype, copy)\u001b[0m\n\u001b[0;32m    434\u001b[0m                 \u001b[1;32mif\u001b[0m \u001b[0mcolumns\u001b[0m \u001b[1;32mis\u001b[0m \u001b[1;32mNone\u001b[0m\u001b[1;33m:\u001b[0m\u001b[1;33m\u001b[0m\u001b[1;33m\u001b[0m\u001b[0m\n\u001b[0;32m    435\u001b[0m                     \u001b[0mcolumns\u001b[0m \u001b[1;33m=\u001b[0m \u001b[0mdata_columns\u001b[0m\u001b[1;33m\u001b[0m\u001b[1;33m\u001b[0m\u001b[0m\n\u001b[1;32m--> 436\u001b[1;33m                 \u001b[0mmgr\u001b[0m \u001b[1;33m=\u001b[0m \u001b[0minit_dict\u001b[0m\u001b[1;33m(\u001b[0m\u001b[0mdata\u001b[0m\u001b[1;33m,\u001b[0m \u001b[0mindex\u001b[0m\u001b[1;33m,\u001b[0m \u001b[0mcolumns\u001b[0m\u001b[1;33m,\u001b[0m \u001b[0mdtype\u001b[0m\u001b[1;33m=\u001b[0m\u001b[0mdtype\u001b[0m\u001b[1;33m)\u001b[0m\u001b[1;33m\u001b[0m\u001b[1;33m\u001b[0m\u001b[0m\n\u001b[0m\u001b[0;32m    437\u001b[0m             \u001b[1;32melif\u001b[0m \u001b[0mgetattr\u001b[0m\u001b[1;33m(\u001b[0m\u001b[0mdata\u001b[0m\u001b[1;33m,\u001b[0m \u001b[1;34m\"name\"\u001b[0m\u001b[1;33m,\u001b[0m \u001b[1;32mNone\u001b[0m\u001b[1;33m)\u001b[0m \u001b[1;32mis\u001b[0m \u001b[1;32mnot\u001b[0m \u001b[1;32mNone\u001b[0m\u001b[1;33m:\u001b[0m\u001b[1;33m\u001b[0m\u001b[1;33m\u001b[0m\u001b[0m\n\u001b[0;32m    438\u001b[0m                 \u001b[0mmgr\u001b[0m \u001b[1;33m=\u001b[0m \u001b[0minit_dict\u001b[0m\u001b[1;33m(\u001b[0m\u001b[1;33m{\u001b[0m\u001b[0mdata\u001b[0m\u001b[1;33m.\u001b[0m\u001b[0mname\u001b[0m\u001b[1;33m:\u001b[0m \u001b[0mdata\u001b[0m\u001b[1;33m}\u001b[0m\u001b[1;33m,\u001b[0m \u001b[0mindex\u001b[0m\u001b[1;33m,\u001b[0m \u001b[0mcolumns\u001b[0m\u001b[1;33m,\u001b[0m \u001b[0mdtype\u001b[0m\u001b[1;33m=\u001b[0m\u001b[0mdtype\u001b[0m\u001b[1;33m)\u001b[0m\u001b[1;33m\u001b[0m\u001b[1;33m\u001b[0m\u001b[0m\n",
      "\u001b[1;32m~\\.conda\\envs\\formation\\lib\\site-packages\\pandas\\core\\internals\\construction.py\u001b[0m in \u001b[0;36minit_dict\u001b[1;34m(data, index, columns, dtype)\u001b[0m\n\u001b[0;32m    229\u001b[0m             \u001b[1;31m# GH10856\u001b[0m\u001b[1;33m\u001b[0m\u001b[1;33m\u001b[0m\u001b[1;33m\u001b[0m\u001b[0m\n\u001b[0;32m    230\u001b[0m             \u001b[1;31m# raise ValueError if only scalars in dict\u001b[0m\u001b[1;33m\u001b[0m\u001b[1;33m\u001b[0m\u001b[1;33m\u001b[0m\u001b[0m\n\u001b[1;32m--> 231\u001b[1;33m             \u001b[0mindex\u001b[0m \u001b[1;33m=\u001b[0m \u001b[0mextract_index\u001b[0m\u001b[1;33m(\u001b[0m\u001b[0marrays\u001b[0m\u001b[1;33m[\u001b[0m\u001b[1;33m~\u001b[0m\u001b[0mmissing\u001b[0m\u001b[1;33m]\u001b[0m\u001b[1;33m)\u001b[0m\u001b[1;33m\u001b[0m\u001b[1;33m\u001b[0m\u001b[0m\n\u001b[0m\u001b[0;32m    232\u001b[0m         \u001b[1;32melse\u001b[0m\u001b[1;33m:\u001b[0m\u001b[1;33m\u001b[0m\u001b[1;33m\u001b[0m\u001b[0m\n\u001b[0;32m    233\u001b[0m             \u001b[0mindex\u001b[0m \u001b[1;33m=\u001b[0m \u001b[0mensure_index\u001b[0m\u001b[1;33m(\u001b[0m\u001b[0mindex\u001b[0m\u001b[1;33m)\u001b[0m\u001b[1;33m\u001b[0m\u001b[1;33m\u001b[0m\u001b[0m\n",
      "\u001b[1;32m~\\.conda\\envs\\formation\\lib\\site-packages\\pandas\\core\\internals\\construction.py\u001b[0m in \u001b[0;36mextract_index\u001b[1;34m(data)\u001b[0m\n\u001b[0;32m    356\u001b[0m \u001b[1;33m\u001b[0m\u001b[0m\n\u001b[0;32m    357\u001b[0m         \u001b[1;32mif\u001b[0m \u001b[1;32mnot\u001b[0m \u001b[0mindexes\u001b[0m \u001b[1;32mand\u001b[0m \u001b[1;32mnot\u001b[0m \u001b[0mraw_lengths\u001b[0m\u001b[1;33m:\u001b[0m\u001b[1;33m\u001b[0m\u001b[1;33m\u001b[0m\u001b[0m\n\u001b[1;32m--> 358\u001b[1;33m             \u001b[1;32mraise\u001b[0m \u001b[0mValueError\u001b[0m\u001b[1;33m(\u001b[0m\u001b[1;34m\"If using all scalar values, you must pass an index\"\u001b[0m\u001b[1;33m)\u001b[0m\u001b[1;33m\u001b[0m\u001b[1;33m\u001b[0m\u001b[0m\n\u001b[0m\u001b[0;32m    359\u001b[0m \u001b[1;33m\u001b[0m\u001b[0m\n\u001b[0;32m    360\u001b[0m         \u001b[1;32mif\u001b[0m \u001b[0mhave_series\u001b[0m\u001b[1;33m:\u001b[0m\u001b[1;33m\u001b[0m\u001b[1;33m\u001b[0m\u001b[0m\n",
      "\u001b[1;31mValueError\u001b[0m: If using all scalar values, you must pass an index"
     ]
    }
   ],
   "source": [
    "pd.DataFrame(dnsmtr)"
   ]
  },
  {
   "cell_type": "code",
   "execution_count": 173,
   "metadata": {},
   "outputs": [
    {
     "data": {
      "text/plain": [
       "array(('Standard', 'Constant', -0.3209504770099776, -0.16357159227541765, 0.0722, 0.08588068669810509, 0.08588068669810509, 0.08588068669810509, 0.08588068669810509, 0.08588068669810509, 0.00035160883959229315, 0.00035160883959229315, 0.00035160883959229315, 0.00035160883959229315, 0.00035160883959229315, 0.00035160883959229315, 0, -0.0005, -0.0005, 0, 0.13219999999999998, 0.04294, 179.84262111526544, 539.8426211152654, 0, 360, 3.078714485328365, 2.0000159920378455, -0.003782148260211801, 15.680117381557789, 0, 0, 0.004094154962084755, 0.019479714104836184, 0, 0.0068653, 0.00628102, 0.000123457, 2.395136431497539e-05, 0.00037556020390726845, 0.00037556020390726845, 2.3951364314975467e-05, 2.3951364314975467e-05, 4),\n",
       "      dtype=[('szTypGmt', 'O'), ('szVlmRef', 'O'), ('ADsxPMB', 'O'), ('ADsxPMH', 'O'), ('AlsCyl', 'O'), ('CrsPst', 'O'), ('CrsPstAdm', 'O'), ('CrsPstCmb', 'O'), ('CrsPstCmp', 'O'), ('CrsPstEch', 'O'), ('CylAdm', 'O'), ('CylCmb', 'O'), ('CylCmp', 'O'), ('CylEch', 'O'), ('CylMtr', 'O'), ('CylUnt', 'O'), ('DsxPst', 'O'), ('DsxTtl', 'O'), ('DsxVlb', 'O'), ('HtrChs', 'O'), ('LgrBll', 'O'), ('LgrMnv', 'O'), ('PMBCmp', 'O'), ('PMBEch', 'O'), ('PMHAdm', 'O'), ('PMHCmb', 'O'), ('RptBllMnv', 'O'), ('RptCrsMnv', 'O'), ('RptDsxBll', 'O'), ('RptVlm', 'O'), ('RptVlmCmp', 'O'), ('RptVlmEch', 'O'), ('SctCyl', 'O'), ('SrfChmPMB', 'O'), ('SrfChmPMH', 'O'), ('SrfCls', 'O'), ('SrfPst', 'O'), ('VlmCst', 'O'), ('VlmMrt', 'O'), ('VlmPMBCmp', 'O'), ('VlmPMBEch', 'O'), ('VlmPMHAdm', 'O'), ('VlmPMHCmb', 'O'), ('wTypMtr', 'O')])"
      ]
     },
     "execution_count": 173,
     "metadata": {},
     "output_type": "execute_result"
    }
   ],
   "source": [
    "np.asarray(dnsmtr)"
   ]
  },
  {
   "cell_type": "code",
   "execution_count": 143,
   "metadata": {},
   "outputs": [
    {
     "data": {
      "text/plain": [
       "(300, 7200)"
      ]
     },
     "execution_count": 143,
     "metadata": {},
     "output_type": "execute_result"
    }
   ],
   "source": [
    "mat['CycMtr'][0, 0][0].shape"
   ]
  },
  {
   "cell_type": "code",
   "execution_count": 149,
   "metadata": {},
   "outputs": [
    {
     "data": {
      "image/png": "[encoded data removed]",
      "text/plain": [
       "<Figure size 432x288 with 10 Axes>"
      ]
     },
     "metadata": {
      "needs_background": "light"
     },
     "output_type": "display_data"
    }
   ],
   "source": [
    "fig, axes = plt.subplots(10, 1, sharex=True)\n",
    "for i, ax in enumerate(axes):\n",
    "    ax.imshow(mat['CycMtr'][0, 0][i])\n"
   ]
  },
  {
   "cell_type": "code",
   "execution_count": 151,
   "metadata": {},
   "outputs": [
    {
     "data": {
      "text/plain": [
       "dict_keys(['__header__', '__version__', '__globals__', 'DnsAng', 'DnsCmb', 'DnsCrb', 'DnsEss', 'DnsMtr', 'DnsCyl', 'CycMtr', 'CycMoy', 'GrdPnt', 'GrdMRP'])"
      ]
     },
     "execution_count": 151,
     "metadata": {},
     "output_type": "execute_result"
    }
   ],
   "source": [
    "mat.keys()"
   ]
  },
  {
   "cell_type": "code",
   "execution_count": 154,
   "metadata": {},
   "outputs": [
    {
     "data": {
      "text/plain": [
       "[]"
      ]
     },
     "execution_count": 154,
     "metadata": {},
     "output_type": "execute_result"
    }
   ],
   "source": [
    "mat['__globals__']"
   ]
  },
  {
   "cell_type": "code",
   "execution_count": null,
   "metadata": {},
   "outputs": [],
   "source": []
  }
 ],
 "metadata": {
  "kernelspec": {
   "display_name": "Python 3",
   "language": "python",
   "name": "python3"
  },
  "language_info": {
   "codemirror_mode": {
    "name": "ipython",
    "version": 3
   },
   "file_extension": ".py",
   "mimetype": "text/x-python",
   "name": "python",
   "nbconvert_exporter": "python",
   "pygments_lexer": "ipython3",
   "version": "3.7.4"
  }
 },
 "nbformat": 4,
 "nbformat_minor": 2
}
